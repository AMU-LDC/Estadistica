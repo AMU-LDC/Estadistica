{
 "cells": [
  {
   "cell_type": "code",
   "execution_count": 5,
   "metadata": {},
   "outputs": [],
   "source": [
    "library(ggplot2)\n",
    "options(repr.plot.height=4,repr.plot.width=6)"
   ]
  },
  {
   "cell_type": "markdown",
   "metadata": {},
   "source": [
    "Cargar los datos en un dataframe llamado: airbnb"
   ]
  },
  {
   "cell_type": "code",
   "execution_count": 6,
   "metadata": {},
   "outputs": [],
   "source": [
    "airbnb<-read.csv('data//airbnb.csv',sep = ',')"
   ]
  },
  {
   "cell_type": "markdown",
   "metadata": {},
   "source": [
    "Mostrar las primeras 6 filas del dataframe"
   ]
  },
  {
   "cell_type": "code",
   "execution_count": 7,
   "metadata": {
    "scrolled": true
   },
   "outputs": [
    {
     "data": {
      "text/html": [
       "<table>\n",
       "<caption>A data.frame: 6 × 13</caption>\n",
       "<thead>\n",
       "\t<tr><th></th><th scope=col>Zipcode</th><th scope=col>Neighbourhood.Cleansed</th><th scope=col>Property.Type</th><th scope=col>Room.Type</th><th scope=col>Accommodates</th><th scope=col>Bathrooms</th><th scope=col>Bedrooms</th><th scope=col>Beds</th><th scope=col>Bed.Type</th><th scope=col>Amenities</th><th scope=col>Square.Feet</th><th scope=col>Price</th><th scope=col>Review.Scores.Rating</th></tr>\n",
       "\t<tr><th></th><th scope=col>&lt;fct&gt;</th><th scope=col>&lt;fct&gt;</th><th scope=col>&lt;fct&gt;</th><th scope=col>&lt;fct&gt;</th><th scope=col>&lt;int&gt;</th><th scope=col>&lt;dbl&gt;</th><th scope=col>&lt;int&gt;</th><th scope=col>&lt;int&gt;</th><th scope=col>&lt;fct&gt;</th><th scope=col>&lt;fct&gt;</th><th scope=col>&lt;int&gt;</th><th scope=col>&lt;int&gt;</th><th scope=col>&lt;int&gt;</th></tr>\n",
       "</thead>\n",
       "<tbody>\n",
       "\t<tr><th scope=row>1</th><td>28004</td><td>Universidad</td><td>Apartment</td><td>Private room   </td><td>2</td><td>2</td><td>1</td><td>1</td><td>Real Bed</td><td>TV,Wireless Internet,Kitchen,Pets allowed,Pets live on this property,Buzzer/wireless intercom,Heating,Suitable for events,Washer,First aid kit,Essentials,Lock on bedroom door,Iron                                                                                                                                                                             </td><td> NA</td><td>35</td><td> NA</td></tr>\n",
       "\t<tr><th scope=row>2</th><td>28004</td><td>Universidad</td><td>Apartment</td><td>Entire home/apt</td><td>6</td><td>1</td><td>3</td><td>5</td><td>Real Bed</td><td>TV,Internet,Wireless Internet,Air conditioning,Kitchen,Indoor fireplace,Heating,Family/kid friendly,Washer,Dryer,Smoke detector,Carbon monoxide detector,Essentials,Shampoo                                                                                                                                                                                     </td><td> NA</td><td>92</td><td> 96</td></tr>\n",
       "\t<tr><th scope=row>3</th><td>28004</td><td>Universidad</td><td>Apartment</td><td>Entire home/apt</td><td>3</td><td>1</td><td>2</td><td>2</td><td>Real Bed</td><td>TV,Internet,Wireless Internet,Air conditioning,Kitchen,Doorman,Heating,Family/kid friendly,Washer,Essentials,Shampoo,Hangers,Hair dryer,Iron,Laptop friendly workspace                                                                                                                                                                                          </td><td> NA</td><td>55</td><td> 91</td></tr>\n",
       "\t<tr><th scope=row>4</th><td>28004</td><td>Universidad</td><td>Loft     </td><td>Entire home/apt</td><td>3</td><td>2</td><td>1</td><td>1</td><td>Real Bed</td><td>TV,Internet,Wireless Internet,Air conditioning,Kitchen,Pets allowed,Breakfast,Elevator in building,Indoor fireplace,Buzzer/wireless intercom,Heating,Washer,Essentials,Shampoo,Hangers,Hair dryer,Iron,Laptop friendly workspace,translation missing: en.hosting_amenity_49,translation missing: en.hosting_amenity_50                                          </td><td> NA</td><td>60</td><td>100</td></tr>\n",
       "\t<tr><th scope=row>5</th><td>28015</td><td>Universidad</td><td>Apartment</td><td>Entire home/apt</td><td>5</td><td>1</td><td>1</td><td>1</td><td>Real Bed</td><td>TV,Wireless Internet,Air conditioning,Kitchen,Smoking allowed,Pets allowed,Elevator in building,Heating,Family/kid friendly,Washer,Essentials,Iron                                                                                                                                                                                                              </td><td>538</td><td>75</td><td> 90</td></tr>\n",
       "\t<tr><th scope=row>6</th><td>28004</td><td>Universidad</td><td>Apartment</td><td>Entire home/apt</td><td>2</td><td>1</td><td>0</td><td>1</td><td>Real Bed</td><td>TV,Cable TV,Internet,Wireless Internet,Air conditioning,Wheelchair accessible,Kitchen,Doorman,Elevator in building,Buzzer/wireless intercom,Heating,Washer,Smoke detector,Carbon monoxide detector,First aid kit,Safety card,Fire extinguisher,Essentials,Shampoo,24-hour check-in,Hangers,Hair dryer,Iron,Laptop friendly workspace,Self Check-In,Doorman Entry</td><td> NA</td><td>55</td><td> 95</td></tr>\n",
       "</tbody>\n",
       "</table>\n"
      ],
      "text/latex": [
       "A data.frame: 6 × 13\n",
       "\\begin{tabular}{r|lllllllllllll}\n",
       "  & Zipcode & Neighbourhood.Cleansed & Property.Type & Room.Type & Accommodates & Bathrooms & Bedrooms & Beds & Bed.Type & Amenities & Square.Feet & Price & Review.Scores.Rating\\\\\n",
       "  & <fct> & <fct> & <fct> & <fct> & <int> & <dbl> & <int> & <int> & <fct> & <fct> & <int> & <int> & <int>\\\\\n",
       "\\hline\n",
       "\t1 & 28004 & Universidad & Apartment & Private room    & 2 & 2 & 1 & 1 & Real Bed & TV,Wireless Internet,Kitchen,Pets allowed,Pets live on this property,Buzzer/wireless intercom,Heating,Suitable for events,Washer,First aid kit,Essentials,Lock on bedroom door,Iron                                                                                                                                                                              &  NA & 35 &  NA\\\\\n",
       "\t2 & 28004 & Universidad & Apartment & Entire home/apt & 6 & 1 & 3 & 5 & Real Bed & TV,Internet,Wireless Internet,Air conditioning,Kitchen,Indoor fireplace,Heating,Family/kid friendly,Washer,Dryer,Smoke detector,Carbon monoxide detector,Essentials,Shampoo                                                                                                                                                                                      &  NA & 92 &  96\\\\\n",
       "\t3 & 28004 & Universidad & Apartment & Entire home/apt & 3 & 1 & 2 & 2 & Real Bed & TV,Internet,Wireless Internet,Air conditioning,Kitchen,Doorman,Heating,Family/kid friendly,Washer,Essentials,Shampoo,Hangers,Hair dryer,Iron,Laptop friendly workspace                                                                                                                                                                                           &  NA & 55 &  91\\\\\n",
       "\t4 & 28004 & Universidad & Loft      & Entire home/apt & 3 & 2 & 1 & 1 & Real Bed & TV,Internet,Wireless Internet,Air conditioning,Kitchen,Pets allowed,Breakfast,Elevator in building,Indoor fireplace,Buzzer/wireless intercom,Heating,Washer,Essentials,Shampoo,Hangers,Hair dryer,Iron,Laptop friendly workspace,translation missing: en.hosting\\_amenity\\_49,translation missing: en.hosting\\_amenity\\_50                                           &  NA & 60 & 100\\\\\n",
       "\t5 & 28015 & Universidad & Apartment & Entire home/apt & 5 & 1 & 1 & 1 & Real Bed & TV,Wireless Internet,Air conditioning,Kitchen,Smoking allowed,Pets allowed,Elevator in building,Heating,Family/kid friendly,Washer,Essentials,Iron                                                                                                                                                                                                               & 538 & 75 &  90\\\\\n",
       "\t6 & 28004 & Universidad & Apartment & Entire home/apt & 2 & 1 & 0 & 1 & Real Bed & TV,Cable TV,Internet,Wireless Internet,Air conditioning,Wheelchair accessible,Kitchen,Doorman,Elevator in building,Buzzer/wireless intercom,Heating,Washer,Smoke detector,Carbon monoxide detector,First aid kit,Safety card,Fire extinguisher,Essentials,Shampoo,24-hour check-in,Hangers,Hair dryer,Iron,Laptop friendly workspace,Self Check-In,Doorman Entry &  NA & 55 &  95\\\\\n",
       "\\end{tabular}\n"
      ],
      "text/markdown": [
       "\n",
       "A data.frame: 6 × 13\n",
       "\n",
       "| <!--/--> | Zipcode &lt;fct&gt; | Neighbourhood.Cleansed &lt;fct&gt; | Property.Type &lt;fct&gt; | Room.Type &lt;fct&gt; | Accommodates &lt;int&gt; | Bathrooms &lt;dbl&gt; | Bedrooms &lt;int&gt; | Beds &lt;int&gt; | Bed.Type &lt;fct&gt; | Amenities &lt;fct&gt; | Square.Feet &lt;int&gt; | Price &lt;int&gt; | Review.Scores.Rating &lt;int&gt; |\n",
       "|---|---|---|---|---|---|---|---|---|---|---|---|---|---|\n",
       "| 1 | 28004 | Universidad | Apartment | Private room    | 2 | 2 | 1 | 1 | Real Bed | TV,Wireless Internet,Kitchen,Pets allowed,Pets live on this property,Buzzer/wireless intercom,Heating,Suitable for events,Washer,First aid kit,Essentials,Lock on bedroom door,Iron                                                                                                                                                                              |  NA | 35 |  NA |\n",
       "| 2 | 28004 | Universidad | Apartment | Entire home/apt | 6 | 1 | 3 | 5 | Real Bed | TV,Internet,Wireless Internet,Air conditioning,Kitchen,Indoor fireplace,Heating,Family/kid friendly,Washer,Dryer,Smoke detector,Carbon monoxide detector,Essentials,Shampoo                                                                                                                                                                                      |  NA | 92 |  96 |\n",
       "| 3 | 28004 | Universidad | Apartment | Entire home/apt | 3 | 1 | 2 | 2 | Real Bed | TV,Internet,Wireless Internet,Air conditioning,Kitchen,Doorman,Heating,Family/kid friendly,Washer,Essentials,Shampoo,Hangers,Hair dryer,Iron,Laptop friendly workspace                                                                                                                                                                                           |  NA | 55 |  91 |\n",
       "| 4 | 28004 | Universidad | Loft      | Entire home/apt | 3 | 2 | 1 | 1 | Real Bed | TV,Internet,Wireless Internet,Air conditioning,Kitchen,Pets allowed,Breakfast,Elevator in building,Indoor fireplace,Buzzer/wireless intercom,Heating,Washer,Essentials,Shampoo,Hangers,Hair dryer,Iron,Laptop friendly workspace,translation missing: en.hosting_amenity_49,translation missing: en.hosting_amenity_50                                           |  NA | 60 | 100 |\n",
       "| 5 | 28015 | Universidad | Apartment | Entire home/apt | 5 | 1 | 1 | 1 | Real Bed | TV,Wireless Internet,Air conditioning,Kitchen,Smoking allowed,Pets allowed,Elevator in building,Heating,Family/kid friendly,Washer,Essentials,Iron                                                                                                                                                                                                               | 538 | 75 |  90 |\n",
       "| 6 | 28004 | Universidad | Apartment | Entire home/apt | 2 | 1 | 0 | 1 | Real Bed | TV,Cable TV,Internet,Wireless Internet,Air conditioning,Wheelchair accessible,Kitchen,Doorman,Elevator in building,Buzzer/wireless intercom,Heating,Washer,Smoke detector,Carbon monoxide detector,First aid kit,Safety card,Fire extinguisher,Essentials,Shampoo,24-hour check-in,Hangers,Hair dryer,Iron,Laptop friendly workspace,Self Check-In,Doorman Entry |  NA | 55 |  95 |\n",
       "\n"
      ],
      "text/plain": [
       "  Zipcode Neighbourhood.Cleansed Property.Type Room.Type       Accommodates\n",
       "1 28004   Universidad            Apartment     Private room    2           \n",
       "2 28004   Universidad            Apartment     Entire home/apt 6           \n",
       "3 28004   Universidad            Apartment     Entire home/apt 3           \n",
       "4 28004   Universidad            Loft          Entire home/apt 3           \n",
       "5 28015   Universidad            Apartment     Entire home/apt 5           \n",
       "6 28004   Universidad            Apartment     Entire home/apt 2           \n",
       "  Bathrooms Bedrooms Beds Bed.Type\n",
       "1 2         1        1    Real Bed\n",
       "2 1         3        5    Real Bed\n",
       "3 1         2        2    Real Bed\n",
       "4 2         1        1    Real Bed\n",
       "5 1         1        1    Real Bed\n",
       "6 1         0        1    Real Bed\n",
       "  Amenities                                                                                                                                                                                                                                                                                                                                                       \n",
       "1 TV,Wireless Internet,Kitchen,Pets allowed,Pets live on this property,Buzzer/wireless intercom,Heating,Suitable for events,Washer,First aid kit,Essentials,Lock on bedroom door,Iron                                                                                                                                                                             \n",
       "2 TV,Internet,Wireless Internet,Air conditioning,Kitchen,Indoor fireplace,Heating,Family/kid friendly,Washer,Dryer,Smoke detector,Carbon monoxide detector,Essentials,Shampoo                                                                                                                                                                                     \n",
       "3 TV,Internet,Wireless Internet,Air conditioning,Kitchen,Doorman,Heating,Family/kid friendly,Washer,Essentials,Shampoo,Hangers,Hair dryer,Iron,Laptop friendly workspace                                                                                                                                                                                          \n",
       "4 TV,Internet,Wireless Internet,Air conditioning,Kitchen,Pets allowed,Breakfast,Elevator in building,Indoor fireplace,Buzzer/wireless intercom,Heating,Washer,Essentials,Shampoo,Hangers,Hair dryer,Iron,Laptop friendly workspace,translation missing: en.hosting_amenity_49,translation missing: en.hosting_amenity_50                                          \n",
       "5 TV,Wireless Internet,Air conditioning,Kitchen,Smoking allowed,Pets allowed,Elevator in building,Heating,Family/kid friendly,Washer,Essentials,Iron                                                                                                                                                                                                              \n",
       "6 TV,Cable TV,Internet,Wireless Internet,Air conditioning,Wheelchair accessible,Kitchen,Doorman,Elevator in building,Buzzer/wireless intercom,Heating,Washer,Smoke detector,Carbon monoxide detector,First aid kit,Safety card,Fire extinguisher,Essentials,Shampoo,24-hour check-in,Hangers,Hair dryer,Iron,Laptop friendly workspace,Self Check-In,Doorman Entry\n",
       "  Square.Feet Price Review.Scores.Rating\n",
       "1  NA         35     NA                 \n",
       "2  NA         92     96                 \n",
       "3  NA         55     91                 \n",
       "4  NA         60    100                 \n",
       "5 538         75     90                 \n",
       "6  NA         55     95                 "
      ]
     },
     "metadata": {},
     "output_type": "display_data"
    }
   ],
   "source": [
    "head(airbnb)"
   ]
  },
  {
   "cell_type": "markdown",
   "metadata": {},
   "source": [
    "Renombrar las columnas de la siguiente forma:\n",
    "\n",
    "| Nombre original | Nuevo nombre |\n",
    "| - | - |\n",
    "| Zipcode | CodigoPostal |\n",
    "| Neighbourhood.Cleansed | Barrio |\n",
    "| Property.Type\t| TipoPropiedad |\n",
    "| Room.Type | TipoAlquiler |\n",
    "| Accommodates | MaxOcupantes |\n",
    "| Bathrooms\t| NumBanyos |\n",
    "| Bedrooms\t| NumDormitorios |\n",
    "| Beds\t|  NumCamas |\n",
    "| Bed.Type\t| TipoCama |\n",
    "| Amenities | Comodidades |\n",
    "| Square.Feet | PiesCuadrados |\n",
    "| Price\t| Precio |\n",
    "| Review.Scores.Rating | Puntuacion |"
   ]
  },
  {
   "cell_type": "code",
   "execution_count": 8,
   "metadata": {},
   "outputs": [
    {
     "data": {
      "text/html": [
       "<table>\n",
       "<caption>A data.frame: 6 × 13</caption>\n",
       "<thead>\n",
       "\t<tr><th></th><th scope=col>CodigoPostal</th><th scope=col>Barrio</th><th scope=col>TipoPropiedad</th><th scope=col>TipoAlquiler</th><th scope=col>MaxOcupantes</th><th scope=col>NumBanyos</th><th scope=col>NumDormitorios</th><th scope=col>NumCamas</th><th scope=col>TipoCama</th><th scope=col>Comodidades</th><th scope=col>PiesCuadrados</th><th scope=col>Precio</th><th scope=col>Puntuacion</th></tr>\n",
       "\t<tr><th></th><th scope=col>&lt;fct&gt;</th><th scope=col>&lt;fct&gt;</th><th scope=col>&lt;fct&gt;</th><th scope=col>&lt;fct&gt;</th><th scope=col>&lt;int&gt;</th><th scope=col>&lt;dbl&gt;</th><th scope=col>&lt;int&gt;</th><th scope=col>&lt;int&gt;</th><th scope=col>&lt;fct&gt;</th><th scope=col>&lt;fct&gt;</th><th scope=col>&lt;int&gt;</th><th scope=col>&lt;int&gt;</th><th scope=col>&lt;int&gt;</th></tr>\n",
       "</thead>\n",
       "<tbody>\n",
       "\t<tr><th scope=row>1</th><td>28004</td><td>Universidad</td><td>Apartment</td><td>Private room   </td><td>2</td><td>2</td><td>1</td><td>1</td><td>Real Bed</td><td>TV,Wireless Internet,Kitchen,Pets allowed,Pets live on this property,Buzzer/wireless intercom,Heating,Suitable for events,Washer,First aid kit,Essentials,Lock on bedroom door,Iron                                                                                                                                                                             </td><td> NA</td><td>35</td><td> NA</td></tr>\n",
       "\t<tr><th scope=row>2</th><td>28004</td><td>Universidad</td><td>Apartment</td><td>Entire home/apt</td><td>6</td><td>1</td><td>3</td><td>5</td><td>Real Bed</td><td>TV,Internet,Wireless Internet,Air conditioning,Kitchen,Indoor fireplace,Heating,Family/kid friendly,Washer,Dryer,Smoke detector,Carbon monoxide detector,Essentials,Shampoo                                                                                                                                                                                     </td><td> NA</td><td>92</td><td> 96</td></tr>\n",
       "\t<tr><th scope=row>3</th><td>28004</td><td>Universidad</td><td>Apartment</td><td>Entire home/apt</td><td>3</td><td>1</td><td>2</td><td>2</td><td>Real Bed</td><td>TV,Internet,Wireless Internet,Air conditioning,Kitchen,Doorman,Heating,Family/kid friendly,Washer,Essentials,Shampoo,Hangers,Hair dryer,Iron,Laptop friendly workspace                                                                                                                                                                                          </td><td> NA</td><td>55</td><td> 91</td></tr>\n",
       "\t<tr><th scope=row>4</th><td>28004</td><td>Universidad</td><td>Loft     </td><td>Entire home/apt</td><td>3</td><td>2</td><td>1</td><td>1</td><td>Real Bed</td><td>TV,Internet,Wireless Internet,Air conditioning,Kitchen,Pets allowed,Breakfast,Elevator in building,Indoor fireplace,Buzzer/wireless intercom,Heating,Washer,Essentials,Shampoo,Hangers,Hair dryer,Iron,Laptop friendly workspace,translation missing: en.hosting_amenity_49,translation missing: en.hosting_amenity_50                                          </td><td> NA</td><td>60</td><td>100</td></tr>\n",
       "\t<tr><th scope=row>5</th><td>28015</td><td>Universidad</td><td>Apartment</td><td>Entire home/apt</td><td>5</td><td>1</td><td>1</td><td>1</td><td>Real Bed</td><td>TV,Wireless Internet,Air conditioning,Kitchen,Smoking allowed,Pets allowed,Elevator in building,Heating,Family/kid friendly,Washer,Essentials,Iron                                                                                                                                                                                                              </td><td>538</td><td>75</td><td> 90</td></tr>\n",
       "\t<tr><th scope=row>6</th><td>28004</td><td>Universidad</td><td>Apartment</td><td>Entire home/apt</td><td>2</td><td>1</td><td>0</td><td>1</td><td>Real Bed</td><td>TV,Cable TV,Internet,Wireless Internet,Air conditioning,Wheelchair accessible,Kitchen,Doorman,Elevator in building,Buzzer/wireless intercom,Heating,Washer,Smoke detector,Carbon monoxide detector,First aid kit,Safety card,Fire extinguisher,Essentials,Shampoo,24-hour check-in,Hangers,Hair dryer,Iron,Laptop friendly workspace,Self Check-In,Doorman Entry</td><td> NA</td><td>55</td><td> 95</td></tr>\n",
       "</tbody>\n",
       "</table>\n"
      ],
      "text/latex": [
       "A data.frame: 6 × 13\n",
       "\\begin{tabular}{r|lllllllllllll}\n",
       "  & CodigoPostal & Barrio & TipoPropiedad & TipoAlquiler & MaxOcupantes & NumBanyos & NumDormitorios & NumCamas & TipoCama & Comodidades & PiesCuadrados & Precio & Puntuacion\\\\\n",
       "  & <fct> & <fct> & <fct> & <fct> & <int> & <dbl> & <int> & <int> & <fct> & <fct> & <int> & <int> & <int>\\\\\n",
       "\\hline\n",
       "\t1 & 28004 & Universidad & Apartment & Private room    & 2 & 2 & 1 & 1 & Real Bed & TV,Wireless Internet,Kitchen,Pets allowed,Pets live on this property,Buzzer/wireless intercom,Heating,Suitable for events,Washer,First aid kit,Essentials,Lock on bedroom door,Iron                                                                                                                                                                              &  NA & 35 &  NA\\\\\n",
       "\t2 & 28004 & Universidad & Apartment & Entire home/apt & 6 & 1 & 3 & 5 & Real Bed & TV,Internet,Wireless Internet,Air conditioning,Kitchen,Indoor fireplace,Heating,Family/kid friendly,Washer,Dryer,Smoke detector,Carbon monoxide detector,Essentials,Shampoo                                                                                                                                                                                      &  NA & 92 &  96\\\\\n",
       "\t3 & 28004 & Universidad & Apartment & Entire home/apt & 3 & 1 & 2 & 2 & Real Bed & TV,Internet,Wireless Internet,Air conditioning,Kitchen,Doorman,Heating,Family/kid friendly,Washer,Essentials,Shampoo,Hangers,Hair dryer,Iron,Laptop friendly workspace                                                                                                                                                                                           &  NA & 55 &  91\\\\\n",
       "\t4 & 28004 & Universidad & Loft      & Entire home/apt & 3 & 2 & 1 & 1 & Real Bed & TV,Internet,Wireless Internet,Air conditioning,Kitchen,Pets allowed,Breakfast,Elevator in building,Indoor fireplace,Buzzer/wireless intercom,Heating,Washer,Essentials,Shampoo,Hangers,Hair dryer,Iron,Laptop friendly workspace,translation missing: en.hosting\\_amenity\\_49,translation missing: en.hosting\\_amenity\\_50                                           &  NA & 60 & 100\\\\\n",
       "\t5 & 28015 & Universidad & Apartment & Entire home/apt & 5 & 1 & 1 & 1 & Real Bed & TV,Wireless Internet,Air conditioning,Kitchen,Smoking allowed,Pets allowed,Elevator in building,Heating,Family/kid friendly,Washer,Essentials,Iron                                                                                                                                                                                                               & 538 & 75 &  90\\\\\n",
       "\t6 & 28004 & Universidad & Apartment & Entire home/apt & 2 & 1 & 0 & 1 & Real Bed & TV,Cable TV,Internet,Wireless Internet,Air conditioning,Wheelchair accessible,Kitchen,Doorman,Elevator in building,Buzzer/wireless intercom,Heating,Washer,Smoke detector,Carbon monoxide detector,First aid kit,Safety card,Fire extinguisher,Essentials,Shampoo,24-hour check-in,Hangers,Hair dryer,Iron,Laptop friendly workspace,Self Check-In,Doorman Entry &  NA & 55 &  95\\\\\n",
       "\\end{tabular}\n"
      ],
      "text/markdown": [
       "\n",
       "A data.frame: 6 × 13\n",
       "\n",
       "| <!--/--> | CodigoPostal &lt;fct&gt; | Barrio &lt;fct&gt; | TipoPropiedad &lt;fct&gt; | TipoAlquiler &lt;fct&gt; | MaxOcupantes &lt;int&gt; | NumBanyos &lt;dbl&gt; | NumDormitorios &lt;int&gt; | NumCamas &lt;int&gt; | TipoCama &lt;fct&gt; | Comodidades &lt;fct&gt; | PiesCuadrados &lt;int&gt; | Precio &lt;int&gt; | Puntuacion &lt;int&gt; |\n",
       "|---|---|---|---|---|---|---|---|---|---|---|---|---|---|\n",
       "| 1 | 28004 | Universidad | Apartment | Private room    | 2 | 2 | 1 | 1 | Real Bed | TV,Wireless Internet,Kitchen,Pets allowed,Pets live on this property,Buzzer/wireless intercom,Heating,Suitable for events,Washer,First aid kit,Essentials,Lock on bedroom door,Iron                                                                                                                                                                              |  NA | 35 |  NA |\n",
       "| 2 | 28004 | Universidad | Apartment | Entire home/apt | 6 | 1 | 3 | 5 | Real Bed | TV,Internet,Wireless Internet,Air conditioning,Kitchen,Indoor fireplace,Heating,Family/kid friendly,Washer,Dryer,Smoke detector,Carbon monoxide detector,Essentials,Shampoo                                                                                                                                                                                      |  NA | 92 |  96 |\n",
       "| 3 | 28004 | Universidad | Apartment | Entire home/apt | 3 | 1 | 2 | 2 | Real Bed | TV,Internet,Wireless Internet,Air conditioning,Kitchen,Doorman,Heating,Family/kid friendly,Washer,Essentials,Shampoo,Hangers,Hair dryer,Iron,Laptop friendly workspace                                                                                                                                                                                           |  NA | 55 |  91 |\n",
       "| 4 | 28004 | Universidad | Loft      | Entire home/apt | 3 | 2 | 1 | 1 | Real Bed | TV,Internet,Wireless Internet,Air conditioning,Kitchen,Pets allowed,Breakfast,Elevator in building,Indoor fireplace,Buzzer/wireless intercom,Heating,Washer,Essentials,Shampoo,Hangers,Hair dryer,Iron,Laptop friendly workspace,translation missing: en.hosting_amenity_49,translation missing: en.hosting_amenity_50                                           |  NA | 60 | 100 |\n",
       "| 5 | 28015 | Universidad | Apartment | Entire home/apt | 5 | 1 | 1 | 1 | Real Bed | TV,Wireless Internet,Air conditioning,Kitchen,Smoking allowed,Pets allowed,Elevator in building,Heating,Family/kid friendly,Washer,Essentials,Iron                                                                                                                                                                                                               | 538 | 75 |  90 |\n",
       "| 6 | 28004 | Universidad | Apartment | Entire home/apt | 2 | 1 | 0 | 1 | Real Bed | TV,Cable TV,Internet,Wireless Internet,Air conditioning,Wheelchair accessible,Kitchen,Doorman,Elevator in building,Buzzer/wireless intercom,Heating,Washer,Smoke detector,Carbon monoxide detector,First aid kit,Safety card,Fire extinguisher,Essentials,Shampoo,24-hour check-in,Hangers,Hair dryer,Iron,Laptop friendly workspace,Self Check-In,Doorman Entry |  NA | 55 |  95 |\n",
       "\n"
      ],
      "text/plain": [
       "  CodigoPostal Barrio      TipoPropiedad TipoAlquiler    MaxOcupantes NumBanyos\n",
       "1 28004        Universidad Apartment     Private room    2            2        \n",
       "2 28004        Universidad Apartment     Entire home/apt 6            1        \n",
       "3 28004        Universidad Apartment     Entire home/apt 3            1        \n",
       "4 28004        Universidad Loft          Entire home/apt 3            2        \n",
       "5 28015        Universidad Apartment     Entire home/apt 5            1        \n",
       "6 28004        Universidad Apartment     Entire home/apt 2            1        \n",
       "  NumDormitorios NumCamas TipoCama\n",
       "1 1              1        Real Bed\n",
       "2 3              5        Real Bed\n",
       "3 2              2        Real Bed\n",
       "4 1              1        Real Bed\n",
       "5 1              1        Real Bed\n",
       "6 0              1        Real Bed\n",
       "  Comodidades                                                                                                                                                                                                                                                                                                                                                     \n",
       "1 TV,Wireless Internet,Kitchen,Pets allowed,Pets live on this property,Buzzer/wireless intercom,Heating,Suitable for events,Washer,First aid kit,Essentials,Lock on bedroom door,Iron                                                                                                                                                                             \n",
       "2 TV,Internet,Wireless Internet,Air conditioning,Kitchen,Indoor fireplace,Heating,Family/kid friendly,Washer,Dryer,Smoke detector,Carbon monoxide detector,Essentials,Shampoo                                                                                                                                                                                     \n",
       "3 TV,Internet,Wireless Internet,Air conditioning,Kitchen,Doorman,Heating,Family/kid friendly,Washer,Essentials,Shampoo,Hangers,Hair dryer,Iron,Laptop friendly workspace                                                                                                                                                                                          \n",
       "4 TV,Internet,Wireless Internet,Air conditioning,Kitchen,Pets allowed,Breakfast,Elevator in building,Indoor fireplace,Buzzer/wireless intercom,Heating,Washer,Essentials,Shampoo,Hangers,Hair dryer,Iron,Laptop friendly workspace,translation missing: en.hosting_amenity_49,translation missing: en.hosting_amenity_50                                          \n",
       "5 TV,Wireless Internet,Air conditioning,Kitchen,Smoking allowed,Pets allowed,Elevator in building,Heating,Family/kid friendly,Washer,Essentials,Iron                                                                                                                                                                                                              \n",
       "6 TV,Cable TV,Internet,Wireless Internet,Air conditioning,Wheelchair accessible,Kitchen,Doorman,Elevator in building,Buzzer/wireless intercom,Heating,Washer,Smoke detector,Carbon monoxide detector,First aid kit,Safety card,Fire extinguisher,Essentials,Shampoo,24-hour check-in,Hangers,Hair dryer,Iron,Laptop friendly workspace,Self Check-In,Doorman Entry\n",
       "  PiesCuadrados Precio Puntuacion\n",
       "1  NA           35      NA       \n",
       "2  NA           92      96       \n",
       "3  NA           55      91       \n",
       "4  NA           60     100       \n",
       "5 538           75      90       \n",
       "6  NA           55      95       "
      ]
     },
     "metadata": {},
     "output_type": "display_data"
    }
   ],
   "source": [
    "newnames<-c(\"CodigoPostal\",\"Barrio\",\"TipoPropiedad\",\"TipoAlquiler\",\"MaxOcupantes\",\"NumBanyos\",\n",
    "\"NumDormitorios\",\"NumCamas\",\"TipoCama\",\"Comodidades\",\"PiesCuadrados\",\"Precio\",\"Puntuacion\")\n",
    "names(airbnb)<-newnames\n",
    "head(airbnb)"
   ]
  },
  {
   "cell_type": "markdown",
   "metadata": {},
   "source": [
    "Crea una nueva columna llamada MetrosCuadrados a partir de la columna PiesCuadrados.\n",
    "\n",
    "Ayuda: 1 pie cuadrado son 0,092903 metros cuadrdados"
   ]
  },
  {
   "cell_type": "code",
   "execution_count": 9,
   "metadata": {},
   "outputs": [
    {
     "data": {
      "text/html": [
       "<table>\n",
       "<caption>A data.frame: 6 × 14</caption>\n",
       "<thead>\n",
       "\t<tr><th></th><th scope=col>CodigoPostal</th><th scope=col>Barrio</th><th scope=col>TipoPropiedad</th><th scope=col>TipoAlquiler</th><th scope=col>MaxOcupantes</th><th scope=col>NumBanyos</th><th scope=col>NumDormitorios</th><th scope=col>NumCamas</th><th scope=col>TipoCama</th><th scope=col>Comodidades</th><th scope=col>PiesCuadrados</th><th scope=col>Precio</th><th scope=col>Puntuacion</th><th scope=col>MetrosCuadrados</th></tr>\n",
       "\t<tr><th></th><th scope=col>&lt;fct&gt;</th><th scope=col>&lt;fct&gt;</th><th scope=col>&lt;fct&gt;</th><th scope=col>&lt;fct&gt;</th><th scope=col>&lt;int&gt;</th><th scope=col>&lt;dbl&gt;</th><th scope=col>&lt;int&gt;</th><th scope=col>&lt;int&gt;</th><th scope=col>&lt;fct&gt;</th><th scope=col>&lt;fct&gt;</th><th scope=col>&lt;int&gt;</th><th scope=col>&lt;int&gt;</th><th scope=col>&lt;int&gt;</th><th scope=col>&lt;dbl&gt;</th></tr>\n",
       "</thead>\n",
       "<tbody>\n",
       "\t<tr><th scope=row>1</th><td>28004</td><td>Universidad</td><td>Apartment</td><td>Private room   </td><td>2</td><td>2</td><td>1</td><td>1</td><td>Real Bed</td><td>TV,Wireless Internet,Kitchen,Pets allowed,Pets live on this property,Buzzer/wireless intercom,Heating,Suitable for events,Washer,First aid kit,Essentials,Lock on bedroom door,Iron                                                                                                                                                                             </td><td> NA</td><td>35</td><td> NA</td><td>      NA</td></tr>\n",
       "\t<tr><th scope=row>2</th><td>28004</td><td>Universidad</td><td>Apartment</td><td>Entire home/apt</td><td>6</td><td>1</td><td>3</td><td>5</td><td>Real Bed</td><td>TV,Internet,Wireless Internet,Air conditioning,Kitchen,Indoor fireplace,Heating,Family/kid friendly,Washer,Dryer,Smoke detector,Carbon monoxide detector,Essentials,Shampoo                                                                                                                                                                                     </td><td> NA</td><td>92</td><td> 96</td><td>      NA</td></tr>\n",
       "\t<tr><th scope=row>3</th><td>28004</td><td>Universidad</td><td>Apartment</td><td>Entire home/apt</td><td>3</td><td>1</td><td>2</td><td>2</td><td>Real Bed</td><td>TV,Internet,Wireless Internet,Air conditioning,Kitchen,Doorman,Heating,Family/kid friendly,Washer,Essentials,Shampoo,Hangers,Hair dryer,Iron,Laptop friendly workspace                                                                                                                                                                                          </td><td> NA</td><td>55</td><td> 91</td><td>      NA</td></tr>\n",
       "\t<tr><th scope=row>4</th><td>28004</td><td>Universidad</td><td>Loft     </td><td>Entire home/apt</td><td>3</td><td>2</td><td>1</td><td>1</td><td>Real Bed</td><td>TV,Internet,Wireless Internet,Air conditioning,Kitchen,Pets allowed,Breakfast,Elevator in building,Indoor fireplace,Buzzer/wireless intercom,Heating,Washer,Essentials,Shampoo,Hangers,Hair dryer,Iron,Laptop friendly workspace,translation missing: en.hosting_amenity_49,translation missing: en.hosting_amenity_50                                          </td><td> NA</td><td>60</td><td>100</td><td>      NA</td></tr>\n",
       "\t<tr><th scope=row>5</th><td>28015</td><td>Universidad</td><td>Apartment</td><td>Entire home/apt</td><td>5</td><td>1</td><td>1</td><td>1</td><td>Real Bed</td><td>TV,Wireless Internet,Air conditioning,Kitchen,Smoking allowed,Pets allowed,Elevator in building,Heating,Family/kid friendly,Washer,Essentials,Iron                                                                                                                                                                                                              </td><td>538</td><td>75</td><td> 90</td><td>49.98181</td></tr>\n",
       "\t<tr><th scope=row>6</th><td>28004</td><td>Universidad</td><td>Apartment</td><td>Entire home/apt</td><td>2</td><td>1</td><td>0</td><td>1</td><td>Real Bed</td><td>TV,Cable TV,Internet,Wireless Internet,Air conditioning,Wheelchair accessible,Kitchen,Doorman,Elevator in building,Buzzer/wireless intercom,Heating,Washer,Smoke detector,Carbon monoxide detector,First aid kit,Safety card,Fire extinguisher,Essentials,Shampoo,24-hour check-in,Hangers,Hair dryer,Iron,Laptop friendly workspace,Self Check-In,Doorman Entry</td><td> NA</td><td>55</td><td> 95</td><td>      NA</td></tr>\n",
       "</tbody>\n",
       "</table>\n"
      ],
      "text/latex": [
       "A data.frame: 6 × 14\n",
       "\\begin{tabular}{r|llllllllllllll}\n",
       "  & CodigoPostal & Barrio & TipoPropiedad & TipoAlquiler & MaxOcupantes & NumBanyos & NumDormitorios & NumCamas & TipoCama & Comodidades & PiesCuadrados & Precio & Puntuacion & MetrosCuadrados\\\\\n",
       "  & <fct> & <fct> & <fct> & <fct> & <int> & <dbl> & <int> & <int> & <fct> & <fct> & <int> & <int> & <int> & <dbl>\\\\\n",
       "\\hline\n",
       "\t1 & 28004 & Universidad & Apartment & Private room    & 2 & 2 & 1 & 1 & Real Bed & TV,Wireless Internet,Kitchen,Pets allowed,Pets live on this property,Buzzer/wireless intercom,Heating,Suitable for events,Washer,First aid kit,Essentials,Lock on bedroom door,Iron                                                                                                                                                                              &  NA & 35 &  NA &       NA\\\\\n",
       "\t2 & 28004 & Universidad & Apartment & Entire home/apt & 6 & 1 & 3 & 5 & Real Bed & TV,Internet,Wireless Internet,Air conditioning,Kitchen,Indoor fireplace,Heating,Family/kid friendly,Washer,Dryer,Smoke detector,Carbon monoxide detector,Essentials,Shampoo                                                                                                                                                                                      &  NA & 92 &  96 &       NA\\\\\n",
       "\t3 & 28004 & Universidad & Apartment & Entire home/apt & 3 & 1 & 2 & 2 & Real Bed & TV,Internet,Wireless Internet,Air conditioning,Kitchen,Doorman,Heating,Family/kid friendly,Washer,Essentials,Shampoo,Hangers,Hair dryer,Iron,Laptop friendly workspace                                                                                                                                                                                           &  NA & 55 &  91 &       NA\\\\\n",
       "\t4 & 28004 & Universidad & Loft      & Entire home/apt & 3 & 2 & 1 & 1 & Real Bed & TV,Internet,Wireless Internet,Air conditioning,Kitchen,Pets allowed,Breakfast,Elevator in building,Indoor fireplace,Buzzer/wireless intercom,Heating,Washer,Essentials,Shampoo,Hangers,Hair dryer,Iron,Laptop friendly workspace,translation missing: en.hosting\\_amenity\\_49,translation missing: en.hosting\\_amenity\\_50                                           &  NA & 60 & 100 &       NA\\\\\n",
       "\t5 & 28015 & Universidad & Apartment & Entire home/apt & 5 & 1 & 1 & 1 & Real Bed & TV,Wireless Internet,Air conditioning,Kitchen,Smoking allowed,Pets allowed,Elevator in building,Heating,Family/kid friendly,Washer,Essentials,Iron                                                                                                                                                                                                               & 538 & 75 &  90 & 49.98181\\\\\n",
       "\t6 & 28004 & Universidad & Apartment & Entire home/apt & 2 & 1 & 0 & 1 & Real Bed & TV,Cable TV,Internet,Wireless Internet,Air conditioning,Wheelchair accessible,Kitchen,Doorman,Elevator in building,Buzzer/wireless intercom,Heating,Washer,Smoke detector,Carbon monoxide detector,First aid kit,Safety card,Fire extinguisher,Essentials,Shampoo,24-hour check-in,Hangers,Hair dryer,Iron,Laptop friendly workspace,Self Check-In,Doorman Entry &  NA & 55 &  95 &       NA\\\\\n",
       "\\end{tabular}\n"
      ],
      "text/markdown": [
       "\n",
       "A data.frame: 6 × 14\n",
       "\n",
       "| <!--/--> | CodigoPostal &lt;fct&gt; | Barrio &lt;fct&gt; | TipoPropiedad &lt;fct&gt; | TipoAlquiler &lt;fct&gt; | MaxOcupantes &lt;int&gt; | NumBanyos &lt;dbl&gt; | NumDormitorios &lt;int&gt; | NumCamas &lt;int&gt; | TipoCama &lt;fct&gt; | Comodidades &lt;fct&gt; | PiesCuadrados &lt;int&gt; | Precio &lt;int&gt; | Puntuacion &lt;int&gt; | MetrosCuadrados &lt;dbl&gt; |\n",
       "|---|---|---|---|---|---|---|---|---|---|---|---|---|---|---|\n",
       "| 1 | 28004 | Universidad | Apartment | Private room    | 2 | 2 | 1 | 1 | Real Bed | TV,Wireless Internet,Kitchen,Pets allowed,Pets live on this property,Buzzer/wireless intercom,Heating,Suitable for events,Washer,First aid kit,Essentials,Lock on bedroom door,Iron                                                                                                                                                                              |  NA | 35 |  NA |       NA |\n",
       "| 2 | 28004 | Universidad | Apartment | Entire home/apt | 6 | 1 | 3 | 5 | Real Bed | TV,Internet,Wireless Internet,Air conditioning,Kitchen,Indoor fireplace,Heating,Family/kid friendly,Washer,Dryer,Smoke detector,Carbon monoxide detector,Essentials,Shampoo                                                                                                                                                                                      |  NA | 92 |  96 |       NA |\n",
       "| 3 | 28004 | Universidad | Apartment | Entire home/apt | 3 | 1 | 2 | 2 | Real Bed | TV,Internet,Wireless Internet,Air conditioning,Kitchen,Doorman,Heating,Family/kid friendly,Washer,Essentials,Shampoo,Hangers,Hair dryer,Iron,Laptop friendly workspace                                                                                                                                                                                           |  NA | 55 |  91 |       NA |\n",
       "| 4 | 28004 | Universidad | Loft      | Entire home/apt | 3 | 2 | 1 | 1 | Real Bed | TV,Internet,Wireless Internet,Air conditioning,Kitchen,Pets allowed,Breakfast,Elevator in building,Indoor fireplace,Buzzer/wireless intercom,Heating,Washer,Essentials,Shampoo,Hangers,Hair dryer,Iron,Laptop friendly workspace,translation missing: en.hosting_amenity_49,translation missing: en.hosting_amenity_50                                           |  NA | 60 | 100 |       NA |\n",
       "| 5 | 28015 | Universidad | Apartment | Entire home/apt | 5 | 1 | 1 | 1 | Real Bed | TV,Wireless Internet,Air conditioning,Kitchen,Smoking allowed,Pets allowed,Elevator in building,Heating,Family/kid friendly,Washer,Essentials,Iron                                                                                                                                                                                                               | 538 | 75 |  90 | 49.98181 |\n",
       "| 6 | 28004 | Universidad | Apartment | Entire home/apt | 2 | 1 | 0 | 1 | Real Bed | TV,Cable TV,Internet,Wireless Internet,Air conditioning,Wheelchair accessible,Kitchen,Doorman,Elevator in building,Buzzer/wireless intercom,Heating,Washer,Smoke detector,Carbon monoxide detector,First aid kit,Safety card,Fire extinguisher,Essentials,Shampoo,24-hour check-in,Hangers,Hair dryer,Iron,Laptop friendly workspace,Self Check-In,Doorman Entry |  NA | 55 |  95 |       NA |\n",
       "\n"
      ],
      "text/plain": [
       "  CodigoPostal Barrio      TipoPropiedad TipoAlquiler    MaxOcupantes NumBanyos\n",
       "1 28004        Universidad Apartment     Private room    2            2        \n",
       "2 28004        Universidad Apartment     Entire home/apt 6            1        \n",
       "3 28004        Universidad Apartment     Entire home/apt 3            1        \n",
       "4 28004        Universidad Loft          Entire home/apt 3            2        \n",
       "5 28015        Universidad Apartment     Entire home/apt 5            1        \n",
       "6 28004        Universidad Apartment     Entire home/apt 2            1        \n",
       "  NumDormitorios NumCamas TipoCama\n",
       "1 1              1        Real Bed\n",
       "2 3              5        Real Bed\n",
       "3 2              2        Real Bed\n",
       "4 1              1        Real Bed\n",
       "5 1              1        Real Bed\n",
       "6 0              1        Real Bed\n",
       "  Comodidades                                                                                                                                                                                                                                                                                                                                                     \n",
       "1 TV,Wireless Internet,Kitchen,Pets allowed,Pets live on this property,Buzzer/wireless intercom,Heating,Suitable for events,Washer,First aid kit,Essentials,Lock on bedroom door,Iron                                                                                                                                                                             \n",
       "2 TV,Internet,Wireless Internet,Air conditioning,Kitchen,Indoor fireplace,Heating,Family/kid friendly,Washer,Dryer,Smoke detector,Carbon monoxide detector,Essentials,Shampoo                                                                                                                                                                                     \n",
       "3 TV,Internet,Wireless Internet,Air conditioning,Kitchen,Doorman,Heating,Family/kid friendly,Washer,Essentials,Shampoo,Hangers,Hair dryer,Iron,Laptop friendly workspace                                                                                                                                                                                          \n",
       "4 TV,Internet,Wireless Internet,Air conditioning,Kitchen,Pets allowed,Breakfast,Elevator in building,Indoor fireplace,Buzzer/wireless intercom,Heating,Washer,Essentials,Shampoo,Hangers,Hair dryer,Iron,Laptop friendly workspace,translation missing: en.hosting_amenity_49,translation missing: en.hosting_amenity_50                                          \n",
       "5 TV,Wireless Internet,Air conditioning,Kitchen,Smoking allowed,Pets allowed,Elevator in building,Heating,Family/kid friendly,Washer,Essentials,Iron                                                                                                                                                                                                              \n",
       "6 TV,Cable TV,Internet,Wireless Internet,Air conditioning,Wheelchair accessible,Kitchen,Doorman,Elevator in building,Buzzer/wireless intercom,Heating,Washer,Smoke detector,Carbon monoxide detector,First aid kit,Safety card,Fire extinguisher,Essentials,Shampoo,24-hour check-in,Hangers,Hair dryer,Iron,Laptop friendly workspace,Self Check-In,Doorman Entry\n",
       "  PiesCuadrados Precio Puntuacion MetrosCuadrados\n",
       "1  NA           35      NA              NA       \n",
       "2  NA           92      96              NA       \n",
       "3  NA           55      91              NA       \n",
       "4  NA           60     100              NA       \n",
       "5 538           75      90        49.98181       \n",
       "6  NA           55      95              NA       "
      ]
     },
     "metadata": {},
     "output_type": "display_data"
    }
   ],
   "source": [
    "airbnb$MetrosCuadrados<-NA\n",
    "airbnb$MetrosCuadrados<-(airbnb$PiesCuadrados*0.092903)\n",
    "head(airbnb)"
   ]
  },
  {
   "cell_type": "markdown",
   "metadata": {},
   "source": [
    "Miremos el código postal. Es una variable con entradas erroneas.\n",
    "Hay valores como '', '-'  y '28' que deberían ser considerados como NA.\n",
    "Así mismo también debería ser NA todos los que no compiencen por 28, ya que estamos con códigos postales de Madrid\n",
    "\n",
    "El código postal 28002, 28004 y 28051 tienen entradas repetidas. \n",
    "Por ejemplo las entradas 28002\\n20882 deberían ir dnetro de 28002\n",
    "\n",
    "El codigo 2804 debería ser 28004, 2805 deberia ser 28005 y 2815 juncto con 2815 debería ser 28015\n",
    "\n",
    "Limpia los datos de la columna Codigo Postal"
   ]
  },
  {
   "cell_type": "code",
   "execution_count": 10,
   "metadata": {},
   "outputs": [
    {
     "data": {
      "text/html": [
       "<style>\n",
       ".dl-inline {width: auto; margin:0; padding: 0}\n",
       ".dl-inline>dt, .dl-inline>dd {float: none; width: auto; display: inline-block}\n",
       ".dl-inline>dt::after {content: \":\\0020\"; padding-right: .5ex}\n",
       ".dl-inline>dt:not(:first-of-type) {padding-left: .5ex}\n",
       "</style><dl class=dl-inline><dt>1</dt><dd>0</dd><dt>-</dt><dd>0</dd><dt>20013</dt><dd>0</dd><dt>20126</dt><dd>0</dd><dt>2015</dt><dd>0</dd><dt>25008</dt><dd>0</dd><dt>27004</dt><dd>0</dd><dt>27013</dt><dd>0</dd><dt>28</dt><dd>0</dd><dt>28001</dt><dd>231</dd><dt>280013</dt><dd>0</dd><dt>28002</dt><dd>171</dd><dt>28002\n",
       "28002</dt><dd>0</dd><dt>28003</dt><dd>185</dd><dt>28004</dt><dd>1795</dd><dt>28005</dt><dd>1195</dd><dt>28006</dt><dd>218</dd><dt>28007</dt><dd>206</dd><dt>28008</dt><dd>338</dd><dt>28009</dt><dd>216</dd><dt>28010</dt><dd>384</dd><dt>28011</dt><dd>250</dd><dt>28012</dt><dd>2060</dd><dt>28013</dt><dd>1020</dd><dt>28014</dt><dd>630</dd><dt>28015</dt><dd>601</dd><dt>28016</dt><dd>76</dd><dt>28017</dt><dd>107</dd><dt>28018</dt><dd>43</dd><dt>28019</dt><dd>200</dd><dt>28020</dt><dd>192</dd><dt>28021</dt><dd>58</dd><dt>28022</dt><dd>30</dd><dt>28023</dt><dd>23</dd><dt>28024</dt><dd>44</dd><dt>28025</dt><dd>123</dd><dt>28026</dt><dd>93</dd><dt>28027</dt><dd>122</dd><dt>28028</dt><dd>263</dd><dt>28029</dt><dd>110</dd><dt>28030</dt><dd>73</dd><dt>28031</dt><dd>27</dd><dt>28032</dt><dd>33</dd><dt>28033</dt><dd>89</dd><dt>28034</dt><dd>45</dd><dt>28035</dt><dd>59</dd><dt>28036</dt><dd>67</dd><dt>28037</dt><dd>65</dd><dt>28038</dt><dd>77</dd><dt>28039</dt><dd>160</dd><dt>2804</dt><dd>0</dd><dt>28040</dt><dd>16</dd><dt>28041</dt><dd>63</dd><dt>28042</dt><dd>90</dd><dt>28043</dt><dd>103</dd><dt>28044</dt><dd>19</dd><dt>28045</dt><dd>495</dd><dt>28046</dt><dd>32</dd><dt>28047</dt><dd>67</dd><dt>28048</dt><dd>1</dd><dt>28049</dt><dd>3</dd><dt>2805</dt><dd>0</dd><dt>28050</dt><dd>58</dd><dt>28051</dt><dd>17</dd><dt>28051\n",
       "28051</dt><dd>0</dd><dt>28052</dt><dd>1</dd><dt>28053</dt><dd>85</dd><dt>28054</dt><dd>12</dd><dt>28055</dt><dd>12</dd><dt>28056</dt><dd>1</dd><dt>28058</dt><dd>1</dd><dt>28060</dt><dd>1</dd><dt>28094</dt><dd>1</dd><dt>28105</dt><dd>1</dd><dt>2815</dt><dd>0</dd><dt>28850</dt><dd>1</dd><dt>Madrid 28004</dt><dd>0</dd><dt>NA's</dt><dd>448</dd></dl>\n"
      ],
      "text/latex": [
       "\\begin{description*}\n",
       "\\item[1] 0\n",
       "\\item[-] 0\n",
       "\\item[20013] 0\n",
       "\\item[20126] 0\n",
       "\\item[2015] 0\n",
       "\\item[25008] 0\n",
       "\\item[27004] 0\n",
       "\\item[27013] 0\n",
       "\\item[28] 0\n",
       "\\item[28001] 231\n",
       "\\item[280013] 0\n",
       "\\item[28002] 171\n",
       "\\item[28002\n",
       "28002] 0\n",
       "\\item[28003] 185\n",
       "\\item[28004] 1795\n",
       "\\item[28005] 1195\n",
       "\\item[28006] 218\n",
       "\\item[28007] 206\n",
       "\\item[28008] 338\n",
       "\\item[28009] 216\n",
       "\\item[28010] 384\n",
       "\\item[28011] 250\n",
       "\\item[28012] 2060\n",
       "\\item[28013] 1020\n",
       "\\item[28014] 630\n",
       "\\item[28015] 601\n",
       "\\item[28016] 76\n",
       "\\item[28017] 107\n",
       "\\item[28018] 43\n",
       "\\item[28019] 200\n",
       "\\item[28020] 192\n",
       "\\item[28021] 58\n",
       "\\item[28022] 30\n",
       "\\item[28023] 23\n",
       "\\item[28024] 44\n",
       "\\item[28025] 123\n",
       "\\item[28026] 93\n",
       "\\item[28027] 122\n",
       "\\item[28028] 263\n",
       "\\item[28029] 110\n",
       "\\item[28030] 73\n",
       "\\item[28031] 27\n",
       "\\item[28032] 33\n",
       "\\item[28033] 89\n",
       "\\item[28034] 45\n",
       "\\item[28035] 59\n",
       "\\item[28036] 67\n",
       "\\item[28037] 65\n",
       "\\item[28038] 77\n",
       "\\item[28039] 160\n",
       "\\item[2804] 0\n",
       "\\item[28040] 16\n",
       "\\item[28041] 63\n",
       "\\item[28042] 90\n",
       "\\item[28043] 103\n",
       "\\item[28044] 19\n",
       "\\item[28045] 495\n",
       "\\item[28046] 32\n",
       "\\item[28047] 67\n",
       "\\item[28048] 1\n",
       "\\item[28049] 3\n",
       "\\item[2805] 0\n",
       "\\item[28050] 58\n",
       "\\item[28051] 17\n",
       "\\item[28051\n",
       "28051] 0\n",
       "\\item[28052] 1\n",
       "\\item[28053] 85\n",
       "\\item[28054] 12\n",
       "\\item[28055] 12\n",
       "\\item[28056] 1\n",
       "\\item[28058] 1\n",
       "\\item[28060] 1\n",
       "\\item[28094] 1\n",
       "\\item[28105] 1\n",
       "\\item[2815] 0\n",
       "\\item[28850] 1\n",
       "\\item[Madrid 28004] 0\n",
       "\\item[NA's] 448\n",
       "\\end{description*}\n"
      ],
      "text/markdown": [
       "1\n",
       ":   0-\n",
       ":   020013\n",
       ":   020126\n",
       ":   02015\n",
       ":   025008\n",
       ":   027004\n",
       ":   027013\n",
       ":   028\n",
       ":   028001\n",
       ":   231280013\n",
       ":   028002\n",
       ":   17128002\n",
       "28002\n",
       ":   028003\n",
       ":   18528004\n",
       ":   179528005\n",
       ":   119528006\n",
       ":   21828007\n",
       ":   20628008\n",
       ":   33828009\n",
       ":   21628010\n",
       ":   38428011\n",
       ":   25028012\n",
       ":   206028013\n",
       ":   102028014\n",
       ":   63028015\n",
       ":   60128016\n",
       ":   7628017\n",
       ":   10728018\n",
       ":   4328019\n",
       ":   20028020\n",
       ":   19228021\n",
       ":   5828022\n",
       ":   3028023\n",
       ":   2328024\n",
       ":   4428025\n",
       ":   12328026\n",
       ":   9328027\n",
       ":   12228028\n",
       ":   26328029\n",
       ":   11028030\n",
       ":   7328031\n",
       ":   2728032\n",
       ":   3328033\n",
       ":   8928034\n",
       ":   4528035\n",
       ":   5928036\n",
       ":   6728037\n",
       ":   6528038\n",
       ":   7728039\n",
       ":   1602804\n",
       ":   028040\n",
       ":   1628041\n",
       ":   6328042\n",
       ":   9028043\n",
       ":   10328044\n",
       ":   1928045\n",
       ":   49528046\n",
       ":   3228047\n",
       ":   6728048\n",
       ":   128049\n",
       ":   32805\n",
       ":   028050\n",
       ":   5828051\n",
       ":   1728051\n",
       "28051\n",
       ":   028052\n",
       ":   128053\n",
       ":   8528054\n",
       ":   1228055\n",
       ":   1228056\n",
       ":   128058\n",
       ":   128060\n",
       ":   128094\n",
       ":   128105\n",
       ":   12815\n",
       ":   028850\n",
       ":   1Madrid 28004\n",
       ":   0NA's\n",
       ":   448\n",
       "\n"
      ],
      "text/plain": [
       "                        -        20013        20126         2015        25008 \n",
       "           0            0            0            0            0            0 \n",
       "       27004        27013           28        28001       280013        28002 \n",
       "           0            0            0          231            0          171 \n",
       "28002\\n28002        28003        28004        28005        28006        28007 \n",
       "           0          185         1795         1195          218          206 \n",
       "       28008        28009        28010        28011        28012        28013 \n",
       "         338          216          384          250         2060         1020 \n",
       "       28014        28015        28016        28017        28018        28019 \n",
       "         630          601           76          107           43          200 \n",
       "       28020        28021        28022        28023        28024        28025 \n",
       "         192           58           30           23           44          123 \n",
       "       28026        28027        28028        28029        28030        28031 \n",
       "          93          122          263          110           73           27 \n",
       "       28032        28033        28034        28035        28036        28037 \n",
       "          33           89           45           59           67           65 \n",
       "       28038        28039         2804        28040        28041        28042 \n",
       "          77          160            0           16           63           90 \n",
       "       28043        28044        28045        28046        28047        28048 \n",
       "         103           19          495           32           67            1 \n",
       "       28049         2805        28050        28051 28051\\n28051        28052 \n",
       "           3            0           58           17            0            1 \n",
       "       28053        28054        28055        28056        28058        28060 \n",
       "          85           12           12            1            1            1 \n",
       "       28094        28105         2815        28850 Madrid 28004         NA's \n",
       "           1            1            0            1            0          448 "
      ]
     },
     "metadata": {},
     "output_type": "display_data"
    }
   ],
   "source": [
    "airbnb$CodigoPostal[!grepl(\"^28\", airbnb$CodigoPostal)]<-NA\n",
    "airbnb$CodigoPostal[airbnb$CodigoPostal=='28'] <-NA\n",
    "airbnb$CodigoPostal[airbnb$CodigoPostal == \"2804\"] <- \"28004\"\n",
    "airbnb$CodigoPostal[airbnb$CodigoPostal == \"2805\"] <- \"28005\"\n",
    "airbnb$CodigoPostal[airbnb$CodigoPostal == \"2815\"] <- \"28015\"\n",
    "airbnb$CodigoPostal[airbnb$CodigoPostal == \"280013\"] <- \"28013\"\n",
    "airbnb$CodigoPostal[airbnb$CodigoPostal == \"28002\\n28002\"] <- \"28002\"\n",
    "airbnb$CodigoPostal[airbnb$CodigoPostal == \"28051\\n28051\"] <- \"28051\"\n",
    "summary(airbnb$CodigoPostal)"
   ]
  },
  {
   "cell_type": "markdown",
   "metadata": {},
   "source": [
    "Una vez limpios los datos ¿Cuales son los códigos postales que tenemos? "
   ]
  },
  {
   "cell_type": "code",
   "execution_count": 11,
   "metadata": {},
   "outputs": [
    {
     "data": {
      "text/html": [
       "<style>\n",
       ".list-inline {list-style: none; margin:0; padding: 0}\n",
       ".list-inline>li {display: inline-block}\n",
       ".list-inline>li:not(:last-child)::after {content: \"\\00b7\"; padding: 0 .5ex}\n",
       "</style>\n",
       "<ol class=list-inline><li>28004</li><li>28015</li><li>28013</li><li>28005</li><li>28012</li><li>28014</li><li>28045</li><li>&lt;NA&gt;</li><li>28007</li><li>28028</li><li>28009</li><li>28001</li><li>28006</li><li>28010</li><li>28002</li><li>28034</li><li>28050</li><li>28008</li><li>28011</li><li>28049</li><li>28038</li><li>28053</li><li>28047</li><li>28025</li><li>28019</li><li>28024</li><li>28016</li><li>28036</li><li>28046</li><li>28039</li><li>28020</li><li>28003</li><li>28029</li><li>28054</li><li>28041</li><li>28026</li><li>28058</li><li>28018</li><li>28030</li><li>28017</li><li>28027</li><li>28043</li><li>28033</li><li>28055</li><li>28021</li><li>28032</li><li>28037</li><li>28022</li><li>28042</li><li>28094</li><li>28035</li><li>28040</li><li>28031</li><li>28044</li><li>28105</li><li>28023</li><li>28051</li><li>28850</li><li>28048</li><li>28056</li><li>28060</li><li>28052</li></ol>\n",
       "\n",
       "<details>\n",
       "\t<summary style=display:list-item;cursor:pointer>\n",
       "\t\t<strong>Levels</strong>:\n",
       "\t</summary>\n",
       "\t<style>\n",
       "\t.list-inline {list-style: none; margin:0; padding: 0}\n",
       "\t.list-inline>li {display: inline-block}\n",
       "\t.list-inline>li:not(:last-child)::after {content: \"\\00b7\"; padding: 0 .5ex}\n",
       "\t</style>\n",
       "\t<ol class=list-inline><li>''</li><li>'-'</li><li>'20013'</li><li>'20126'</li><li>'2015'</li><li>'25008'</li><li>'27004'</li><li>'27013'</li><li>'28'</li><li>'28001'</li><li>'280013'</li><li>'28002'</li><li>'28002\\n28002'</li><li>'28003'</li><li>'28004'</li><li>'28005'</li><li>'28006'</li><li>'28007'</li><li>'28008'</li><li>'28009'</li><li>'28010'</li><li>'28011'</li><li>'28012'</li><li>'28013'</li><li>'28014'</li><li>'28015'</li><li>'28016'</li><li>'28017'</li><li>'28018'</li><li>'28019'</li><li>'28020'</li><li>'28021'</li><li>'28022'</li><li>'28023'</li><li>'28024'</li><li>'28025'</li><li>'28026'</li><li>'28027'</li><li>'28028'</li><li>'28029'</li><li>'28030'</li><li>'28031'</li><li>'28032'</li><li>'28033'</li><li>'28034'</li><li>'28035'</li><li>'28036'</li><li>'28037'</li><li>'28038'</li><li>'28039'</li><li>'2804'</li><li>'28040'</li><li>'28041'</li><li>'28042'</li><li>'28043'</li><li>'28044'</li><li>'28045'</li><li>'28046'</li><li>'28047'</li><li>'28048'</li><li>'28049'</li><li>'2805'</li><li>'28050'</li><li>'28051'</li><li>'28051\\n28051'</li><li>'28052'</li><li>'28053'</li><li>'28054'</li><li>'28055'</li><li>'28056'</li><li>'28058'</li><li>'28060'</li><li>'28094'</li><li>'28105'</li><li>'2815'</li><li>'28850'</li><li>'Madrid 28004'</li></ol>\n",
       "</details>"
      ],
      "text/latex": [
       "\\begin{enumerate*}\n",
       "\\item 28004\n",
       "\\item 28015\n",
       "\\item 28013\n",
       "\\item 28005\n",
       "\\item 28012\n",
       "\\item 28014\n",
       "\\item 28045\n",
       "\\item <NA>\n",
       "\\item 28007\n",
       "\\item 28028\n",
       "\\item 28009\n",
       "\\item 28001\n",
       "\\item 28006\n",
       "\\item 28010\n",
       "\\item 28002\n",
       "\\item 28034\n",
       "\\item 28050\n",
       "\\item 28008\n",
       "\\item 28011\n",
       "\\item 28049\n",
       "\\item 28038\n",
       "\\item 28053\n",
       "\\item 28047\n",
       "\\item 28025\n",
       "\\item 28019\n",
       "\\item 28024\n",
       "\\item 28016\n",
       "\\item 28036\n",
       "\\item 28046\n",
       "\\item 28039\n",
       "\\item 28020\n",
       "\\item 28003\n",
       "\\item 28029\n",
       "\\item 28054\n",
       "\\item 28041\n",
       "\\item 28026\n",
       "\\item 28058\n",
       "\\item 28018\n",
       "\\item 28030\n",
       "\\item 28017\n",
       "\\item 28027\n",
       "\\item 28043\n",
       "\\item 28033\n",
       "\\item 28055\n",
       "\\item 28021\n",
       "\\item 28032\n",
       "\\item 28037\n",
       "\\item 28022\n",
       "\\item 28042\n",
       "\\item 28094\n",
       "\\item 28035\n",
       "\\item 28040\n",
       "\\item 28031\n",
       "\\item 28044\n",
       "\\item 28105\n",
       "\\item 28023\n",
       "\\item 28051\n",
       "\\item 28850\n",
       "\\item 28048\n",
       "\\item 28056\n",
       "\\item 28060\n",
       "\\item 28052\n",
       "\\end{enumerate*}\n",
       "\n",
       "\\emph{Levels}: \\begin{enumerate*}\n",
       "\\item ''\n",
       "\\item '-'\n",
       "\\item '20013'\n",
       "\\item '20126'\n",
       "\\item '2015'\n",
       "\\item '25008'\n",
       "\\item '27004'\n",
       "\\item '27013'\n",
       "\\item '28'\n",
       "\\item '28001'\n",
       "\\item '280013'\n",
       "\\item '28002'\n",
       "\\item '28002\\textbackslash{}n28002'\n",
       "\\item '28003'\n",
       "\\item '28004'\n",
       "\\item '28005'\n",
       "\\item '28006'\n",
       "\\item '28007'\n",
       "\\item '28008'\n",
       "\\item '28009'\n",
       "\\item '28010'\n",
       "\\item '28011'\n",
       "\\item '28012'\n",
       "\\item '28013'\n",
       "\\item '28014'\n",
       "\\item '28015'\n",
       "\\item '28016'\n",
       "\\item '28017'\n",
       "\\item '28018'\n",
       "\\item '28019'\n",
       "\\item '28020'\n",
       "\\item '28021'\n",
       "\\item '28022'\n",
       "\\item '28023'\n",
       "\\item '28024'\n",
       "\\item '28025'\n",
       "\\item '28026'\n",
       "\\item '28027'\n",
       "\\item '28028'\n",
       "\\item '28029'\n",
       "\\item '28030'\n",
       "\\item '28031'\n",
       "\\item '28032'\n",
       "\\item '28033'\n",
       "\\item '28034'\n",
       "\\item '28035'\n",
       "\\item '28036'\n",
       "\\item '28037'\n",
       "\\item '28038'\n",
       "\\item '28039'\n",
       "\\item '2804'\n",
       "\\item '28040'\n",
       "\\item '28041'\n",
       "\\item '28042'\n",
       "\\item '28043'\n",
       "\\item '28044'\n",
       "\\item '28045'\n",
       "\\item '28046'\n",
       "\\item '28047'\n",
       "\\item '28048'\n",
       "\\item '28049'\n",
       "\\item '2805'\n",
       "\\item '28050'\n",
       "\\item '28051'\n",
       "\\item '28051\\textbackslash{}n28051'\n",
       "\\item '28052'\n",
       "\\item '28053'\n",
       "\\item '28054'\n",
       "\\item '28055'\n",
       "\\item '28056'\n",
       "\\item '28058'\n",
       "\\item '28060'\n",
       "\\item '28094'\n",
       "\\item '28105'\n",
       "\\item '2815'\n",
       "\\item '28850'\n",
       "\\item 'Madrid 28004'\n",
       "\\end{enumerate*}\n"
      ],
      "text/markdown": [
       "1. 28004\n",
       "2. 28015\n",
       "3. 28013\n",
       "4. 28005\n",
       "5. 28012\n",
       "6. 28014\n",
       "7. 28045\n",
       "8. &lt;NA&gt;\n",
       "9. 28007\n",
       "10. 28028\n",
       "11. 28009\n",
       "12. 28001\n",
       "13. 28006\n",
       "14. 28010\n",
       "15. 28002\n",
       "16. 28034\n",
       "17. 28050\n",
       "18. 28008\n",
       "19. 28011\n",
       "20. 28049\n",
       "21. 28038\n",
       "22. 28053\n",
       "23. 28047\n",
       "24. 28025\n",
       "25. 28019\n",
       "26. 28024\n",
       "27. 28016\n",
       "28. 28036\n",
       "29. 28046\n",
       "30. 28039\n",
       "31. 28020\n",
       "32. 28003\n",
       "33. 28029\n",
       "34. 28054\n",
       "35. 28041\n",
       "36. 28026\n",
       "37. 28058\n",
       "38. 28018\n",
       "39. 28030\n",
       "40. 28017\n",
       "41. 28027\n",
       "42. 28043\n",
       "43. 28033\n",
       "44. 28055\n",
       "45. 28021\n",
       "46. 28032\n",
       "47. 28037\n",
       "48. 28022\n",
       "49. 28042\n",
       "50. 28094\n",
       "51. 28035\n",
       "52. 28040\n",
       "53. 28031\n",
       "54. 28044\n",
       "55. 28105\n",
       "56. 28023\n",
       "57. 28051\n",
       "58. 28850\n",
       "59. 28048\n",
       "60. 28056\n",
       "61. 28060\n",
       "62. 28052\n",
       "\n",
       "\n",
       "\n",
       "**Levels**: 1. ''\n",
       "2. '-'\n",
       "3. '20013'\n",
       "4. '20126'\n",
       "5. '2015'\n",
       "6. '25008'\n",
       "7. '27004'\n",
       "8. '27013'\n",
       "9. '28'\n",
       "10. '28001'\n",
       "11. '280013'\n",
       "12. '28002'\n",
       "13. '28002\\n28002'\n",
       "14. '28003'\n",
       "15. '28004'\n",
       "16. '28005'\n",
       "17. '28006'\n",
       "18. '28007'\n",
       "19. '28008'\n",
       "20. '28009'\n",
       "21. '28010'\n",
       "22. '28011'\n",
       "23. '28012'\n",
       "24. '28013'\n",
       "25. '28014'\n",
       "26. '28015'\n",
       "27. '28016'\n",
       "28. '28017'\n",
       "29. '28018'\n",
       "30. '28019'\n",
       "31. '28020'\n",
       "32. '28021'\n",
       "33. '28022'\n",
       "34. '28023'\n",
       "35. '28024'\n",
       "36. '28025'\n",
       "37. '28026'\n",
       "38. '28027'\n",
       "39. '28028'\n",
       "40. '28029'\n",
       "41. '28030'\n",
       "42. '28031'\n",
       "43. '28032'\n",
       "44. '28033'\n",
       "45. '28034'\n",
       "46. '28035'\n",
       "47. '28036'\n",
       "48. '28037'\n",
       "49. '28038'\n",
       "50. '28039'\n",
       "51. '2804'\n",
       "52. '28040'\n",
       "53. '28041'\n",
       "54. '28042'\n",
       "55. '28043'\n",
       "56. '28044'\n",
       "57. '28045'\n",
       "58. '28046'\n",
       "59. '28047'\n",
       "60. '28048'\n",
       "61. '28049'\n",
       "62. '2805'\n",
       "63. '28050'\n",
       "64. '28051'\n",
       "65. '28051\\n28051'\n",
       "66. '28052'\n",
       "67. '28053'\n",
       "68. '28054'\n",
       "69. '28055'\n",
       "70. '28056'\n",
       "71. '28058'\n",
       "72. '28060'\n",
       "73. '28094'\n",
       "74. '28105'\n",
       "75. '2815'\n",
       "76. '28850'\n",
       "77. 'Madrid 28004'\n",
       "\n",
       "\n"
      ],
      "text/plain": [
       " [1] 28004 28015 28013 28005 28012 28014 28045 <NA>  28007 28028 28009 28001\n",
       "[13] 28006 28010 28002 28034 28050 28008 28011 28049 28038 28053 28047 28025\n",
       "[25] 28019 28024 28016 28036 28046 28039 28020 28003 28029 28054 28041 28026\n",
       "[37] 28058 28018 28030 28017 28027 28043 28033 28055 28021 28032 28037 28022\n",
       "[49] 28042 28094 28035 28040 28031 28044 28105 28023 28051 28850 28048 28056\n",
       "[61] 28060 28052\n",
       "77 Levels:  - 20013 20126 2015 25008 27004 27013 28 28001 280013 ... Madrid 28004"
      ]
     },
     "metadata": {},
     "output_type": "display_data"
    }
   ],
   "source": [
    "unique(airbnb$CodigoPostal)"
   ]
  },
  {
   "cell_type": "markdown",
   "metadata": {},
   "source": [
    "¿Cuales son los 5 códigos postales con más entradas? ¿Y con menos? ¿Cuantas entradas tienen?"
   ]
  },
  {
   "cell_type": "code",
   "execution_count": 12,
   "metadata": {
    "scrolled": true
   },
   "outputs": [
    {
     "name": "stderr",
     "output_type": "stream",
     "text": [
      "Warning message:\n",
      "“Factor `CodigoPostal` contains implicit NA, consider using `forcats::fct_explicit_na`”\n",
      "Selecting by n\n",
      "\n"
     ]
    },
    {
     "data": {
      "text/html": [
       "<table>\n",
       "<caption>A tibble: 5 × 2</caption>\n",
       "<thead>\n",
       "\t<tr><th scope=col>CodigoPostal</th><th scope=col>n</th></tr>\n",
       "\t<tr><th scope=col>&lt;fct&gt;</th><th scope=col>&lt;int&gt;</th></tr>\n",
       "</thead>\n",
       "<tbody>\n",
       "\t<tr><td>28012</td><td>2060</td></tr>\n",
       "\t<tr><td>28004</td><td>1795</td></tr>\n",
       "\t<tr><td>28005</td><td>1195</td></tr>\n",
       "\t<tr><td>28013</td><td>1020</td></tr>\n",
       "\t<tr><td>28014</td><td> 630</td></tr>\n",
       "</tbody>\n",
       "</table>\n"
      ],
      "text/latex": [
       "A tibble: 5 × 2\n",
       "\\begin{tabular}{ll}\n",
       " CodigoPostal & n\\\\\n",
       " <fct> & <int>\\\\\n",
       "\\hline\n",
       "\t 28012 & 2060\\\\\n",
       "\t 28004 & 1795\\\\\n",
       "\t 28005 & 1195\\\\\n",
       "\t 28013 & 1020\\\\\n",
       "\t 28014 &  630\\\\\n",
       "\\end{tabular}\n"
      ],
      "text/markdown": [
       "\n",
       "A tibble: 5 × 2\n",
       "\n",
       "| CodigoPostal &lt;fct&gt; | n &lt;int&gt; |\n",
       "|---|---|\n",
       "| 28012 | 2060 |\n",
       "| 28004 | 1795 |\n",
       "| 28005 | 1195 |\n",
       "| 28013 | 1020 |\n",
       "| 28014 |  630 |\n",
       "\n"
      ],
      "text/plain": [
       "  CodigoPostal n   \n",
       "1 28012        2060\n",
       "2 28004        1795\n",
       "3 28005        1195\n",
       "4 28013        1020\n",
       "5 28014         630"
      ]
     },
     "metadata": {},
     "output_type": "display_data"
    },
    {
     "name": "stderr",
     "output_type": "stream",
     "text": [
      "Selecting by n\n",
      "\n"
     ]
    },
    {
     "data": {
      "text/html": [
       "<table>\n",
       "<caption>A tibble: 8 × 2</caption>\n",
       "<thead>\n",
       "\t<tr><th scope=col>CodigoPostal</th><th scope=col>n</th></tr>\n",
       "\t<tr><th scope=col>&lt;fct&gt;</th><th scope=col>&lt;int&gt;</th></tr>\n",
       "</thead>\n",
       "<tbody>\n",
       "\t<tr><td>28048</td><td>1</td></tr>\n",
       "\t<tr><td>28052</td><td>1</td></tr>\n",
       "\t<tr><td>28056</td><td>1</td></tr>\n",
       "\t<tr><td>28058</td><td>1</td></tr>\n",
       "\t<tr><td>28060</td><td>1</td></tr>\n",
       "\t<tr><td>28094</td><td>1</td></tr>\n",
       "\t<tr><td>28105</td><td>1</td></tr>\n",
       "\t<tr><td>28850</td><td>1</td></tr>\n",
       "</tbody>\n",
       "</table>\n"
      ],
      "text/latex": [
       "A tibble: 8 × 2\n",
       "\\begin{tabular}{ll}\n",
       " CodigoPostal & n\\\\\n",
       " <fct> & <int>\\\\\n",
       "\\hline\n",
       "\t 28048 & 1\\\\\n",
       "\t 28052 & 1\\\\\n",
       "\t 28056 & 1\\\\\n",
       "\t 28058 & 1\\\\\n",
       "\t 28060 & 1\\\\\n",
       "\t 28094 & 1\\\\\n",
       "\t 28105 & 1\\\\\n",
       "\t 28850 & 1\\\\\n",
       "\\end{tabular}\n"
      ],
      "text/markdown": [
       "\n",
       "A tibble: 8 × 2\n",
       "\n",
       "| CodigoPostal &lt;fct&gt; | n &lt;int&gt; |\n",
       "|---|---|\n",
       "| 28048 | 1 |\n",
       "| 28052 | 1 |\n",
       "| 28056 | 1 |\n",
       "| 28058 | 1 |\n",
       "| 28060 | 1 |\n",
       "| 28094 | 1 |\n",
       "| 28105 | 1 |\n",
       "| 28850 | 1 |\n",
       "\n"
      ],
      "text/plain": [
       "  CodigoPostal n\n",
       "1 28048        1\n",
       "2 28052        1\n",
       "3 28056        1\n",
       "4 28058        1\n",
       "5 28060        1\n",
       "6 28094        1\n",
       "7 28105        1\n",
       "8 28850        1"
      ]
     },
     "metadata": {},
     "output_type": "display_data"
    }
   ],
   "source": [
    "library(dplyr)\n",
    "codigos<-airbnb %>%\n",
    "            count(CodigoPostal, sort = TRUE)\n",
    "top_n(codigos, 5)\n",
    "top_n(codigos, -5)"
   ]
  },
  {
   "cell_type": "markdown",
   "metadata": {},
   "source": [
    "¿Cuales son los barrios que hay en el código postal 28012?"
   ]
  },
  {
   "cell_type": "code",
   "execution_count": 13,
   "metadata": {},
   "outputs": [
    {
     "data": {
      "text/html": [
       "<style>\n",
       ".list-inline {list-style: none; margin:0; padding: 0}\n",
       ".list-inline>li {display: inline-block}\n",
       ".list-inline>li:not(:last-child)::after {content: \"\\00b7\"; padding: 0 .5ex}\n",
       "</style>\n",
       "<ol class=list-inline><li>Sol</li><li>Acacias</li><li>Palos de Moguer</li><li>Embajadores</li><li>Cortes</li><li>Palacio</li><li>Universidad</li><li>Delicias</li><li>Arapiles</li><li>Atocha</li><li>Goya</li></ol>\n",
       "\n",
       "<details>\n",
       "\t<summary style=display:list-item;cursor:pointer>\n",
       "\t\t<strong>Levels</strong>:\n",
       "\t</summary>\n",
       "\t<style>\n",
       "\t.list-inline {list-style: none; margin:0; padding: 0}\n",
       "\t.list-inline>li {display: inline-block}\n",
       "\t.list-inline>li:not(:last-child)::after {content: \"\\00b7\"; padding: 0 .5ex}\n",
       "\t</style>\n",
       "\t<ol class=list-inline><li>'Abrantes'</li><li>'Acacias'</li><li>'Adelfas'</li><li>'Aeropuerto'</li><li>'Aguilas'</li><li>'Alameda de Osuna'</li><li>'Almagro'</li><li>'Almenara'</li><li>'Almendrales'</li><li>'Aluche'</li><li>'Ambroz'</li><li>'Amposta'</li><li>'Apostol Santiago'</li><li>'Arapiles'</li><li>'Aravaca'</li><li>'Arcos'</li><li>'Argüelles'</li><li>'Atocha'</li><li>'Bellas Vistas'</li><li>'Berruguete'</li><li>'Buenavista'</li><li>'Butarque'</li><li>'Campamento'</li><li>'Canillas'</li><li>'Canillejas'</li><li>'Cármenes'</li><li>'Casa de Campo'</li><li>'Casco Histórico de Barajas'</li><li>'Casco Histórico de Vallecas'</li><li>'Casco Histórico de Vicálvaro'</li><li>'Castellana'</li><li>'Castilla'</li><li>'Castillejos'</li><li>'Chopera'</li><li>'Ciudad Jardín'</li><li>'Ciudad Universitaria'</li><li>'Colina'</li><li>'Comillas'</li><li>'Concepción'</li><li>'Corralejos'</li><li>'Cortes'</li><li>'Costillares'</li><li>'Cuatro Caminos'</li><li>'Cuatro Vientos'</li><li>'Delicias'</li><li>'El Goloso'</li><li>'El Plantío'</li><li>'El Viso'</li><li>'Embajadores'</li><li>'Entrevías'</li><li>'Estrella'</li><li>'Fontarrón'</li><li>'Fuente del Berro'</li><li>'Fuentelareina'</li><li>'Gaztambide'</li><li>'Goya'</li><li>'Guindalera'</li><li>'Hellín'</li><li>'Hispanoamérica'</li><li>'Ibiza'</li><li>'Imperial'</li><li>'Jerónimos'</li><li>'Justicia'</li><li>'La Paz'</li><li>'Legazpi'</li><li>'Lista'</li><li>'Los Angeles'</li><li>'Los Rosales'</li><li>'Lucero'</li><li>'Marroquina'</li><li>'Media Legua'</li><li>'Mirasierra'</li><li>'Moscardó'</li><li>'Niño Jesús'</li><li>'Nueva España'</li><li>'Numancia'</li><li>'Opañel'</li><li>'Orcasitas'</li><li>'Orcasur'</li><li>'Pacífico'</li><li>'Palacio'</li><li>'Palomas'</li><li>'Palomeras Bajas'</li><li>'Palomeras Sureste'</li><li>'Palos de Moguer'</li><li>'Pavones'</li><li>'Peñagrande'</li><li>'Pilar'</li><li>'Pinar del Rey'</li><li>'Piovera'</li><li>'Portazgo'</li><li>'Pradolongo'</li><li>'Prosperidad'</li><li>'Pueblo Nuevo'</li><li>'Puerta Bonita'</li><li>'Puerta del Angel'</li><li>'Quintana'</li><li>'Recoletos'</li><li>'Rejas'</li><li>'Rios Rosas'</li><li>'Rosas'</li><li>'Salvador'</li><li>'San Andrés'</li><li>'San Cristobal'</li><li>'San Diego'</li><li>'San Fermín'</li><li>'San Isidro'</li><li>'San Juan Bautista'</li><li>'San Pascual'</li><li>'Santa Eugenia'</li><li>'Simancas'</li><li>'Sol'</li><li>'Timón'</li><li>'Trafalgar'</li><li>'Universidad'</li><li>'Valdeacederas'</li><li>'Valdefuentes'</li><li>'Valdemarín'</li><li>'Valdezarza'</li><li>'Vallehermoso'</li><li>'Valverde'</li><li>'Ventas'</li><li>'Vinateros'</li><li>'Vista Alegre'</li><li>'Zofío'</li></ol>\n",
       "</details>"
      ],
      "text/latex": [
       "\\begin{enumerate*}\n",
       "\\item Sol\n",
       "\\item Acacias\n",
       "\\item Palos de Moguer\n",
       "\\item Embajadores\n",
       "\\item Cortes\n",
       "\\item Palacio\n",
       "\\item Universidad\n",
       "\\item Delicias\n",
       "\\item Arapiles\n",
       "\\item Atocha\n",
       "\\item Goya\n",
       "\\end{enumerate*}\n",
       "\n",
       "\\emph{Levels}: \\begin{enumerate*}\n",
       "\\item 'Abrantes'\n",
       "\\item 'Acacias'\n",
       "\\item 'Adelfas'\n",
       "\\item 'Aeropuerto'\n",
       "\\item 'Aguilas'\n",
       "\\item 'Alameda de Osuna'\n",
       "\\item 'Almagro'\n",
       "\\item 'Almenara'\n",
       "\\item 'Almendrales'\n",
       "\\item 'Aluche'\n",
       "\\item 'Ambroz'\n",
       "\\item 'Amposta'\n",
       "\\item 'Apostol Santiago'\n",
       "\\item 'Arapiles'\n",
       "\\item 'Aravaca'\n",
       "\\item 'Arcos'\n",
       "\\item 'Argüelles'\n",
       "\\item 'Atocha'\n",
       "\\item 'Bellas Vistas'\n",
       "\\item 'Berruguete'\n",
       "\\item 'Buenavista'\n",
       "\\item 'Butarque'\n",
       "\\item 'Campamento'\n",
       "\\item 'Canillas'\n",
       "\\item 'Canillejas'\n",
       "\\item 'Cármenes'\n",
       "\\item 'Casa de Campo'\n",
       "\\item 'Casco Histórico de Barajas'\n",
       "\\item 'Casco Histórico de Vallecas'\n",
       "\\item 'Casco Histórico de Vicálvaro'\n",
       "\\item 'Castellana'\n",
       "\\item 'Castilla'\n",
       "\\item 'Castillejos'\n",
       "\\item 'Chopera'\n",
       "\\item 'Ciudad Jardín'\n",
       "\\item 'Ciudad Universitaria'\n",
       "\\item 'Colina'\n",
       "\\item 'Comillas'\n",
       "\\item 'Concepción'\n",
       "\\item 'Corralejos'\n",
       "\\item 'Cortes'\n",
       "\\item 'Costillares'\n",
       "\\item 'Cuatro Caminos'\n",
       "\\item 'Cuatro Vientos'\n",
       "\\item 'Delicias'\n",
       "\\item 'El Goloso'\n",
       "\\item 'El Plantío'\n",
       "\\item 'El Viso'\n",
       "\\item 'Embajadores'\n",
       "\\item 'Entrevías'\n",
       "\\item 'Estrella'\n",
       "\\item 'Fontarrón'\n",
       "\\item 'Fuente del Berro'\n",
       "\\item 'Fuentelareina'\n",
       "\\item 'Gaztambide'\n",
       "\\item 'Goya'\n",
       "\\item 'Guindalera'\n",
       "\\item 'Hellín'\n",
       "\\item 'Hispanoamérica'\n",
       "\\item 'Ibiza'\n",
       "\\item 'Imperial'\n",
       "\\item 'Jerónimos'\n",
       "\\item 'Justicia'\n",
       "\\item 'La Paz'\n",
       "\\item 'Legazpi'\n",
       "\\item 'Lista'\n",
       "\\item 'Los Angeles'\n",
       "\\item 'Los Rosales'\n",
       "\\item 'Lucero'\n",
       "\\item 'Marroquina'\n",
       "\\item 'Media Legua'\n",
       "\\item 'Mirasierra'\n",
       "\\item 'Moscardó'\n",
       "\\item 'Niño Jesús'\n",
       "\\item 'Nueva España'\n",
       "\\item 'Numancia'\n",
       "\\item 'Opañel'\n",
       "\\item 'Orcasitas'\n",
       "\\item 'Orcasur'\n",
       "\\item 'Pacífico'\n",
       "\\item 'Palacio'\n",
       "\\item 'Palomas'\n",
       "\\item 'Palomeras Bajas'\n",
       "\\item 'Palomeras Sureste'\n",
       "\\item 'Palos de Moguer'\n",
       "\\item 'Pavones'\n",
       "\\item 'Peñagrande'\n",
       "\\item 'Pilar'\n",
       "\\item 'Pinar del Rey'\n",
       "\\item 'Piovera'\n",
       "\\item 'Portazgo'\n",
       "\\item 'Pradolongo'\n",
       "\\item 'Prosperidad'\n",
       "\\item 'Pueblo Nuevo'\n",
       "\\item 'Puerta Bonita'\n",
       "\\item 'Puerta del Angel'\n",
       "\\item 'Quintana'\n",
       "\\item 'Recoletos'\n",
       "\\item 'Rejas'\n",
       "\\item 'Rios Rosas'\n",
       "\\item 'Rosas'\n",
       "\\item 'Salvador'\n",
       "\\item 'San Andrés'\n",
       "\\item 'San Cristobal'\n",
       "\\item 'San Diego'\n",
       "\\item 'San Fermín'\n",
       "\\item 'San Isidro'\n",
       "\\item 'San Juan Bautista'\n",
       "\\item 'San Pascual'\n",
       "\\item 'Santa Eugenia'\n",
       "\\item 'Simancas'\n",
       "\\item 'Sol'\n",
       "\\item 'Timón'\n",
       "\\item 'Trafalgar'\n",
       "\\item 'Universidad'\n",
       "\\item 'Valdeacederas'\n",
       "\\item 'Valdefuentes'\n",
       "\\item 'Valdemarín'\n",
       "\\item 'Valdezarza'\n",
       "\\item 'Vallehermoso'\n",
       "\\item 'Valverde'\n",
       "\\item 'Ventas'\n",
       "\\item 'Vinateros'\n",
       "\\item 'Vista Alegre'\n",
       "\\item 'Zofío'\n",
       "\\end{enumerate*}\n"
      ],
      "text/markdown": [
       "1. Sol\n",
       "2. Acacias\n",
       "3. Palos de Moguer\n",
       "4. Embajadores\n",
       "5. Cortes\n",
       "6. Palacio\n",
       "7. Universidad\n",
       "8. Delicias\n",
       "9. Arapiles\n",
       "10. Atocha\n",
       "11. Goya\n",
       "\n",
       "\n",
       "\n",
       "**Levels**: 1. 'Abrantes'\n",
       "2. 'Acacias'\n",
       "3. 'Adelfas'\n",
       "4. 'Aeropuerto'\n",
       "5. 'Aguilas'\n",
       "6. 'Alameda de Osuna'\n",
       "7. 'Almagro'\n",
       "8. 'Almenara'\n",
       "9. 'Almendrales'\n",
       "10. 'Aluche'\n",
       "11. 'Ambroz'\n",
       "12. 'Amposta'\n",
       "13. 'Apostol Santiago'\n",
       "14. 'Arapiles'\n",
       "15. 'Aravaca'\n",
       "16. 'Arcos'\n",
       "17. 'Argüelles'\n",
       "18. 'Atocha'\n",
       "19. 'Bellas Vistas'\n",
       "20. 'Berruguete'\n",
       "21. 'Buenavista'\n",
       "22. 'Butarque'\n",
       "23. 'Campamento'\n",
       "24. 'Canillas'\n",
       "25. 'Canillejas'\n",
       "26. 'Cármenes'\n",
       "27. 'Casa de Campo'\n",
       "28. 'Casco Histórico de Barajas'\n",
       "29. 'Casco Histórico de Vallecas'\n",
       "30. 'Casco Histórico de Vicálvaro'\n",
       "31. 'Castellana'\n",
       "32. 'Castilla'\n",
       "33. 'Castillejos'\n",
       "34. 'Chopera'\n",
       "35. 'Ciudad Jardín'\n",
       "36. 'Ciudad Universitaria'\n",
       "37. 'Colina'\n",
       "38. 'Comillas'\n",
       "39. 'Concepción'\n",
       "40. 'Corralejos'\n",
       "41. 'Cortes'\n",
       "42. 'Costillares'\n",
       "43. 'Cuatro Caminos'\n",
       "44. 'Cuatro Vientos'\n",
       "45. 'Delicias'\n",
       "46. 'El Goloso'\n",
       "47. 'El Plantío'\n",
       "48. 'El Viso'\n",
       "49. 'Embajadores'\n",
       "50. 'Entrevías'\n",
       "51. 'Estrella'\n",
       "52. 'Fontarrón'\n",
       "53. 'Fuente del Berro'\n",
       "54. 'Fuentelareina'\n",
       "55. 'Gaztambide'\n",
       "56. 'Goya'\n",
       "57. 'Guindalera'\n",
       "58. 'Hellín'\n",
       "59. 'Hispanoamérica'\n",
       "60. 'Ibiza'\n",
       "61. 'Imperial'\n",
       "62. 'Jerónimos'\n",
       "63. 'Justicia'\n",
       "64. 'La Paz'\n",
       "65. 'Legazpi'\n",
       "66. 'Lista'\n",
       "67. 'Los Angeles'\n",
       "68. 'Los Rosales'\n",
       "69. 'Lucero'\n",
       "70. 'Marroquina'\n",
       "71. 'Media Legua'\n",
       "72. 'Mirasierra'\n",
       "73. 'Moscardó'\n",
       "74. 'Niño Jesús'\n",
       "75. 'Nueva España'\n",
       "76. 'Numancia'\n",
       "77. 'Opañel'\n",
       "78. 'Orcasitas'\n",
       "79. 'Orcasur'\n",
       "80. 'Pacífico'\n",
       "81. 'Palacio'\n",
       "82. 'Palomas'\n",
       "83. 'Palomeras Bajas'\n",
       "84. 'Palomeras Sureste'\n",
       "85. 'Palos de Moguer'\n",
       "86. 'Pavones'\n",
       "87. 'Peñagrande'\n",
       "88. 'Pilar'\n",
       "89. 'Pinar del Rey'\n",
       "90. 'Piovera'\n",
       "91. 'Portazgo'\n",
       "92. 'Pradolongo'\n",
       "93. 'Prosperidad'\n",
       "94. 'Pueblo Nuevo'\n",
       "95. 'Puerta Bonita'\n",
       "96. 'Puerta del Angel'\n",
       "97. 'Quintana'\n",
       "98. 'Recoletos'\n",
       "99. 'Rejas'\n",
       "100. 'Rios Rosas'\n",
       "101. 'Rosas'\n",
       "102. 'Salvador'\n",
       "103. 'San Andrés'\n",
       "104. 'San Cristobal'\n",
       "105. 'San Diego'\n",
       "106. 'San Fermín'\n",
       "107. 'San Isidro'\n",
       "108. 'San Juan Bautista'\n",
       "109. 'San Pascual'\n",
       "110. 'Santa Eugenia'\n",
       "111. 'Simancas'\n",
       "112. 'Sol'\n",
       "113. 'Timón'\n",
       "114. 'Trafalgar'\n",
       "115. 'Universidad'\n",
       "116. 'Valdeacederas'\n",
       "117. 'Valdefuentes'\n",
       "118. 'Valdemarín'\n",
       "119. 'Valdezarza'\n",
       "120. 'Vallehermoso'\n",
       "121. 'Valverde'\n",
       "122. 'Ventas'\n",
       "123. 'Vinateros'\n",
       "124. 'Vista Alegre'\n",
       "125. 'Zofío'\n",
       "\n",
       "\n"
      ],
      "text/plain": [
       " [1] Sol             Acacias         Palos de Moguer Embajadores    \n",
       " [5] Cortes          Palacio         Universidad     Delicias       \n",
       " [9] Arapiles        Atocha          Goya           \n",
       "125 Levels: Abrantes Acacias Adelfas Aeropuerto Aguilas ... Zofío"
      ]
     },
     "metadata": {},
     "output_type": "display_data"
    }
   ],
   "source": [
    "barrio<-airbnb[airbnb$CodigoPostal %in% '28012',]\n",
    "unique(barrio$Barrio)"
   ]
  },
  {
   "cell_type": "markdown",
   "metadata": {},
   "source": [
    "¿Cuantas entradas hay en cada uno de esos barrios para el codigo postao 28012? Asumiendo que el identificador de Barrio sea correcto, ¿es fiable la columna de código postal?"
   ]
  },
  {
   "cell_type": "code",
   "execution_count": 14,
   "metadata": {},
   "outputs": [
    {
     "data": {
      "text/html": [
       "<style>\n",
       ".dl-inline {width: auto; margin:0; padding: 0}\n",
       ".dl-inline>dt, .dl-inline>dd {float: none; width: auto; display: inline-block}\n",
       ".dl-inline>dt::after {content: \":\\0020\"; padding-right: .5ex}\n",
       ".dl-inline>dt:not(:first-of-type) {padding-left: .5ex}\n",
       "</style><dl class=dl-inline><dt>Acacias</dt><dd>13</dd><dt>Arapiles</dt><dd>1</dd><dt>Atocha</dt><dd>1</dd><dt>Cortes</dt><dd>216</dd><dt>Delicias</dt><dd>1</dd><dt>Embajadores</dt><dd>1449</dd><dt>Goya</dt><dd>1</dd><dt>Palacio</dt><dd>27</dd><dt>Palos de Moguer</dt><dd>46</dd><dt>Sol</dt><dd>301</dd><dt>Universidad</dt><dd>4</dd></dl>\n"
      ],
      "text/latex": [
       "\\begin{description*}\n",
       "\\item[Acacias] 13\n",
       "\\item[Arapiles] 1\n",
       "\\item[Atocha] 1\n",
       "\\item[Cortes] 216\n",
       "\\item[Delicias] 1\n",
       "\\item[Embajadores] 1449\n",
       "\\item[Goya] 1\n",
       "\\item[Palacio] 27\n",
       "\\item[Palos de Moguer] 46\n",
       "\\item[Sol] 301\n",
       "\\item[Universidad] 4\n",
       "\\end{description*}\n"
      ],
      "text/markdown": [
       "Acacias\n",
       ":   13Arapiles\n",
       ":   1Atocha\n",
       ":   1Cortes\n",
       ":   216Delicias\n",
       ":   1Embajadores\n",
       ":   1449Goya\n",
       ":   1Palacio\n",
       ":   27Palos de Moguer\n",
       ":   46Sol\n",
       ":   301Universidad\n",
       ":   4\n",
       "\n"
      ],
      "text/plain": [
       "        Acacias        Arapiles          Atocha          Cortes        Delicias \n",
       "             13               1               1             216               1 \n",
       "    Embajadores            Goya         Palacio Palos de Moguer             Sol \n",
       "           1449               1              27              46             301 \n",
       "    Universidad \n",
       "              4 "
      ]
     },
     "metadata": {},
     "output_type": "display_data"
    }
   ],
   "source": [
    "barrio<-airbnb[airbnb$CodigoPostal %in% '28012',]\n",
    "barrio$Barrio<-droplevels(barrio$Barrio)\n",
    "summary(barrio$Barrio)"
   ]
  },
  {
   "cell_type": "code",
   "execution_count": null,
   "metadata": {},
   "outputs": [],
   "source": [
    "El código postal no es fiable, ya que no debería cubrir tantos barrios."
   ]
  },
  {
   "cell_type": "markdown",
   "metadata": {},
   "source": [
    "¿Cuantos barrios hay en todo el dataset airbnb? ¿Cuales son?"
   ]
  },
  {
   "cell_type": "code",
   "execution_count": 15,
   "metadata": {},
   "outputs": [
    {
     "data": {
      "text/html": [
       "<style>\n",
       ".dl-inline {width: auto; margin:0; padding: 0}\n",
       ".dl-inline>dt, .dl-inline>dd {float: none; width: auto; display: inline-block}\n",
       ".dl-inline>dt::after {content: \":\\0020\"; padding-right: .5ex}\n",
       ".dl-inline>dt:not(:first-of-type) {padding-left: .5ex}\n",
       "</style><dl class=dl-inline><dt>Embajadores</dt><dd>1844</dd><dt>Universidad</dt><dd>1358</dd><dt>Palacio</dt><dd>1083</dd><dt>Sol</dt><dd>940</dd><dt>Justicia</dt><dd>785</dd><dt>Cortes</dt><dd>750</dd><dt>Trafalgar</dt><dd>315</dd><dt>Argüelles</dt><dd>264</dd><dt>Palos de Moguer</dt><dd>262</dd><dt>Goya</dt><dd>229</dd><dt>Puerta del Angel</dt><dd>199</dd><dt>Guindalera</dt><dd>187</dd><dt>Arapiles</dt><dd>182</dd><dt>Recoletos</dt><dd>172</dd><dt>Almagro</dt><dd>155</dd><dt>Acacias</dt><dd>145</dd><dt>Gaztambide</dt><dd>142</dd><dt>Pacífico</dt><dd>138</dd><dt>Lista</dt><dd>129</dd><dt>Delicias</dt><dd>126</dd><dt>Cuatro Caminos</dt><dd>120</dd><dt>Chopera</dt><dd>112</dd><dt>Ibiza</dt><dd>105</dd><dt>Rios Rosas</dt><dd>104</dd><dt>Prosperidad</dt><dd>98</dd><dt>Castellana</dt><dd>97</dd><dt>Jerónimos</dt><dd>90</dd><dt>Imperial</dt><dd>89</dd><dt>San Isidro</dt><dd>85</dd><dt>Castillejos</dt><dd>81</dd><dt>San Diego</dt><dd>80</dd><dt>Bellas Vistas</dt><dd>79</dd><dt>Ventas</dt><dd>78</dd><dt>Casa de Campo</dt><dd>75</dd><dt>Vista Alegre</dt><dd>74</dd><dt>Hispanoamérica</dt><dd>72</dd><dt>Fuente del Berro</dt><dd>68</dd><dt>Berruguete</dt><dd>67</dd><dt>Almenara</dt><dd>62</dd><dt>Lucero</dt><dd>62</dd><dt>Nueva España</dt><dd>60</dd><dt>Vallehermoso</dt><dd>60</dd><dt>Comillas</dt><dd>59</dd><dt>Numancia</dt><dd>58</dd><dt>Opañel</dt><dd>57</dd><dt>Ciudad Jardín</dt><dd>55</dd><dt>Valdefuentes</dt><dd>55</dd><dt>Adelfas</dt><dd>51</dd><dt>Valdeacederas</dt><dd>48</dd><dt>Pinar del Rey</dt><dd>47</dd><dt>Concepción</dt><dd>46</dd><dt>Almendrales</dt><dd>45</dd><dt>Aluche</dt><dd>45</dd><dt>El Viso</dt><dd>45</dd><dt>Quintana</dt><dd>45</dd><dt>Simancas</dt><dd>45</dd><dt>Valverde</dt><dd>45</dd><dt>Canillas</dt><dd>42</dd><dt>Pueblo Nuevo</dt><dd>41</dd><dt>Casco Histórico de Vallecas</dt><dd>40</dd><dt>Peñagrande</dt><dd>39</dd><dt>Puerta Bonita</dt><dd>38</dd><dt>Legazpi</dt><dd>37</dd><dt>Ciudad Universitaria</dt><dd>34</dd><dt>Moscardó</dt><dd>34</dd><dt>Palomeras Bajas</dt><dd>33</dd><dt>Costillares</dt><dd>32</dd><dt>San Fermín</dt><dd>32</dd><dt>Cármenes</dt><dd>30</dd><dt>Casco Histórico de Barajas</dt><dd>28</dd><dt>Estrella</dt><dd>28</dd><dt>Los Rosales</dt><dd>28</dd><dt>Castilla</dt><dd>26</dd><dt>Niño Jesús</dt><dd>26</dd><dt>Pilar</dt><dd>26</dd><dt>San Juan Bautista</dt><dd>26</dd><dt>Alameda de Osuna</dt><dd>24</dd><dt>Fontarrón</dt><dd>24</dd><dt>Buenavista</dt><dd>22</dd><dt>Campamento</dt><dd>22</dd><dt>San Andrés</dt><dd>21</dd><dt>Casco Histórico de Vicálvaro</dt><dd>20</dd><dt>Rejas</dt><dd>20</dd><dt>Valdezarza</dt><dd>20</dd><dt>Portazgo</dt><dd>19</dd><dt>Abrantes</dt><dd>18</dd><dt>Arcos</dt><dd>18</dd><dt>Atocha</dt><dd>18</dd><dt>Mirasierra</dt><dd>18</dd><dt>San Pascual</dt><dd>18</dd><dt>Media Legua</dt><dd>17</dd><dt>Vinateros</dt><dd>17</dd><dt>Aravaca</dt><dd>16</dd><dt>Colina</dt><dd>16</dd><dt>La Paz</dt><dd>16</dd><dt>Los Angeles</dt><dd>16</dd><dt>Timón</dt><dd>16</dd><dt>Aguilas</dt><dd>15</dd><dt>Apostol Santiago</dt><dd>15</dd><dt>(Other)</dt><dd>192</dd></dl>\n"
      ],
      "text/latex": [
       "\\begin{description*}\n",
       "\\item[Embajadores] 1844\n",
       "\\item[Universidad] 1358\n",
       "\\item[Palacio] 1083\n",
       "\\item[Sol] 940\n",
       "\\item[Justicia] 785\n",
       "\\item[Cortes] 750\n",
       "\\item[Trafalgar] 315\n",
       "\\item[Argüelles] 264\n",
       "\\item[Palos de Moguer] 262\n",
       "\\item[Goya] 229\n",
       "\\item[Puerta del Angel] 199\n",
       "\\item[Guindalera] 187\n",
       "\\item[Arapiles] 182\n",
       "\\item[Recoletos] 172\n",
       "\\item[Almagro] 155\n",
       "\\item[Acacias] 145\n",
       "\\item[Gaztambide] 142\n",
       "\\item[Pacífico] 138\n",
       "\\item[Lista] 129\n",
       "\\item[Delicias] 126\n",
       "\\item[Cuatro Caminos] 120\n",
       "\\item[Chopera] 112\n",
       "\\item[Ibiza] 105\n",
       "\\item[Rios Rosas] 104\n",
       "\\item[Prosperidad] 98\n",
       "\\item[Castellana] 97\n",
       "\\item[Jerónimos] 90\n",
       "\\item[Imperial] 89\n",
       "\\item[San Isidro] 85\n",
       "\\item[Castillejos] 81\n",
       "\\item[San Diego] 80\n",
       "\\item[Bellas Vistas] 79\n",
       "\\item[Ventas] 78\n",
       "\\item[Casa de Campo] 75\n",
       "\\item[Vista Alegre] 74\n",
       "\\item[Hispanoamérica] 72\n",
       "\\item[Fuente del Berro] 68\n",
       "\\item[Berruguete] 67\n",
       "\\item[Almenara] 62\n",
       "\\item[Lucero] 62\n",
       "\\item[Nueva España] 60\n",
       "\\item[Vallehermoso] 60\n",
       "\\item[Comillas] 59\n",
       "\\item[Numancia] 58\n",
       "\\item[Opañel] 57\n",
       "\\item[Ciudad Jardín] 55\n",
       "\\item[Valdefuentes] 55\n",
       "\\item[Adelfas] 51\n",
       "\\item[Valdeacederas] 48\n",
       "\\item[Pinar del Rey] 47\n",
       "\\item[Concepción] 46\n",
       "\\item[Almendrales] 45\n",
       "\\item[Aluche] 45\n",
       "\\item[El Viso] 45\n",
       "\\item[Quintana] 45\n",
       "\\item[Simancas] 45\n",
       "\\item[Valverde] 45\n",
       "\\item[Canillas] 42\n",
       "\\item[Pueblo Nuevo] 41\n",
       "\\item[Casco Histórico de Vallecas] 40\n",
       "\\item[Peñagrande] 39\n",
       "\\item[Puerta Bonita] 38\n",
       "\\item[Legazpi] 37\n",
       "\\item[Ciudad Universitaria] 34\n",
       "\\item[Moscardó] 34\n",
       "\\item[Palomeras Bajas] 33\n",
       "\\item[Costillares] 32\n",
       "\\item[San Fermín] 32\n",
       "\\item[Cármenes] 30\n",
       "\\item[Casco Histórico de Barajas] 28\n",
       "\\item[Estrella] 28\n",
       "\\item[Los Rosales] 28\n",
       "\\item[Castilla] 26\n",
       "\\item[Niño Jesús] 26\n",
       "\\item[Pilar] 26\n",
       "\\item[San Juan Bautista] 26\n",
       "\\item[Alameda de Osuna] 24\n",
       "\\item[Fontarrón] 24\n",
       "\\item[Buenavista] 22\n",
       "\\item[Campamento] 22\n",
       "\\item[San Andrés] 21\n",
       "\\item[Casco Histórico de Vicálvaro] 20\n",
       "\\item[Rejas] 20\n",
       "\\item[Valdezarza] 20\n",
       "\\item[Portazgo] 19\n",
       "\\item[Abrantes] 18\n",
       "\\item[Arcos] 18\n",
       "\\item[Atocha] 18\n",
       "\\item[Mirasierra] 18\n",
       "\\item[San Pascual] 18\n",
       "\\item[Media Legua] 17\n",
       "\\item[Vinateros] 17\n",
       "\\item[Aravaca] 16\n",
       "\\item[Colina] 16\n",
       "\\item[La Paz] 16\n",
       "\\item[Los Angeles] 16\n",
       "\\item[Timón] 16\n",
       "\\item[Aguilas] 15\n",
       "\\item[Apostol Santiago] 15\n",
       "\\item[(Other)] 192\n",
       "\\end{description*}\n"
      ],
      "text/markdown": [
       "Embajadores\n",
       ":   1844Universidad\n",
       ":   1358Palacio\n",
       ":   1083Sol\n",
       ":   940Justicia\n",
       ":   785Cortes\n",
       ":   750Trafalgar\n",
       ":   315Argüelles\n",
       ":   264Palos de Moguer\n",
       ":   262Goya\n",
       ":   229Puerta del Angel\n",
       ":   199Guindalera\n",
       ":   187Arapiles\n",
       ":   182Recoletos\n",
       ":   172Almagro\n",
       ":   155Acacias\n",
       ":   145Gaztambide\n",
       ":   142Pacífico\n",
       ":   138Lista\n",
       ":   129Delicias\n",
       ":   126Cuatro Caminos\n",
       ":   120Chopera\n",
       ":   112Ibiza\n",
       ":   105Rios Rosas\n",
       ":   104Prosperidad\n",
       ":   98Castellana\n",
       ":   97Jerónimos\n",
       ":   90Imperial\n",
       ":   89San Isidro\n",
       ":   85Castillejos\n",
       ":   81San Diego\n",
       ":   80Bellas Vistas\n",
       ":   79Ventas\n",
       ":   78Casa de Campo\n",
       ":   75Vista Alegre\n",
       ":   74Hispanoamérica\n",
       ":   72Fuente del Berro\n",
       ":   68Berruguete\n",
       ":   67Almenara\n",
       ":   62Lucero\n",
       ":   62Nueva España\n",
       ":   60Vallehermoso\n",
       ":   60Comillas\n",
       ":   59Numancia\n",
       ":   58Opañel\n",
       ":   57Ciudad Jardín\n",
       ":   55Valdefuentes\n",
       ":   55Adelfas\n",
       ":   51Valdeacederas\n",
       ":   48Pinar del Rey\n",
       ":   47Concepción\n",
       ":   46Almendrales\n",
       ":   45Aluche\n",
       ":   45El Viso\n",
       ":   45Quintana\n",
       ":   45Simancas\n",
       ":   45Valverde\n",
       ":   45Canillas\n",
       ":   42Pueblo Nuevo\n",
       ":   41Casco Histórico de Vallecas\n",
       ":   40Peñagrande\n",
       ":   39Puerta Bonita\n",
       ":   38Legazpi\n",
       ":   37Ciudad Universitaria\n",
       ":   34Moscardó\n",
       ":   34Palomeras Bajas\n",
       ":   33Costillares\n",
       ":   32San Fermín\n",
       ":   32Cármenes\n",
       ":   30Casco Histórico de Barajas\n",
       ":   28Estrella\n",
       ":   28Los Rosales\n",
       ":   28Castilla\n",
       ":   26Niño Jesús\n",
       ":   26Pilar\n",
       ":   26San Juan Bautista\n",
       ":   26Alameda de Osuna\n",
       ":   24Fontarrón\n",
       ":   24Buenavista\n",
       ":   22Campamento\n",
       ":   22San Andrés\n",
       ":   21Casco Histórico de Vicálvaro\n",
       ":   20Rejas\n",
       ":   20Valdezarza\n",
       ":   20Portazgo\n",
       ":   19Abrantes\n",
       ":   18Arcos\n",
       ":   18Atocha\n",
       ":   18Mirasierra\n",
       ":   18San Pascual\n",
       ":   18Media Legua\n",
       ":   17Vinateros\n",
       ":   17Aravaca\n",
       ":   16Colina\n",
       ":   16La Paz\n",
       ":   16Los Angeles\n",
       ":   16Timón\n",
       ":   16Aguilas\n",
       ":   15Apostol Santiago\n",
       ":   15(Other)\n",
       ":   192\n",
       "\n"
      ],
      "text/plain": [
       "                 Embajadores                  Universidad \n",
       "                        1844                         1358 \n",
       "                     Palacio                          Sol \n",
       "                        1083                          940 \n",
       "                    Justicia                       Cortes \n",
       "                         785                          750 \n",
       "                   Trafalgar                    Argüelles \n",
       "                         315                          264 \n",
       "             Palos de Moguer                         Goya \n",
       "                         262                          229 \n",
       "            Puerta del Angel                   Guindalera \n",
       "                         199                          187 \n",
       "                    Arapiles                    Recoletos \n",
       "                         182                          172 \n",
       "                     Almagro                      Acacias \n",
       "                         155                          145 \n",
       "                  Gaztambide                     Pacífico \n",
       "                         142                          138 \n",
       "                       Lista                     Delicias \n",
       "                         129                          126 \n",
       "              Cuatro Caminos                      Chopera \n",
       "                         120                          112 \n",
       "                       Ibiza                   Rios Rosas \n",
       "                         105                          104 \n",
       "                 Prosperidad                   Castellana \n",
       "                          98                           97 \n",
       "                   Jerónimos                     Imperial \n",
       "                          90                           89 \n",
       "                  San Isidro                  Castillejos \n",
       "                          85                           81 \n",
       "                   San Diego                Bellas Vistas \n",
       "                          80                           79 \n",
       "                      Ventas                Casa de Campo \n",
       "                          78                           75 \n",
       "                Vista Alegre               Hispanoamérica \n",
       "                          74                           72 \n",
       "            Fuente del Berro                   Berruguete \n",
       "                          68                           67 \n",
       "                    Almenara                       Lucero \n",
       "                          62                           62 \n",
       "                Nueva España                 Vallehermoso \n",
       "                          60                           60 \n",
       "                    Comillas                     Numancia \n",
       "                          59                           58 \n",
       "                      Opañel                Ciudad Jardín \n",
       "                          57                           55 \n",
       "                Valdefuentes                      Adelfas \n",
       "                          55                           51 \n",
       "               Valdeacederas                Pinar del Rey \n",
       "                          48                           47 \n",
       "                  Concepción                  Almendrales \n",
       "                          46                           45 \n",
       "                      Aluche                      El Viso \n",
       "                          45                           45 \n",
       "                    Quintana                     Simancas \n",
       "                          45                           45 \n",
       "                    Valverde                     Canillas \n",
       "                          45                           42 \n",
       "                Pueblo Nuevo  Casco Histórico de Vallecas \n",
       "                          41                           40 \n",
       "                  Peñagrande                Puerta Bonita \n",
       "                          39                           38 \n",
       "                     Legazpi         Ciudad Universitaria \n",
       "                          37                           34 \n",
       "                    Moscardó              Palomeras Bajas \n",
       "                          34                           33 \n",
       "                 Costillares                   San Fermín \n",
       "                          32                           32 \n",
       "                    Cármenes   Casco Histórico de Barajas \n",
       "                          30                           28 \n",
       "                    Estrella                  Los Rosales \n",
       "                          28                           28 \n",
       "                    Castilla                   Niño Jesús \n",
       "                          26                           26 \n",
       "                       Pilar            San Juan Bautista \n",
       "                          26                           26 \n",
       "            Alameda de Osuna                    Fontarrón \n",
       "                          24                           24 \n",
       "                  Buenavista                   Campamento \n",
       "                          22                           22 \n",
       "                  San Andrés Casco Histórico de Vicálvaro \n",
       "                          21                           20 \n",
       "                       Rejas                   Valdezarza \n",
       "                          20                           20 \n",
       "                    Portazgo                     Abrantes \n",
       "                          19                           18 \n",
       "                       Arcos                       Atocha \n",
       "                          18                           18 \n",
       "                  Mirasierra                  San Pascual \n",
       "                          18                           18 \n",
       "                 Media Legua                    Vinateros \n",
       "                          17                           17 \n",
       "                     Aravaca                       Colina \n",
       "                          16                           16 \n",
       "                      La Paz                  Los Angeles \n",
       "                          16                           16 \n",
       "                       Timón                      Aguilas \n",
       "                          16                           15 \n",
       "            Apostol Santiago                      (Other) \n",
       "                          15                          192 "
      ]
     },
     "metadata": {},
     "output_type": "display_data"
    }
   ],
   "source": [
    "summary(airbnb$Barrio)"
   ]
  },
  {
   "cell_type": "markdown",
   "metadata": {},
   "source": [
    "¿Cuales son los 5 barrios que tienen mayor número entradas?"
   ]
  },
  {
   "cell_type": "code",
   "execution_count": 16,
   "metadata": {},
   "outputs": [
    {
     "data": {
      "text/html": [
       "<style>\n",
       ".dl-inline {width: auto; margin:0; padding: 0}\n",
       ".dl-inline>dt, .dl-inline>dd {float: none; width: auto; display: inline-block}\n",
       ".dl-inline>dt::after {content: \":\\0020\"; padding-right: .5ex}\n",
       ".dl-inline>dt:not(:first-of-type) {padding-left: .5ex}\n",
       "</style><dl class=dl-inline><dt>Embajadores</dt><dd>1844</dd><dt>Universidad</dt><dd>1358</dd><dt>Palacio</dt><dd>1083</dd><dt>Sol</dt><dd>940</dd><dt>Justicia</dt><dd>785</dd></dl>\n"
      ],
      "text/latex": [
       "\\begin{description*}\n",
       "\\item[Embajadores] 1844\n",
       "\\item[Universidad] 1358\n",
       "\\item[Palacio] 1083\n",
       "\\item[Sol] 940\n",
       "\\item[Justicia] 785\n",
       "\\end{description*}\n"
      ],
      "text/markdown": [
       "Embajadores\n",
       ":   1844Universidad\n",
       ":   1358Palacio\n",
       ":   1083Sol\n",
       ":   940Justicia\n",
       ":   785\n",
       "\n"
      ],
      "text/plain": [
       "Embajadores Universidad     Palacio         Sol    Justicia \n",
       "       1844        1358        1083         940         785 "
      ]
     },
     "metadata": {},
     "output_type": "display_data"
    }
   ],
   "source": [
    "head(summary(airbnb$Barrio), n = 5)"
   ]
  },
  {
   "cell_type": "markdown",
   "metadata": {},
   "source": [
    "¿Cuantos Tipos de Alquiler diferentes hay? ¿Cuales son? ¿Cuantas entradas en el dataframe hay por cada tipo?"
   ]
  },
  {
   "cell_type": "code",
   "execution_count": 17,
   "metadata": {
    "scrolled": true
   },
   "outputs": [
    {
     "data": {
      "text/html": [
       "<style>\n",
       ".dl-inline {width: auto; margin:0; padding: 0}\n",
       ".dl-inline>dt, .dl-inline>dd {float: none; width: auto; display: inline-block}\n",
       ".dl-inline>dt::after {content: \":\\0020\"; padding-right: .5ex}\n",
       ".dl-inline>dt:not(:first-of-type) {padding-left: .5ex}\n",
       "</style><dl class=dl-inline><dt>Entire home/apt</dt><dd>7903</dd><dt>Private room</dt><dd>5113</dd><dt>Shared room</dt><dd>191</dd></dl>\n"
      ],
      "text/latex": [
       "\\begin{description*}\n",
       "\\item[Entire home/apt] 7903\n",
       "\\item[Private room] 5113\n",
       "\\item[Shared room] 191\n",
       "\\end{description*}\n"
      ],
      "text/markdown": [
       "Entire home/apt\n",
       ":   7903Private room\n",
       ":   5113Shared room\n",
       ":   191\n",
       "\n"
      ],
      "text/plain": [
       "Entire home/apt    Private room     Shared room \n",
       "           7903            5113             191 "
      ]
     },
     "metadata": {},
     "output_type": "display_data"
    }
   ],
   "source": [
    "summary(airbnb$TipoAlquiler)"
   ]
  },
  {
   "cell_type": "markdown",
   "metadata": {},
   "source": [
    "Muestra el diagrama de cajas del precio para cada uno de los diferentes Tipos de Alquiler"
   ]
  },
  {
   "cell_type": "code",
   "execution_count": 18,
   "metadata": {},
   "outputs": [
    {
     "name": "stderr",
     "output_type": "stream",
     "text": [
      "Warning message:\n",
      "“Removed 9 rows containing non-finite values (stat_boxplot).”\n"
     ]
    },
    {
     "data": {
      "image/png": "[encoded data removed]",
      "text/plain": [
       "plot without title"
      ]
     },
     "metadata": {
      "image/png": {
       "height": 960,
       "width": 960
      },
      "text/plain": {
       "height": 960,
       "width": 960
      }
     },
     "output_type": "display_data"
    }
   ],
   "source": [
    "library(\"ggplot2\")\n",
    "options(repr.plot.height=16,repr.plot.width=16)\n",
    "ggplot(data=airbnb,aes(x=TipoAlquiler, y=Precio))+geom_boxplot()"
   ]
  },
  {
   "cell_type": "markdown",
   "metadata": {},
   "source": [
    "Cual es el precio medio de alquiler medio de cada uno, la diferencia que hay ¿es estadísticamente significativa?\n",
    "¿Con que test lo comprobarías?"
   ]
  },
  {
   "cell_type": "code",
   "execution_count": 19,
   "metadata": {},
   "outputs": [
    {
     "data": {
      "text/html": [
       "'El precio medio de un apartamento completo es 87.2966058763931'"
      ],
      "text/latex": [
       "'El precio medio de un apartamento completo es 87.2966058763931'"
      ],
      "text/markdown": [
       "'El precio medio de un apartamento completo es 87.2966058763931'"
      ],
      "text/plain": [
       "[1] \"El precio medio de un apartamento completo es 87.2966058763931\""
      ]
     },
     "metadata": {},
     "output_type": "display_data"
    },
    {
     "data": {
      "text/html": [
       "'El precio medio de una habitación privada es 34.255135981217'"
      ],
      "text/latex": [
       "'El precio medio de una habitación privada es 34.255135981217'"
      ],
      "text/markdown": [
       "'El precio medio de una habitación privada es 34.255135981217'"
      ],
      "text/plain": [
       "[1] \"El precio medio de una habitación privada es 34.255135981217\""
      ]
     },
     "metadata": {},
     "output_type": "display_data"
    },
    {
     "data": {
      "text/html": [
       "'El precio medio de una habitación compartida es 29.8534031413613'"
      ],
      "text/latex": [
       "'El precio medio de una habitación compartida es 29.8534031413613'"
      ],
      "text/markdown": [
       "'El precio medio de una habitación compartida es 29.8534031413613'"
      ],
      "text/plain": [
       "[1] \"El precio medio de una habitación compartida es 29.8534031413613\""
      ]
     },
     "metadata": {},
     "output_type": "display_data"
    }
   ],
   "source": [
    "Completo<-airbnb[airbnb$TipoAlquiler %in% 'Entire home/apt',]\n",
    "Privada<-airbnb[airbnb$TipoAlquiler %in% 'Private room',]\n",
    "Compartida<-airbnb[airbnb$TipoAlquiler %in% 'Shared room',]\n",
    "paste('El precio medio de un apartamento completo es', mean(Completo$Precio, na.rm=TRUE))\n",
    "paste('El precio medio de una habitación privada es', mean(Privada$Precio, na.rm=TRUE))\n",
    "paste('El precio medio de una habitación compartida es', mean(Compartida$Precio))"
   ]
  },
  {
   "cell_type": "code",
   "execution_count": null,
   "metadata": {},
   "outputs": [],
   "source": [
    "Para comprobar si las medias de varios grupos independientes son iguales, debe emplearse un análisis de varianza o ANOVA:"
   ]
  },
  {
   "cell_type": "code",
   "execution_count": 20,
   "metadata": {},
   "outputs": [
    {
     "data": {
      "text/plain": [
       "               Df   Sum Sq Mean Sq F value Pr(>F)    \n",
       "cl              2  8981217 4490608    1828 <2e-16 ***\n",
       "Residuals   13195 32417217    2457                   \n",
       "---\n",
       "Signif. codes:  0 ‘***’ 0.001 ‘**’ 0.01 ‘*’ 0.05 ‘.’ 0.1 ‘ ’ 1\n",
       "9 observations deleted due to missingness"
      ]
     },
     "metadata": {},
     "output_type": "display_data"
    }
   ],
   "source": [
    "mediaC<-Completo$Precio\n",
    "mediaP<-Privada$Precio\n",
    "mediaS<-Compartida$Precio\n",
    "df <- rbind(data.frame(value=mediaC,cl=\"Completo\"),data.frame(value=mediaP,cl=\"Privada\"),data.frame(value=mediaS,cl=\"Compartida\"))\n",
    "summary(aov( value ~ cl, data=df))"
   ]
  },
  {
   "cell_type": "code",
   "execution_count": null,
   "metadata": {},
   "outputs": [],
   "source": [
    "El p valor es menor a 0.05, lo que indica que hay diferencias significativas entre la media de los tres grupos."
   ]
  },
  {
   "cell_type": "markdown",
   "metadata": {},
   "source": [
    "Filtra el dataframe cuyos tipo de alquiler sea  'Entire home/apt' y guardalo en un dataframe llamado \n",
    "*airbnb_entire*.\n",
    "Estas serán las entradas que tienen un alquiler del piso completo."
   ]
  },
  {
   "cell_type": "code",
   "execution_count": 21,
   "metadata": {},
   "outputs": [
    {
     "data": {
      "text/html": [
       "<table>\n",
       "<caption>A data.frame: 7903 × 14</caption>\n",
       "<thead>\n",
       "\t<tr><th></th><th scope=col>CodigoPostal</th><th scope=col>Barrio</th><th scope=col>TipoPropiedad</th><th scope=col>TipoAlquiler</th><th scope=col>MaxOcupantes</th><th scope=col>NumBanyos</th><th scope=col>NumDormitorios</th><th scope=col>NumCamas</th><th scope=col>TipoCama</th><th scope=col>Comodidades</th><th scope=col>PiesCuadrados</th><th scope=col>Precio</th><th scope=col>Puntuacion</th><th scope=col>MetrosCuadrados</th></tr>\n",
       "\t<tr><th></th><th scope=col>&lt;fct&gt;</th><th scope=col>&lt;fct&gt;</th><th scope=col>&lt;fct&gt;</th><th scope=col>&lt;fct&gt;</th><th scope=col>&lt;int&gt;</th><th scope=col>&lt;dbl&gt;</th><th scope=col>&lt;int&gt;</th><th scope=col>&lt;int&gt;</th><th scope=col>&lt;fct&gt;</th><th scope=col>&lt;fct&gt;</th><th scope=col>&lt;int&gt;</th><th scope=col>&lt;int&gt;</th><th scope=col>&lt;int&gt;</th><th scope=col>&lt;dbl&gt;</th></tr>\n",
       "</thead>\n",
       "<tbody>\n",
       "\t<tr><th scope=row>2</th><td>28004</td><td>Universidad</td><td>Apartment  </td><td>Entire home/apt</td><td> 6</td><td>1</td><td>3</td><td> 5</td><td>Real Bed     </td><td>TV,Internet,Wireless Internet,Air conditioning,Kitchen,Indoor fireplace,Heating,Family/kid friendly,Washer,Dryer,Smoke detector,Carbon monoxide detector,Essentials,Shampoo                                                                                                                                                                                     </td><td> NA</td><td> 92</td><td> 96</td><td>      NA</td></tr>\n",
       "\t<tr><th scope=row>3</th><td>28004</td><td>Universidad</td><td>Apartment  </td><td>Entire home/apt</td><td> 3</td><td>1</td><td>2</td><td> 2</td><td>Real Bed     </td><td>TV,Internet,Wireless Internet,Air conditioning,Kitchen,Doorman,Heating,Family/kid friendly,Washer,Essentials,Shampoo,Hangers,Hair dryer,Iron,Laptop friendly workspace                                                                                                                                                                                          </td><td> NA</td><td> 55</td><td> 91</td><td>      NA</td></tr>\n",
       "\t<tr><th scope=row>4</th><td>28004</td><td>Universidad</td><td>Loft       </td><td>Entire home/apt</td><td> 3</td><td>2</td><td>1</td><td> 1</td><td>Real Bed     </td><td>TV,Internet,Wireless Internet,Air conditioning,Kitchen,Pets allowed,Breakfast,Elevator in building,Indoor fireplace,Buzzer/wireless intercom,Heating,Washer,Essentials,Shampoo,Hangers,Hair dryer,Iron,Laptop friendly workspace,translation missing: en.hosting_amenity_49,translation missing: en.hosting_amenity_50                                          </td><td> NA</td><td> 60</td><td>100</td><td>      NA</td></tr>\n",
       "\t<tr><th scope=row>5</th><td>28015</td><td>Universidad</td><td>Apartment  </td><td>Entire home/apt</td><td> 5</td><td>1</td><td>1</td><td> 1</td><td>Real Bed     </td><td>TV,Wireless Internet,Air conditioning,Kitchen,Smoking allowed,Pets allowed,Elevator in building,Heating,Family/kid friendly,Washer,Essentials,Iron                                                                                                                                                                                                              </td><td>538</td><td> 75</td><td> 90</td><td>49.98181</td></tr>\n",
       "\t<tr><th scope=row>6</th><td>28004</td><td>Universidad</td><td>Apartment  </td><td>Entire home/apt</td><td> 2</td><td>1</td><td>0</td><td> 1</td><td>Real Bed     </td><td>TV,Cable TV,Internet,Wireless Internet,Air conditioning,Wheelchair accessible,Kitchen,Doorman,Elevator in building,Buzzer/wireless intercom,Heating,Washer,Smoke detector,Carbon monoxide detector,First aid kit,Safety card,Fire extinguisher,Essentials,Shampoo,24-hour check-in,Hangers,Hair dryer,Iron,Laptop friendly workspace,Self Check-In,Doorman Entry</td><td> NA</td><td> 55</td><td> 95</td><td>      NA</td></tr>\n",
       "\t<tr><th scope=row>8</th><td>28004</td><td>Universidad</td><td>Apartment  </td><td>Entire home/apt</td><td> 3</td><td>1</td><td>1</td><td>NA</td><td>Real Bed     </td><td>TV,Wireless Internet,Air conditioning,Kitchen,Elevator in building,Buzzer/wireless intercom,Heating,Washer                                                                                                                                                                                                                                                      </td><td> NA</td><td> 70</td><td> 84</td><td>      NA</td></tr>\n",
       "\t<tr><th scope=row>9</th><td>28015</td><td>Universidad</td><td>Apartment  </td><td>Entire home/apt</td><td> 2</td><td>1</td><td>1</td><td> 1</td><td>Real Bed     </td><td>TV,Internet,Wireless Internet,Kitchen,Elevator in building,Buzzer/wireless intercom,Heating,Family/kid friendly,Washer,Dryer,Essentials,Shampoo,translation missing: en.hosting_amenity_49                                                                                                                                                                      </td><td>700</td><td> 90</td><td> 98</td><td>65.03210</td></tr>\n",
       "\t<tr><th scope=row>10</th><td>28004</td><td>Universidad</td><td>Apartment  </td><td>Entire home/apt</td><td> 4</td><td>2</td><td>2</td><td> 2</td><td>Real Bed     </td><td>TV,Wireless Internet,Air conditioning,Kitchen,Elevator in building,Hot tub,Heating,Family/kid friendly,Washer,Dryer,Essentials,Hair dryer,Iron                                                                                                                                                                                                                  </td><td> NA</td><td>155</td><td> NA</td><td>      NA</td></tr>\n",
       "\t<tr><th scope=row>11</th><td>28004</td><td>Universidad</td><td>Apartment  </td><td>Entire home/apt</td><td> 4</td><td>1</td><td>1</td><td> 2</td><td>Real Bed     </td><td>TV,Wireless Internet,Air conditioning,Wheelchair accessible,Kitchen,Elevator in building,Buzzer/wireless intercom,Heating,Family/kid friendly,Washer,Essentials,Shampoo                                                                                                                                                                                         </td><td> 40</td><td> 70</td><td> 90</td><td> 3.71612</td></tr>\n",
       "\t<tr><th scope=row>15</th><td>28013</td><td>Sol        </td><td>Apartment  </td><td>Entire home/apt</td><td> 4</td><td>1</td><td>1</td><td> 1</td><td>Real Bed     </td><td>TV,Wireless Internet,Air conditioning,Kitchen,Doorman,Elevator in building,Buzzer/wireless intercom,Heating,Family/kid friendly,Suitable for events,Washer,Essentials,Hangers,Hair dryer,Iron                                                                                                                                                                   </td><td>646</td><td> 75</td><td> 91</td><td>60.01534</td></tr>\n",
       "\t<tr><th scope=row>16</th><td>28013</td><td>Sol        </td><td>Condominium</td><td>Entire home/apt</td><td> 6</td><td>1</td><td>2</td><td> 3</td><td>Real Bed     </td><td>TV,Wireless Internet,Air conditioning,Kitchen,Doorman,Elevator in building,Buzzer/wireless intercom,Heating,Family/kid friendly,Washer,Dryer,Essentials,Shampoo,Hangers,Hair dryer,Iron                                                                                                                                                                         </td><td> NA</td><td>130</td><td>100</td><td>      NA</td></tr>\n",
       "\t<tr><th scope=row>17</th><td>28013</td><td>Sol        </td><td>Apartment  </td><td>Entire home/apt</td><td> 4</td><td>1</td><td>1</td><td> 2</td><td>Real Bed     </td><td>TV,Internet,Wireless Internet,Air conditioning,Kitchen,Doorman,Elevator in building,Buzzer/wireless intercom,Heating,Family/kid friendly,Washer,Smoke detector,Carbon monoxide detector,First aid kit,Safety card,Fire extinguisher,Essentials,Shampoo,24-hour check-in,Hangers,Hair dryer,Iron,Laptop friendly workspace                                       </td><td> NA</td><td>100</td><td> 97</td><td>      NA</td></tr>\n",
       "\t<tr><th scope=row>18</th><td>28012</td><td>Sol        </td><td>Apartment  </td><td>Entire home/apt</td><td> 6</td><td>1</td><td>2</td><td> 2</td><td>Real Bed     </td><td>TV,Internet,Wireless Internet,Air conditioning,Kitchen,Smoking allowed,Elevator in building,Buzzer/wireless intercom,Heating,Family/kid friendly,Washer,Dryer,Essentials,Shampoo,Hangers,Hair dryer,Iron,Laptop friendly workspace                                                                                                                              </td><td> NA</td><td>160</td><td> 95</td><td>      NA</td></tr>\n",
       "\t<tr><th scope=row>19</th><td>28013</td><td>Sol        </td><td>Apartment  </td><td>Entire home/apt</td><td> 4</td><td>1</td><td>1</td><td> 2</td><td>Real Bed     </td><td>TV,Internet,Wireless Internet,Air conditioning,Kitchen,Heating,Washer,Essentials,Hangers,Hair dryer,translation missing: en.hosting_amenity_50                                                                                                                                                                                                                  </td><td> NA</td><td> 49</td><td> 95</td><td>      NA</td></tr>\n",
       "\t<tr><th scope=row>21</th><td>28013</td><td>Sol        </td><td>Apartment  </td><td>Entire home/apt</td><td> 4</td><td>1</td><td>1</td><td> 2</td><td>Real Bed     </td><td>TV,Wireless Internet,Kitchen,Pets allowed,Elevator in building,Heating,Family/kid friendly,Washer,Essentials,Shampoo,Hangers,Hair dryer,Laptop friendly workspace                                                                                                                                                                                               </td><td> NA</td><td> 70</td><td> 88</td><td>      NA</td></tr>\n",
       "\t<tr><th scope=row>22</th><td>28005</td><td>Sol        </td><td>Apartment  </td><td>Entire home/apt</td><td>10</td><td>2</td><td>4</td><td> 7</td><td>Real Bed     </td><td>TV,Internet,Wireless Internet,Air conditioning,Kitchen,Heating,Family/kid friendly,Washer,Essentials                                                                                                                                                                                                                                                            </td><td> NA</td><td>210</td><td> 81</td><td>      NA</td></tr>\n",
       "\t<tr><th scope=row>23</th><td>28013</td><td>Sol        </td><td>Apartment  </td><td>Entire home/apt</td><td> 6</td><td>1</td><td>2</td><td> 4</td><td>Real Bed     </td><td>TV,Internet,Wireless Internet,Air conditioning,Kitchen,Smoking allowed,Pets allowed,Doorman,Elevator in building,Buzzer/wireless intercom,Heating,Family/kid friendly,Washer,First aid kit,Safety card,Essentials,Shampoo,Hangers,Hair dryer,Iron                                                                                                               </td><td> NA</td><td>120</td><td> 99</td><td>      NA</td></tr>\n",
       "\t<tr><th scope=row>24</th><td>28012</td><td>Sol        </td><td>Apartment  </td><td>Entire home/apt</td><td> 4</td><td>1</td><td>1</td><td> 2</td><td>Real Bed     </td><td>TV,Internet,Wireless Internet,Air conditioning,Kitchen,Elevator in building,Heating,Family/kid friendly,Washer,Smoke detector,Carbon monoxide detector,Essentials,Shampoo,24-hour check-in,Hangers,Hair dryer,Iron,Laptop friendly workspace                                                                                                                    </td><td> NA</td><td> 50</td><td> 91</td><td>      NA</td></tr>\n",
       "\t<tr><th scope=row>25</th><td>28012</td><td>Sol        </td><td>Apartment  </td><td>Entire home/apt</td><td> 4</td><td>1</td><td>1</td><td> 1</td><td>Real Bed     </td><td>TV,Cable TV,Internet,Wireless Internet,Air conditioning,Kitchen,Elevator in building,Buzzer/wireless intercom,Heating,Family/kid friendly,Washer,Essentials,Hair dryer,Iron                                                                                                                                                                                     </td><td>753</td><td>100</td><td> 87</td><td>69.95596</td></tr>\n",
       "\t<tr><th scope=row>26</th><td>28013</td><td>Sol        </td><td>Apartment  </td><td>Entire home/apt</td><td> 4</td><td>1</td><td>1</td><td> 2</td><td>Real Bed     </td><td>TV,Internet,Wireless Internet,Air conditioning,Kitchen,Breakfast,Elevator in building,Heating,Family/kid friendly,Washer,First aid kit,Fire extinguisher,Essentials,Shampoo,Hangers,Hair dryer,Iron,Laptop friendly workspace                                                                                                                                   </td><td> NA</td><td> 75</td><td>100</td><td>      NA</td></tr>\n",
       "\t<tr><th scope=row>27</th><td>28014</td><td>Sol        </td><td>Condominium</td><td>Entire home/apt</td><td> 8</td><td>2</td><td>2</td><td> 5</td><td>Real Bed     </td><td>TV,Internet,Wireless Internet,Air conditioning,Wheelchair accessible,Kitchen,Doorman,Elevator in building,Buzzer/wireless intercom,Heating,Family/kid friendly,Washer,Smoke detector,Carbon monoxide detector,Essentials,Shampoo,24-hour check-in,Hangers,Hair dryer,Iron,Laptop friendly workspace                                                             </td><td> NA</td><td>155</td><td> 93</td><td>      NA</td></tr>\n",
       "\t<tr><th scope=row>28</th><td>28013</td><td>Sol        </td><td>Apartment  </td><td>Entire home/apt</td><td> 6</td><td>2</td><td>2</td><td> 3</td><td>Real Bed     </td><td>TV,Internet,Wireless Internet,Air conditioning,Wheelchair accessible,Kitchen,Doorman,Elevator in building,Buzzer/wireless intercom,Heating,Family/kid friendly,Washer,Dryer,Essentials,Hangers,Hair dryer,Iron                                                                                                                                                  </td><td> NA</td><td>155</td><td> 80</td><td>      NA</td></tr>\n",
       "\t<tr><th scope=row>30</th><td>28005</td><td>Sol        </td><td>Apartment  </td><td>Entire home/apt</td><td> 8</td><td>1</td><td>3</td><td> 4</td><td>Real Bed     </td><td>TV,Internet,Wireless Internet,Kitchen,Breakfast,Elevator in building,Buzzer/wireless intercom,Heating,Family/kid friendly,Washer,Essentials,Shampoo,Hangers,Hair dryer,Iron,Laptop friendly workspace,Self Check-In,Lockbox                                                                                                                                     </td><td> NA</td><td>163</td><td>100</td><td>      NA</td></tr>\n",
       "\t<tr><th scope=row>31</th><td>28005</td><td>Imperial   </td><td>Apartment  </td><td>Entire home/apt</td><td> 3</td><td>1</td><td>1</td><td> 1</td><td>Real Bed     </td><td>TV,Internet,Wireless Internet,Kitchen,Pets allowed,Elevator in building,Heating,Family/kid friendly,Washer,Fire extinguisher,Essentials,Shampoo,Hangers,Hair dryer,Iron,Laptop friendly workspace,translation missing: en.hosting_amenity_50                                                                                                                    </td><td> NA</td><td> 70</td><td> 95</td><td>      NA</td></tr>\n",
       "\t<tr><th scope=row>32</th><td>28005</td><td>Imperial   </td><td>Apartment  </td><td>Entire home/apt</td><td> 3</td><td>1</td><td>2</td><td> 2</td><td>Real Bed     </td><td>TV,Wireless Internet,Kitchen,Heating,Family/kid friendly,Washer,Essentials,Hair dryer,translation missing: en.hosting_amenity_50                                                                                                                                                                                                                                </td><td> NA</td><td> 49</td><td> 88</td><td>      NA</td></tr>\n",
       "\t<tr><th scope=row>36</th><td>28005</td><td>Acacias    </td><td>House      </td><td>Entire home/apt</td><td> 4</td><td>2</td><td>2</td><td> 4</td><td>Real Bed     </td><td>TV,Wireless Internet,Air conditioning,Wheelchair accessible,Kitchen,Doorman,Elevator in building,Buzzer/wireless intercom,Heating,Washer,Essentials,Shampoo,Hangers,Hair dryer,Iron,Laptop friendly workspace                                                                                                                                                   </td><td> NA</td><td> 90</td><td> 92</td><td>      NA</td></tr>\n",
       "\t<tr><th scope=row>43</th><td>28013</td><td>Sol        </td><td>Apartment  </td><td>Entire home/apt</td><td> 4</td><td>1</td><td>1</td><td> 1</td><td>Pull-out Sofa</td><td>TV,Internet,Wireless Internet,Air conditioning,Kitchen,Elevator in building,Buzzer/wireless intercom,Heating,Family/kid friendly,Washer,Smoke detector,Carbon monoxide detector,First aid kit,Essentials,Shampoo,24-hour check-in,Hangers,Hair dryer,Iron,Laptop friendly workspace,translation missing: en.hosting_amenity_50                                  </td><td> NA</td><td> 64</td><td> 97</td><td>      NA</td></tr>\n",
       "\t<tr><th scope=row>44</th><td>28013</td><td>Sol        </td><td>Apartment  </td><td>Entire home/apt</td><td> 6</td><td>2</td><td>2</td><td> 2</td><td>Real Bed     </td><td>TV,Wireless Internet,Air conditioning,Kitchen,Elevator in building,Heating,Washer,Essentials,Shampoo                                                                                                                                                                                                                                                            </td><td> NA</td><td>109</td><td> 90</td><td>      NA</td></tr>\n",
       "\t<tr><th scope=row>45</th><td>28013</td><td>Sol        </td><td>Apartment  </td><td>Entire home/apt</td><td> 3</td><td>1</td><td>1</td><td> 2</td><td>Real Bed     </td><td>TV,Internet,Wireless Internet,Air conditioning,Kitchen,Smoking allowed,Elevator in building,Buzzer/wireless intercom,Heating,Family/kid friendly,Washer,Fire extinguisher,Essentials,Shampoo,Hangers,Hair dryer,Iron                                                                                                                                            </td><td> NA</td><td> 67</td><td> 95</td><td>      NA</td></tr>\n",
       "\t<tr><th scope=row>46</th><td>28013</td><td>Sol        </td><td>Apartment  </td><td>Entire home/apt</td><td> 2</td><td>1</td><td>1</td><td> 1</td><td>Real Bed     </td><td>TV,Internet,Wireless Internet,Air conditioning,Kitchen,Elevator in building,Buzzer/wireless intercom,Heating,Family/kid friendly,Washer,First aid kit,Essentials,Shampoo,Hair dryer,Iron                                                                                                                                                                        </td><td>269</td><td> 65</td><td> 93</td><td>24.99091</td></tr>\n",
       "\t<tr><th scope=row>⋮</th><td>⋮</td><td>⋮</td><td>⋮</td><td>⋮</td><td>⋮</td><td>⋮</td><td>⋮</td><td>⋮</td><td>⋮</td><td>⋮</td><td>⋮</td><td>⋮</td><td>⋮</td><td>⋮</td></tr>\n",
       "\t<tr><th scope=row>13157</th><td>28010</td><td>Almagro             </td><td>Apartment  </td><td>Entire home/apt</td><td> 2</td><td>1.0</td><td>0</td><td> 1</td><td>Pull-out Sofa</td><td>TV,Wireless Internet,Kitchen,Buzzer/wireless intercom,Heating,Essentials,Hangers,Iron,translation missing: en.hosting_amenity_49,translation missing: en.hosting_amenity_50                                                                                                                                          </td><td> NA</td><td> 30</td><td> 83</td><td>      NA</td></tr>\n",
       "\t<tr><th scope=row>13158</th><td>28010</td><td>Almagro             </td><td>Apartment  </td><td>Entire home/apt</td><td> 2</td><td>1.0</td><td>1</td><td> 1</td><td>Real Bed     </td><td>TV,Internet,Wireless Internet,Air conditioning,Kitchen,Pets allowed,Doorman,Elevator in building,Buzzer/wireless intercom,Heating,Family/kid friendly,Washer,Essentials,Hangers,Iron,Laptop friendly workspace,translation missing: en.hosting_amenity_49                                                            </td><td> NA</td><td> 45</td><td>100</td><td>      NA</td></tr>\n",
       "\t<tr><th scope=row>13159</th><td>28003</td><td>Rios Rosas          </td><td>Apartment  </td><td>Entire home/apt</td><td> 3</td><td>1.0</td><td>1</td><td> 1</td><td>Real Bed     </td><td>TV,Internet,Wireless Internet,Air conditioning,Kitchen,Elevator in building,Buzzer/wireless intercom,Heating,Family/kid friendly,Washer,Fire extinguisher,Essentials,24-hour check-in,Hangers,Hair dryer,Iron,Laptop friendly workspace                                                                              </td><td> NA</td><td> 39</td><td> 94</td><td>      NA</td></tr>\n",
       "\t<tr><th scope=row>13167</th><td>28008</td><td>Argüelles           </td><td>House      </td><td>Entire home/apt</td><td> 3</td><td>1.0</td><td>1</td><td> 2</td><td>Real Bed     </td><td>TV,Internet,Wireless Internet,Air conditioning,Kitchen,Elevator in building,Heating,Washer,Smoke detector,Fire extinguisher,Essentials,Hangers,Hair dryer,Iron,Laptop friendly workspace                                                                                                                             </td><td> NA</td><td>105</td><td> NA</td><td>      NA</td></tr>\n",
       "\t<tr><th scope=row>13168</th><td>28008</td><td>Argüelles           </td><td>House      </td><td>Entire home/apt</td><td> 5</td><td>1.0</td><td>3</td><td> 4</td><td>Real Bed     </td><td>TV,Internet,Wireless Internet,Wheelchair accessible,Kitchen,Smoking allowed,Doorman,Elevator in building,Buzzer/wireless intercom,Heating,Family/kid friendly,Washer,Fire extinguisher,Essentials,Shampoo,24-hour check-in,Hangers,Hair dryer,Iron,Laptop friendly workspace                                         </td><td> NA</td><td>139</td><td> 92</td><td>      NA</td></tr>\n",
       "\t<tr><th scope=row>13169</th><td>28008</td><td>Argüelles           </td><td>Apartment  </td><td>Entire home/apt</td><td> 4</td><td>1.0</td><td>1</td><td> 1</td><td>Real Bed     </td><td>TV,Wireless Internet,Kitchen,Elevator in building,Heating,Family/kid friendly,Washer,Dryer,Essentials,Shampoo,24-hour check-in,Hangers,Hair dryer,Iron,Laptop friendly workspace                                                                                                                                     </td><td> NA</td><td> 61</td><td> 92</td><td>      NA</td></tr>\n",
       "\t<tr><th scope=row>13175</th><td>28003</td><td>Ciudad Universitaria</td><td>Loft       </td><td>Entire home/apt</td><td> 3</td><td>1.0</td><td>1</td><td> 2</td><td>Real Bed     </td><td>TV,Wireless Internet,Kitchen,Breakfast,Elevator in building,Buzzer/wireless intercom,Heating,Family/kid friendly,Washer,Essentials,Shampoo,Hangers,Iron,Laptop friendly workspace                                                                                                                                    </td><td> NA</td><td> 55</td><td>100</td><td>      NA</td></tr>\n",
       "\t<tr><th scope=row>13176</th><td>28038</td><td>Numancia            </td><td>Apartment  </td><td>Entire home/apt</td><td> 6</td><td>1.0</td><td>3</td><td> 4</td><td>Real Bed     </td><td>TV,Internet,Wireless Internet,Air conditioning,Kitchen,Buzzer/wireless intercom,Heating,Family/kid friendly,Washer,First aid kit,Essentials,Shampoo,Hangers,Hair dryer,Iron,Laptop friendly workspace                                                                                                                </td><td> NA</td><td> 65</td><td> 94</td><td>      NA</td></tr>\n",
       "\t<tr><th scope=row>13179</th><td>28023</td><td>Aravaca             </td><td>Condominium</td><td>Entire home/apt</td><td> 3</td><td>1.0</td><td>1</td><td> 3</td><td>Real Bed     </td><td>TV,Internet,Wireless Internet,Pool,Kitchen,Free parking on premises,Doorman,Heating,Family/kid friendly,Washer,Essentials,24-hour check-in,Hangers,Iron,Laptop friendly workspace,Private entrance                                                                                                                   </td><td> NA</td><td> 50</td><td>100</td><td>      NA</td></tr>\n",
       "\t<tr><th scope=row>13183</th><td>28004</td><td>Universidad         </td><td>Other      </td><td>Entire home/apt</td><td> 3</td><td>1.0</td><td>1</td><td> 1</td><td>Real Bed     </td><td>TV,Internet,Wireless Internet,Air conditioning,Kitchen,Smoking allowed,Pets allowed,Elevator in building,Buzzer/wireless intercom,Heating,Family/kid friendly,Washer,Dryer,Fire extinguisher,Essentials,24-hour check-in,Hangers,Hair dryer,Iron                                                                     </td><td> NA</td><td> 43</td><td> 83</td><td>      NA</td></tr>\n",
       "\t<tr><th scope=row>13184</th><td>28004</td><td>Universidad         </td><td>Apartment  </td><td>Entire home/apt</td><td> 3</td><td>1.0</td><td>1</td><td> 1</td><td>Real Bed     </td><td>TV,Internet,Wireless Internet,Kitchen,Buzzer/wireless intercom,Heating,Washer,Dryer,Essentials,Shampoo,24-hour check-in,Hangers,Hair dryer,Iron,Laptop friendly workspace,translation missing: en.hosting_amenity_49,translation missing: en.hosting_amenity_50                                                      </td><td> NA</td><td> 80</td><td> 96</td><td>      NA</td></tr>\n",
       "\t<tr><th scope=row>13185</th><td>28004</td><td>Universidad         </td><td>Apartment  </td><td>Entire home/apt</td><td> 2</td><td>1.0</td><td>1</td><td> 1</td><td>Real Bed     </td><td>TV,Internet,Wireless Internet,Air conditioning,Kitchen,Elevator in building,Heating,Washer,Dryer,First aid kit,Essentials,Hangers,Hair dryer,Iron,translation missing: en.hosting_amenity_49,translation missing: en.hosting_amenity_50                                                                              </td><td> NA</td><td> 80</td><td> 99</td><td>      NA</td></tr>\n",
       "\t<tr><th scope=row>13186</th><td>28015</td><td>Universidad         </td><td>Apartment  </td><td>Entire home/apt</td><td> 4</td><td>1.0</td><td>1</td><td> 2</td><td>Real Bed     </td><td>TV,Internet,Wireless Internet,Air conditioning,Kitchen,Elevator in building,Heating,Family/kid friendly,Washer,Smoke detector,Fire extinguisher,Essentials,Shampoo,Lock on bedroom door,Hangers,Hair dryer,Iron                                                                                                      </td><td> NA</td><td>100</td><td>100</td><td>      NA</td></tr>\n",
       "\t<tr><th scope=row>13187</th><td>28015</td><td>Universidad         </td><td>Apartment  </td><td>Entire home/apt</td><td> 2</td><td>1.0</td><td>1</td><td> 2</td><td>Real Bed     </td><td>TV,Wireless Internet,Air conditioning,Kitchen,Elevator in building,Buzzer/wireless intercom,Heating,Family/kid friendly,Washer                                                                                                                                                                                       </td><td>291</td><td> 50</td><td> 87</td><td>27.03477</td></tr>\n",
       "\t<tr><th scope=row>13188</th><td>28015</td><td>Universidad         </td><td>Apartment  </td><td>Entire home/apt</td><td> 5</td><td>1.0</td><td>2</td><td> 3</td><td>Real Bed     </td><td>TV,Internet,Wireless Internet,Kitchen,Smoking allowed,Elevator in building,Buzzer/wireless intercom,Heating,Family/kid friendly,Washer,First aid kit,Essentials,Shampoo,24-hour check-in,Hangers,Hair dryer,Iron,Laptop friendly workspace                                                                           </td><td> NA</td><td> 85</td><td> 90</td><td>      NA</td></tr>\n",
       "\t<tr><th scope=row>13190</th><td>28015</td><td>Universidad         </td><td>Apartment  </td><td>Entire home/apt</td><td> 4</td><td>1.0</td><td>1</td><td> 2</td><td>Real Bed     </td><td>TV,Wireless Internet,Air conditioning,Kitchen,Smoking allowed,Heating,Family/kid friendly,Washer,Dryer,Smoke detector,First aid kit,Essentials,Shampoo,Hangers,Hair dryer,Iron                                                                                                                                       </td><td> NA</td><td> 60</td><td>100</td><td>      NA</td></tr>\n",
       "\t<tr><th scope=row>13191</th><td>28013</td><td>Universidad         </td><td>Apartment  </td><td>Entire home/apt</td><td> 2</td><td>1.0</td><td>1</td><td> 1</td><td>Real Bed     </td><td>TV,Wireless Internet,Air conditioning,Kitchen,Elevator in building,Heating,Washer,Dryer,Essentials,Shampoo,Hangers,Hair dryer,Iron,Laptop friendly workspace,translation missing: en.hosting_amenity_49,translation missing: en.hosting_amenity_50                                                                   </td><td> NA</td><td>145</td><td> NA</td><td>      NA</td></tr>\n",
       "\t<tr><th scope=row>13192</th><td>28004</td><td>Universidad         </td><td>Apartment  </td><td>Entire home/apt</td><td> 4</td><td>1.0</td><td>1</td><td> 2</td><td>Real Bed     </td><td>TV,Internet,Wireless Internet,Air conditioning,Kitchen,Pets allowed,Indoor fireplace,Buzzer/wireless intercom,Heating,Family/kid friendly,Washer,Smoke detector,Carbon monoxide detector,Essentials,Shampoo,24-hour check-in,Hangers,Hair dryer,Iron,Laptop friendly workspace                                       </td><td> NA</td><td> 62</td><td> 91</td><td>      NA</td></tr>\n",
       "\t<tr><th scope=row>13193</th><td>28004</td><td>Universidad         </td><td>Apartment  </td><td>Entire home/apt</td><td>14</td><td>5.5</td><td>5</td><td>10</td><td>Real Bed     </td><td>TV,Internet,Wireless Internet,Air conditioning,Kitchen,Smoking allowed,Elevator in building,Indoor fireplace,Family/kid friendly,Washer,Dryer,First aid kit,Fire extinguisher,Essentials                                                                                                                             </td><td> NA</td><td>300</td><td> 94</td><td>      NA</td></tr>\n",
       "\t<tr><th scope=row>13195</th><td>28004</td><td>Universidad         </td><td>Apartment  </td><td>Entire home/apt</td><td> 3</td><td>1.0</td><td>1</td><td> 2</td><td>Real Bed     </td><td>TV,Wireless Internet,Kitchen,Buzzer/wireless intercom,Heating,Family/kid friendly,Washer,Smoke detector,Essentials,Shampoo,24-hour check-in,Hangers,Laptop friendly workspace,translation missing: en.hosting_amenity_50                                                                                             </td><td> NA</td><td> 62</td><td> 81</td><td>      NA</td></tr>\n",
       "\t<tr><th scope=row>13198</th><td>28004</td><td>Universidad         </td><td>Apartment  </td><td>Entire home/apt</td><td> 4</td><td>1.0</td><td>2</td><td> 4</td><td>Pull-out Sofa</td><td>TV,Internet,Wireless Internet,Air conditioning,Kitchen,Smoking allowed,Pets allowed,Elevator in building,Heating,Family/kid friendly,Washer,Dryer,Essentials,Shampoo,Hangers,Hair dryer,Iron                                                                                                                         </td><td> NA</td><td> 90</td><td> 90</td><td>      NA</td></tr>\n",
       "\t<tr><th scope=row>13199</th><td>28004</td><td>Universidad         </td><td>Apartment  </td><td>Entire home/apt</td><td> 4</td><td>1.0</td><td>2</td><td> 2</td><td>Real Bed     </td><td>TV,Internet,Wireless Internet,Air conditioning,Kitchen,Smoking allowed,Pets allowed,Buzzer/wireless intercom,Heating,Family/kid friendly,Washer,Dryer,Essentials,Hangers,Hair dryer,Iron                                                                                                                             </td><td> NA</td><td> 70</td><td> 87</td><td>      NA</td></tr>\n",
       "\t<tr><th scope=row>13200</th><td>28004</td><td>Universidad         </td><td>Apartment  </td><td>Entire home/apt</td><td> 2</td><td>1.0</td><td>1</td><td> 1</td><td>Real Bed     </td><td>TV,Internet,Wireless Internet,Air conditioning,Kitchen,Smoking allowed,Pets allowed,Elevator in building,Heating,Family/kid friendly,Washer,First aid kit,Fire extinguisher,Essentials,Lock on bedroom door,Hangers,Hair dryer,Iron                                                                                  </td><td> NA</td><td> 40</td><td> 82</td><td>      NA</td></tr>\n",
       "\t<tr><th scope=row>13201</th><td>28004</td><td>Universidad         </td><td>Loft       </td><td>Entire home/apt</td><td> 2</td><td>1.0</td><td>1</td><td> 2</td><td>Real Bed     </td><td>Internet,Wireless Internet,Smoking allowed,Breakfast,Elevator in building,Heating,Shampoo,Hangers,Hair dryer,Iron,Laptop friendly workspace,translation missing: en.hosting_amenity_49,translation missing: en.hosting_amenity_50                                                                                    </td><td> NA</td><td> 30</td><td> NA</td><td>      NA</td></tr>\n",
       "\t<tr><th scope=row>13202</th><td>28004</td><td>Universidad         </td><td>Apartment  </td><td>Entire home/apt</td><td> 4</td><td>1.0</td><td>1</td><td> 2</td><td>Real Bed     </td><td>TV,Wireless Internet,Air conditioning,Kitchen,Smoking allowed,Pets allowed,Heating,Family/kid friendly,Washer,Fire extinguisher,Essentials,Lock on bedroom door,Hangers,Hair dryer,Iron                                                                                                                              </td><td> NA</td><td> 48</td><td> 83</td><td>      NA</td></tr>\n",
       "\t<tr><th scope=row>13203</th><td>28015</td><td>Universidad         </td><td>Apartment  </td><td>Entire home/apt</td><td> 2</td><td>1.0</td><td>1</td><td> 1</td><td>Real Bed     </td><td>TV,Internet,Wireless Internet,Air conditioning,Kitchen,Elevator in building,Buzzer/wireless intercom,Heating,Washer,Dryer,Smoke detector,Fire extinguisher,Essentials,Shampoo,Hangers,Hair dryer,Iron,Laptop friendly workspace,translation missing: en.hosting_amenity_49,translation missing: en.hosting_amenity_50</td><td> NA</td><td> 35</td><td> 90</td><td>      NA</td></tr>\n",
       "\t<tr><th scope=row>13204</th><td>28004</td><td>Universidad         </td><td>Apartment  </td><td>Entire home/apt</td><td> 3</td><td>1.0</td><td>1</td><td> 2</td><td>Real Bed     </td><td>TV,Wireless Internet,Air conditioning,Kitchen,Elevator in building,Buzzer/wireless intercom,Heating,Family/kid friendly,Washer,Dryer,Smoke detector,Carbon monoxide detector,Fire extinguisher,Essentials,Shampoo,24-hour check-in,Hangers,Hair dryer,Iron,Laptop friendly workspace                                 </td><td> NA</td><td> 79</td><td> 97</td><td>      NA</td></tr>\n",
       "\t<tr><th scope=row>13205</th><td>28013</td><td>Universidad         </td><td>Apartment  </td><td>Entire home/apt</td><td> 4</td><td>1.0</td><td>1</td><td> 1</td><td>Real Bed     </td><td>TV,Wireless Internet,Air conditioning,Pool,Kitchen,Doorman,Gym,Elevator in building,Buzzer/wireless intercom,Heating,Washer,First aid kit,Safety card,Essentials,Shampoo,Hangers,Hair dryer,Iron,Laptop friendly workspace                                                                                           </td><td> NA</td><td>150</td><td>100</td><td>      NA</td></tr>\n",
       "\t<tr><th scope=row>13206</th><td>28004</td><td>Universidad         </td><td>Loft       </td><td>Entire home/apt</td><td> 2</td><td>1.0</td><td>0</td><td> 1</td><td>Real Bed     </td><td>TV,Internet,Wireless Internet,Kitchen,Smoking allowed,Pets allowed,Elevator in building,Heating,Family/kid friendly,Washer,First aid kit,Essentials,Shampoo                                                                                                                                                          </td><td> NA</td><td> 80</td><td> 91</td><td>      NA</td></tr>\n",
       "\t<tr><th scope=row>13207</th><td>28004</td><td>Universidad         </td><td>Apartment  </td><td>Entire home/apt</td><td> 3</td><td>1.0</td><td>0</td><td> 2</td><td>Real Bed     </td><td>TV,Internet,Wireless Internet,Air conditioning,Kitchen,Heating,Family/kid friendly,Washer                                                                                                                                                                                                                            </td><td> NA</td><td> 69</td><td> 80</td><td>      NA</td></tr>\n",
       "</tbody>\n",
       "</table>\n"
      ],
      "text/latex": [
       "A data.frame: 7903 × 14\n",
       "\\begin{tabular}{r|llllllllllllll}\n",
       "  & CodigoPostal & Barrio & TipoPropiedad & TipoAlquiler & MaxOcupantes & NumBanyos & NumDormitorios & NumCamas & TipoCama & Comodidades & PiesCuadrados & Precio & Puntuacion & MetrosCuadrados\\\\\n",
       "  & <fct> & <fct> & <fct> & <fct> & <int> & <dbl> & <int> & <int> & <fct> & <fct> & <int> & <int> & <int> & <dbl>\\\\\n",
       "\\hline\n",
       "\t2 & 28004 & Universidad & Apartment   & Entire home/apt &  6 & 1 & 3 &  5 & Real Bed      & TV,Internet,Wireless Internet,Air conditioning,Kitchen,Indoor fireplace,Heating,Family/kid friendly,Washer,Dryer,Smoke detector,Carbon monoxide detector,Essentials,Shampoo                                                                                                                                                                                      &  NA &  92 &  96 &       NA\\\\\n",
       "\t3 & 28004 & Universidad & Apartment   & Entire home/apt &  3 & 1 & 2 &  2 & Real Bed      & TV,Internet,Wireless Internet,Air conditioning,Kitchen,Doorman,Heating,Family/kid friendly,Washer,Essentials,Shampoo,Hangers,Hair dryer,Iron,Laptop friendly workspace                                                                                                                                                                                           &  NA &  55 &  91 &       NA\\\\\n",
       "\t4 & 28004 & Universidad & Loft        & Entire home/apt &  3 & 2 & 1 &  1 & Real Bed      & TV,Internet,Wireless Internet,Air conditioning,Kitchen,Pets allowed,Breakfast,Elevator in building,Indoor fireplace,Buzzer/wireless intercom,Heating,Washer,Essentials,Shampoo,Hangers,Hair dryer,Iron,Laptop friendly workspace,translation missing: en.hosting\\_amenity\\_49,translation missing: en.hosting\\_amenity\\_50                                           &  NA &  60 & 100 &       NA\\\\\n",
       "\t5 & 28015 & Universidad & Apartment   & Entire home/apt &  5 & 1 & 1 &  1 & Real Bed      & TV,Wireless Internet,Air conditioning,Kitchen,Smoking allowed,Pets allowed,Elevator in building,Heating,Family/kid friendly,Washer,Essentials,Iron                                                                                                                                                                                                               & 538 &  75 &  90 & 49.98181\\\\\n",
       "\t6 & 28004 & Universidad & Apartment   & Entire home/apt &  2 & 1 & 0 &  1 & Real Bed      & TV,Cable TV,Internet,Wireless Internet,Air conditioning,Wheelchair accessible,Kitchen,Doorman,Elevator in building,Buzzer/wireless intercom,Heating,Washer,Smoke detector,Carbon monoxide detector,First aid kit,Safety card,Fire extinguisher,Essentials,Shampoo,24-hour check-in,Hangers,Hair dryer,Iron,Laptop friendly workspace,Self Check-In,Doorman Entry &  NA &  55 &  95 &       NA\\\\\n",
       "\t8 & 28004 & Universidad & Apartment   & Entire home/apt &  3 & 1 & 1 & NA & Real Bed      & TV,Wireless Internet,Air conditioning,Kitchen,Elevator in building,Buzzer/wireless intercom,Heating,Washer                                                                                                                                                                                                                                                       &  NA &  70 &  84 &       NA\\\\\n",
       "\t9 & 28015 & Universidad & Apartment   & Entire home/apt &  2 & 1 & 1 &  1 & Real Bed      & TV,Internet,Wireless Internet,Kitchen,Elevator in building,Buzzer/wireless intercom,Heating,Family/kid friendly,Washer,Dryer,Essentials,Shampoo,translation missing: en.hosting\\_amenity\\_49                                                                                                                                                                       & 700 &  90 &  98 & 65.03210\\\\\n",
       "\t10 & 28004 & Universidad & Apartment   & Entire home/apt &  4 & 2 & 2 &  2 & Real Bed      & TV,Wireless Internet,Air conditioning,Kitchen,Elevator in building,Hot tub,Heating,Family/kid friendly,Washer,Dryer,Essentials,Hair dryer,Iron                                                                                                                                                                                                                   &  NA & 155 &  NA &       NA\\\\\n",
       "\t11 & 28004 & Universidad & Apartment   & Entire home/apt &  4 & 1 & 1 &  2 & Real Bed      & TV,Wireless Internet,Air conditioning,Wheelchair accessible,Kitchen,Elevator in building,Buzzer/wireless intercom,Heating,Family/kid friendly,Washer,Essentials,Shampoo                                                                                                                                                                                          &  40 &  70 &  90 &  3.71612\\\\\n",
       "\t15 & 28013 & Sol         & Apartment   & Entire home/apt &  4 & 1 & 1 &  1 & Real Bed      & TV,Wireless Internet,Air conditioning,Kitchen,Doorman,Elevator in building,Buzzer/wireless intercom,Heating,Family/kid friendly,Suitable for events,Washer,Essentials,Hangers,Hair dryer,Iron                                                                                                                                                                    & 646 &  75 &  91 & 60.01534\\\\\n",
       "\t16 & 28013 & Sol         & Condominium & Entire home/apt &  6 & 1 & 2 &  3 & Real Bed      & TV,Wireless Internet,Air conditioning,Kitchen,Doorman,Elevator in building,Buzzer/wireless intercom,Heating,Family/kid friendly,Washer,Dryer,Essentials,Shampoo,Hangers,Hair dryer,Iron                                                                                                                                                                          &  NA & 130 & 100 &       NA\\\\\n",
       "\t17 & 28013 & Sol         & Apartment   & Entire home/apt &  4 & 1 & 1 &  2 & Real Bed      & TV,Internet,Wireless Internet,Air conditioning,Kitchen,Doorman,Elevator in building,Buzzer/wireless intercom,Heating,Family/kid friendly,Washer,Smoke detector,Carbon monoxide detector,First aid kit,Safety card,Fire extinguisher,Essentials,Shampoo,24-hour check-in,Hangers,Hair dryer,Iron,Laptop friendly workspace                                        &  NA & 100 &  97 &       NA\\\\\n",
       "\t18 & 28012 & Sol         & Apartment   & Entire home/apt &  6 & 1 & 2 &  2 & Real Bed      & TV,Internet,Wireless Internet,Air conditioning,Kitchen,Smoking allowed,Elevator in building,Buzzer/wireless intercom,Heating,Family/kid friendly,Washer,Dryer,Essentials,Shampoo,Hangers,Hair dryer,Iron,Laptop friendly workspace                                                                                                                               &  NA & 160 &  95 &       NA\\\\\n",
       "\t19 & 28013 & Sol         & Apartment   & Entire home/apt &  4 & 1 & 1 &  2 & Real Bed      & TV,Internet,Wireless Internet,Air conditioning,Kitchen,Heating,Washer,Essentials,Hangers,Hair dryer,translation missing: en.hosting\\_amenity\\_50                                                                                                                                                                                                                   &  NA &  49 &  95 &       NA\\\\\n",
       "\t21 & 28013 & Sol         & Apartment   & Entire home/apt &  4 & 1 & 1 &  2 & Real Bed      & TV,Wireless Internet,Kitchen,Pets allowed,Elevator in building,Heating,Family/kid friendly,Washer,Essentials,Shampoo,Hangers,Hair dryer,Laptop friendly workspace                                                                                                                                                                                                &  NA &  70 &  88 &       NA\\\\\n",
       "\t22 & 28005 & Sol         & Apartment   & Entire home/apt & 10 & 2 & 4 &  7 & Real Bed      & TV,Internet,Wireless Internet,Air conditioning,Kitchen,Heating,Family/kid friendly,Washer,Essentials                                                                                                                                                                                                                                                             &  NA & 210 &  81 &       NA\\\\\n",
       "\t23 & 28013 & Sol         & Apartment   & Entire home/apt &  6 & 1 & 2 &  4 & Real Bed      & TV,Internet,Wireless Internet,Air conditioning,Kitchen,Smoking allowed,Pets allowed,Doorman,Elevator in building,Buzzer/wireless intercom,Heating,Family/kid friendly,Washer,First aid kit,Safety card,Essentials,Shampoo,Hangers,Hair dryer,Iron                                                                                                                &  NA & 120 &  99 &       NA\\\\\n",
       "\t24 & 28012 & Sol         & Apartment   & Entire home/apt &  4 & 1 & 1 &  2 & Real Bed      & TV,Internet,Wireless Internet,Air conditioning,Kitchen,Elevator in building,Heating,Family/kid friendly,Washer,Smoke detector,Carbon monoxide detector,Essentials,Shampoo,24-hour check-in,Hangers,Hair dryer,Iron,Laptop friendly workspace                                                                                                                     &  NA &  50 &  91 &       NA\\\\\n",
       "\t25 & 28012 & Sol         & Apartment   & Entire home/apt &  4 & 1 & 1 &  1 & Real Bed      & TV,Cable TV,Internet,Wireless Internet,Air conditioning,Kitchen,Elevator in building,Buzzer/wireless intercom,Heating,Family/kid friendly,Washer,Essentials,Hair dryer,Iron                                                                                                                                                                                      & 753 & 100 &  87 & 69.95596\\\\\n",
       "\t26 & 28013 & Sol         & Apartment   & Entire home/apt &  4 & 1 & 1 &  2 & Real Bed      & TV,Internet,Wireless Internet,Air conditioning,Kitchen,Breakfast,Elevator in building,Heating,Family/kid friendly,Washer,First aid kit,Fire extinguisher,Essentials,Shampoo,Hangers,Hair dryer,Iron,Laptop friendly workspace                                                                                                                                    &  NA &  75 & 100 &       NA\\\\\n",
       "\t27 & 28014 & Sol         & Condominium & Entire home/apt &  8 & 2 & 2 &  5 & Real Bed      & TV,Internet,Wireless Internet,Air conditioning,Wheelchair accessible,Kitchen,Doorman,Elevator in building,Buzzer/wireless intercom,Heating,Family/kid friendly,Washer,Smoke detector,Carbon monoxide detector,Essentials,Shampoo,24-hour check-in,Hangers,Hair dryer,Iron,Laptop friendly workspace                                                              &  NA & 155 &  93 &       NA\\\\\n",
       "\t28 & 28013 & Sol         & Apartment   & Entire home/apt &  6 & 2 & 2 &  3 & Real Bed      & TV,Internet,Wireless Internet,Air conditioning,Wheelchair accessible,Kitchen,Doorman,Elevator in building,Buzzer/wireless intercom,Heating,Family/kid friendly,Washer,Dryer,Essentials,Hangers,Hair dryer,Iron                                                                                                                                                   &  NA & 155 &  80 &       NA\\\\\n",
       "\t30 & 28005 & Sol         & Apartment   & Entire home/apt &  8 & 1 & 3 &  4 & Real Bed      & TV,Internet,Wireless Internet,Kitchen,Breakfast,Elevator in building,Buzzer/wireless intercom,Heating,Family/kid friendly,Washer,Essentials,Shampoo,Hangers,Hair dryer,Iron,Laptop friendly workspace,Self Check-In,Lockbox                                                                                                                                      &  NA & 163 & 100 &       NA\\\\\n",
       "\t31 & 28005 & Imperial    & Apartment   & Entire home/apt &  3 & 1 & 1 &  1 & Real Bed      & TV,Internet,Wireless Internet,Kitchen,Pets allowed,Elevator in building,Heating,Family/kid friendly,Washer,Fire extinguisher,Essentials,Shampoo,Hangers,Hair dryer,Iron,Laptop friendly workspace,translation missing: en.hosting\\_amenity\\_50                                                                                                                     &  NA &  70 &  95 &       NA\\\\\n",
       "\t32 & 28005 & Imperial    & Apartment   & Entire home/apt &  3 & 1 & 2 &  2 & Real Bed      & TV,Wireless Internet,Kitchen,Heating,Family/kid friendly,Washer,Essentials,Hair dryer,translation missing: en.hosting\\_amenity\\_50                                                                                                                                                                                                                                 &  NA &  49 &  88 &       NA\\\\\n",
       "\t36 & 28005 & Acacias     & House       & Entire home/apt &  4 & 2 & 2 &  4 & Real Bed      & TV,Wireless Internet,Air conditioning,Wheelchair accessible,Kitchen,Doorman,Elevator in building,Buzzer/wireless intercom,Heating,Washer,Essentials,Shampoo,Hangers,Hair dryer,Iron,Laptop friendly workspace                                                                                                                                                    &  NA &  90 &  92 &       NA\\\\\n",
       "\t43 & 28013 & Sol         & Apartment   & Entire home/apt &  4 & 1 & 1 &  1 & Pull-out Sofa & TV,Internet,Wireless Internet,Air conditioning,Kitchen,Elevator in building,Buzzer/wireless intercom,Heating,Family/kid friendly,Washer,Smoke detector,Carbon monoxide detector,First aid kit,Essentials,Shampoo,24-hour check-in,Hangers,Hair dryer,Iron,Laptop friendly workspace,translation missing: en.hosting\\_amenity\\_50                                   &  NA &  64 &  97 &       NA\\\\\n",
       "\t44 & 28013 & Sol         & Apartment   & Entire home/apt &  6 & 2 & 2 &  2 & Real Bed      & TV,Wireless Internet,Air conditioning,Kitchen,Elevator in building,Heating,Washer,Essentials,Shampoo                                                                                                                                                                                                                                                             &  NA & 109 &  90 &       NA\\\\\n",
       "\t45 & 28013 & Sol         & Apartment   & Entire home/apt &  3 & 1 & 1 &  2 & Real Bed      & TV,Internet,Wireless Internet,Air conditioning,Kitchen,Smoking allowed,Elevator in building,Buzzer/wireless intercom,Heating,Family/kid friendly,Washer,Fire extinguisher,Essentials,Shampoo,Hangers,Hair dryer,Iron                                                                                                                                             &  NA &  67 &  95 &       NA\\\\\n",
       "\t46 & 28013 & Sol         & Apartment   & Entire home/apt &  2 & 1 & 1 &  1 & Real Bed      & TV,Internet,Wireless Internet,Air conditioning,Kitchen,Elevator in building,Buzzer/wireless intercom,Heating,Family/kid friendly,Washer,First aid kit,Essentials,Shampoo,Hair dryer,Iron                                                                                                                                                                         & 269 &  65 &  93 & 24.99091\\\\\n",
       "\t⋮ & ⋮ & ⋮ & ⋮ & ⋮ & ⋮ & ⋮ & ⋮ & ⋮ & ⋮ & ⋮ & ⋮ & ⋮ & ⋮ & ⋮\\\\\n",
       "\t13157 & 28010 & Almagro              & Apartment   & Entire home/apt &  2 & 1.0 & 0 &  1 & Pull-out Sofa & TV,Wireless Internet,Kitchen,Buzzer/wireless intercom,Heating,Essentials,Hangers,Iron,translation missing: en.hosting\\_amenity\\_49,translation missing: en.hosting\\_amenity\\_50                                                                                                                                           &  NA &  30 &  83 &       NA\\\\\n",
       "\t13158 & 28010 & Almagro              & Apartment   & Entire home/apt &  2 & 1.0 & 1 &  1 & Real Bed      & TV,Internet,Wireless Internet,Air conditioning,Kitchen,Pets allowed,Doorman,Elevator in building,Buzzer/wireless intercom,Heating,Family/kid friendly,Washer,Essentials,Hangers,Iron,Laptop friendly workspace,translation missing: en.hosting\\_amenity\\_49                                                             &  NA &  45 & 100 &       NA\\\\\n",
       "\t13159 & 28003 & Rios Rosas           & Apartment   & Entire home/apt &  3 & 1.0 & 1 &  1 & Real Bed      & TV,Internet,Wireless Internet,Air conditioning,Kitchen,Elevator in building,Buzzer/wireless intercom,Heating,Family/kid friendly,Washer,Fire extinguisher,Essentials,24-hour check-in,Hangers,Hair dryer,Iron,Laptop friendly workspace                                                                               &  NA &  39 &  94 &       NA\\\\\n",
       "\t13167 & 28008 & Argüelles            & House       & Entire home/apt &  3 & 1.0 & 1 &  2 & Real Bed      & TV,Internet,Wireless Internet,Air conditioning,Kitchen,Elevator in building,Heating,Washer,Smoke detector,Fire extinguisher,Essentials,Hangers,Hair dryer,Iron,Laptop friendly workspace                                                                                                                              &  NA & 105 &  NA &       NA\\\\\n",
       "\t13168 & 28008 & Argüelles            & House       & Entire home/apt &  5 & 1.0 & 3 &  4 & Real Bed      & TV,Internet,Wireless Internet,Wheelchair accessible,Kitchen,Smoking allowed,Doorman,Elevator in building,Buzzer/wireless intercom,Heating,Family/kid friendly,Washer,Fire extinguisher,Essentials,Shampoo,24-hour check-in,Hangers,Hair dryer,Iron,Laptop friendly workspace                                          &  NA & 139 &  92 &       NA\\\\\n",
       "\t13169 & 28008 & Argüelles            & Apartment   & Entire home/apt &  4 & 1.0 & 1 &  1 & Real Bed      & TV,Wireless Internet,Kitchen,Elevator in building,Heating,Family/kid friendly,Washer,Dryer,Essentials,Shampoo,24-hour check-in,Hangers,Hair dryer,Iron,Laptop friendly workspace                                                                                                                                      &  NA &  61 &  92 &       NA\\\\\n",
       "\t13175 & 28003 & Ciudad Universitaria & Loft        & Entire home/apt &  3 & 1.0 & 1 &  2 & Real Bed      & TV,Wireless Internet,Kitchen,Breakfast,Elevator in building,Buzzer/wireless intercom,Heating,Family/kid friendly,Washer,Essentials,Shampoo,Hangers,Iron,Laptop friendly workspace                                                                                                                                     &  NA &  55 & 100 &       NA\\\\\n",
       "\t13176 & 28038 & Numancia             & Apartment   & Entire home/apt &  6 & 1.0 & 3 &  4 & Real Bed      & TV,Internet,Wireless Internet,Air conditioning,Kitchen,Buzzer/wireless intercom,Heating,Family/kid friendly,Washer,First aid kit,Essentials,Shampoo,Hangers,Hair dryer,Iron,Laptop friendly workspace                                                                                                                 &  NA &  65 &  94 &       NA\\\\\n",
       "\t13179 & 28023 & Aravaca              & Condominium & Entire home/apt &  3 & 1.0 & 1 &  3 & Real Bed      & TV,Internet,Wireless Internet,Pool,Kitchen,Free parking on premises,Doorman,Heating,Family/kid friendly,Washer,Essentials,24-hour check-in,Hangers,Iron,Laptop friendly workspace,Private entrance                                                                                                                    &  NA &  50 & 100 &       NA\\\\\n",
       "\t13183 & 28004 & Universidad          & Other       & Entire home/apt &  3 & 1.0 & 1 &  1 & Real Bed      & TV,Internet,Wireless Internet,Air conditioning,Kitchen,Smoking allowed,Pets allowed,Elevator in building,Buzzer/wireless intercom,Heating,Family/kid friendly,Washer,Dryer,Fire extinguisher,Essentials,24-hour check-in,Hangers,Hair dryer,Iron                                                                      &  NA &  43 &  83 &       NA\\\\\n",
       "\t13184 & 28004 & Universidad          & Apartment   & Entire home/apt &  3 & 1.0 & 1 &  1 & Real Bed      & TV,Internet,Wireless Internet,Kitchen,Buzzer/wireless intercom,Heating,Washer,Dryer,Essentials,Shampoo,24-hour check-in,Hangers,Hair dryer,Iron,Laptop friendly workspace,translation missing: en.hosting\\_amenity\\_49,translation missing: en.hosting\\_amenity\\_50                                                       &  NA &  80 &  96 &       NA\\\\\n",
       "\t13185 & 28004 & Universidad          & Apartment   & Entire home/apt &  2 & 1.0 & 1 &  1 & Real Bed      & TV,Internet,Wireless Internet,Air conditioning,Kitchen,Elevator in building,Heating,Washer,Dryer,First aid kit,Essentials,Hangers,Hair dryer,Iron,translation missing: en.hosting\\_amenity\\_49,translation missing: en.hosting\\_amenity\\_50                                                                               &  NA &  80 &  99 &       NA\\\\\n",
       "\t13186 & 28015 & Universidad          & Apartment   & Entire home/apt &  4 & 1.0 & 1 &  2 & Real Bed      & TV,Internet,Wireless Internet,Air conditioning,Kitchen,Elevator in building,Heating,Family/kid friendly,Washer,Smoke detector,Fire extinguisher,Essentials,Shampoo,Lock on bedroom door,Hangers,Hair dryer,Iron                                                                                                       &  NA & 100 & 100 &       NA\\\\\n",
       "\t13187 & 28015 & Universidad          & Apartment   & Entire home/apt &  2 & 1.0 & 1 &  2 & Real Bed      & TV,Wireless Internet,Air conditioning,Kitchen,Elevator in building,Buzzer/wireless intercom,Heating,Family/kid friendly,Washer                                                                                                                                                                                        & 291 &  50 &  87 & 27.03477\\\\\n",
       "\t13188 & 28015 & Universidad          & Apartment   & Entire home/apt &  5 & 1.0 & 2 &  3 & Real Bed      & TV,Internet,Wireless Internet,Kitchen,Smoking allowed,Elevator in building,Buzzer/wireless intercom,Heating,Family/kid friendly,Washer,First aid kit,Essentials,Shampoo,24-hour check-in,Hangers,Hair dryer,Iron,Laptop friendly workspace                                                                            &  NA &  85 &  90 &       NA\\\\\n",
       "\t13190 & 28015 & Universidad          & Apartment   & Entire home/apt &  4 & 1.0 & 1 &  2 & Real Bed      & TV,Wireless Internet,Air conditioning,Kitchen,Smoking allowed,Heating,Family/kid friendly,Washer,Dryer,Smoke detector,First aid kit,Essentials,Shampoo,Hangers,Hair dryer,Iron                                                                                                                                        &  NA &  60 & 100 &       NA\\\\\n",
       "\t13191 & 28013 & Universidad          & Apartment   & Entire home/apt &  2 & 1.0 & 1 &  1 & Real Bed      & TV,Wireless Internet,Air conditioning,Kitchen,Elevator in building,Heating,Washer,Dryer,Essentials,Shampoo,Hangers,Hair dryer,Iron,Laptop friendly workspace,translation missing: en.hosting\\_amenity\\_49,translation missing: en.hosting\\_amenity\\_50                                                                    &  NA & 145 &  NA &       NA\\\\\n",
       "\t13192 & 28004 & Universidad          & Apartment   & Entire home/apt &  4 & 1.0 & 1 &  2 & Real Bed      & TV,Internet,Wireless Internet,Air conditioning,Kitchen,Pets allowed,Indoor fireplace,Buzzer/wireless intercom,Heating,Family/kid friendly,Washer,Smoke detector,Carbon monoxide detector,Essentials,Shampoo,24-hour check-in,Hangers,Hair dryer,Iron,Laptop friendly workspace                                        &  NA &  62 &  91 &       NA\\\\\n",
       "\t13193 & 28004 & Universidad          & Apartment   & Entire home/apt & 14 & 5.5 & 5 & 10 & Real Bed      & TV,Internet,Wireless Internet,Air conditioning,Kitchen,Smoking allowed,Elevator in building,Indoor fireplace,Family/kid friendly,Washer,Dryer,First aid kit,Fire extinguisher,Essentials                                                                                                                              &  NA & 300 &  94 &       NA\\\\\n",
       "\t13195 & 28004 & Universidad          & Apartment   & Entire home/apt &  3 & 1.0 & 1 &  2 & Real Bed      & TV,Wireless Internet,Kitchen,Buzzer/wireless intercom,Heating,Family/kid friendly,Washer,Smoke detector,Essentials,Shampoo,24-hour check-in,Hangers,Laptop friendly workspace,translation missing: en.hosting\\_amenity\\_50                                                                                              &  NA &  62 &  81 &       NA\\\\\n",
       "\t13198 & 28004 & Universidad          & Apartment   & Entire home/apt &  4 & 1.0 & 2 &  4 & Pull-out Sofa & TV,Internet,Wireless Internet,Air conditioning,Kitchen,Smoking allowed,Pets allowed,Elevator in building,Heating,Family/kid friendly,Washer,Dryer,Essentials,Shampoo,Hangers,Hair dryer,Iron                                                                                                                          &  NA &  90 &  90 &       NA\\\\\n",
       "\t13199 & 28004 & Universidad          & Apartment   & Entire home/apt &  4 & 1.0 & 2 &  2 & Real Bed      & TV,Internet,Wireless Internet,Air conditioning,Kitchen,Smoking allowed,Pets allowed,Buzzer/wireless intercom,Heating,Family/kid friendly,Washer,Dryer,Essentials,Hangers,Hair dryer,Iron                                                                                                                              &  NA &  70 &  87 &       NA\\\\\n",
       "\t13200 & 28004 & Universidad          & Apartment   & Entire home/apt &  2 & 1.0 & 1 &  1 & Real Bed      & TV,Internet,Wireless Internet,Air conditioning,Kitchen,Smoking allowed,Pets allowed,Elevator in building,Heating,Family/kid friendly,Washer,First aid kit,Fire extinguisher,Essentials,Lock on bedroom door,Hangers,Hair dryer,Iron                                                                                   &  NA &  40 &  82 &       NA\\\\\n",
       "\t13201 & 28004 & Universidad          & Loft        & Entire home/apt &  2 & 1.0 & 1 &  2 & Real Bed      & Internet,Wireless Internet,Smoking allowed,Breakfast,Elevator in building,Heating,Shampoo,Hangers,Hair dryer,Iron,Laptop friendly workspace,translation missing: en.hosting\\_amenity\\_49,translation missing: en.hosting\\_amenity\\_50                                                                                     &  NA &  30 &  NA &       NA\\\\\n",
       "\t13202 & 28004 & Universidad          & Apartment   & Entire home/apt &  4 & 1.0 & 1 &  2 & Real Bed      & TV,Wireless Internet,Air conditioning,Kitchen,Smoking allowed,Pets allowed,Heating,Family/kid friendly,Washer,Fire extinguisher,Essentials,Lock on bedroom door,Hangers,Hair dryer,Iron                                                                                                                               &  NA &  48 &  83 &       NA\\\\\n",
       "\t13203 & 28015 & Universidad          & Apartment   & Entire home/apt &  2 & 1.0 & 1 &  1 & Real Bed      & TV,Internet,Wireless Internet,Air conditioning,Kitchen,Elevator in building,Buzzer/wireless intercom,Heating,Washer,Dryer,Smoke detector,Fire extinguisher,Essentials,Shampoo,Hangers,Hair dryer,Iron,Laptop friendly workspace,translation missing: en.hosting\\_amenity\\_49,translation missing: en.hosting\\_amenity\\_50 &  NA &  35 &  90 &       NA\\\\\n",
       "\t13204 & 28004 & Universidad          & Apartment   & Entire home/apt &  3 & 1.0 & 1 &  2 & Real Bed      & TV,Wireless Internet,Air conditioning,Kitchen,Elevator in building,Buzzer/wireless intercom,Heating,Family/kid friendly,Washer,Dryer,Smoke detector,Carbon monoxide detector,Fire extinguisher,Essentials,Shampoo,24-hour check-in,Hangers,Hair dryer,Iron,Laptop friendly workspace                                  &  NA &  79 &  97 &       NA\\\\\n",
       "\t13205 & 28013 & Universidad          & Apartment   & Entire home/apt &  4 & 1.0 & 1 &  1 & Real Bed      & TV,Wireless Internet,Air conditioning,Pool,Kitchen,Doorman,Gym,Elevator in building,Buzzer/wireless intercom,Heating,Washer,First aid kit,Safety card,Essentials,Shampoo,Hangers,Hair dryer,Iron,Laptop friendly workspace                                                                                            &  NA & 150 & 100 &       NA\\\\\n",
       "\t13206 & 28004 & Universidad          & Loft        & Entire home/apt &  2 & 1.0 & 0 &  1 & Real Bed      & TV,Internet,Wireless Internet,Kitchen,Smoking allowed,Pets allowed,Elevator in building,Heating,Family/kid friendly,Washer,First aid kit,Essentials,Shampoo                                                                                                                                                           &  NA &  80 &  91 &       NA\\\\\n",
       "\t13207 & 28004 & Universidad          & Apartment   & Entire home/apt &  3 & 1.0 & 0 &  2 & Real Bed      & TV,Internet,Wireless Internet,Air conditioning,Kitchen,Heating,Family/kid friendly,Washer                                                                                                                                                                                                                             &  NA &  69 &  80 &       NA\\\\\n",
       "\\end{tabular}\n"
      ],
      "text/markdown": [
       "\n",
       "A data.frame: 7903 × 14\n",
       "\n",
       "| <!--/--> | CodigoPostal &lt;fct&gt; | Barrio &lt;fct&gt; | TipoPropiedad &lt;fct&gt; | TipoAlquiler &lt;fct&gt; | MaxOcupantes &lt;int&gt; | NumBanyos &lt;dbl&gt; | NumDormitorios &lt;int&gt; | NumCamas &lt;int&gt; | TipoCama &lt;fct&gt; | Comodidades &lt;fct&gt; | PiesCuadrados &lt;int&gt; | Precio &lt;int&gt; | Puntuacion &lt;int&gt; | MetrosCuadrados &lt;dbl&gt; |\n",
       "|---|---|---|---|---|---|---|---|---|---|---|---|---|---|---|\n",
       "| 2 | 28004 | Universidad | Apartment   | Entire home/apt |  6 | 1 | 3 |  5 | Real Bed      | TV,Internet,Wireless Internet,Air conditioning,Kitchen,Indoor fireplace,Heating,Family/kid friendly,Washer,Dryer,Smoke detector,Carbon monoxide detector,Essentials,Shampoo                                                                                                                                                                                      |  NA |  92 |  96 |       NA |\n",
       "| 3 | 28004 | Universidad | Apartment   | Entire home/apt |  3 | 1 | 2 |  2 | Real Bed      | TV,Internet,Wireless Internet,Air conditioning,Kitchen,Doorman,Heating,Family/kid friendly,Washer,Essentials,Shampoo,Hangers,Hair dryer,Iron,Laptop friendly workspace                                                                                                                                                                                           |  NA |  55 |  91 |       NA |\n",
       "| 4 | 28004 | Universidad | Loft        | Entire home/apt |  3 | 2 | 1 |  1 | Real Bed      | TV,Internet,Wireless Internet,Air conditioning,Kitchen,Pets allowed,Breakfast,Elevator in building,Indoor fireplace,Buzzer/wireless intercom,Heating,Washer,Essentials,Shampoo,Hangers,Hair dryer,Iron,Laptop friendly workspace,translation missing: en.hosting_amenity_49,translation missing: en.hosting_amenity_50                                           |  NA |  60 | 100 |       NA |\n",
       "| 5 | 28015 | Universidad | Apartment   | Entire home/apt |  5 | 1 | 1 |  1 | Real Bed      | TV,Wireless Internet,Air conditioning,Kitchen,Smoking allowed,Pets allowed,Elevator in building,Heating,Family/kid friendly,Washer,Essentials,Iron                                                                                                                                                                                                               | 538 |  75 |  90 | 49.98181 |\n",
       "| 6 | 28004 | Universidad | Apartment   | Entire home/apt |  2 | 1 | 0 |  1 | Real Bed      | TV,Cable TV,Internet,Wireless Internet,Air conditioning,Wheelchair accessible,Kitchen,Doorman,Elevator in building,Buzzer/wireless intercom,Heating,Washer,Smoke detector,Carbon monoxide detector,First aid kit,Safety card,Fire extinguisher,Essentials,Shampoo,24-hour check-in,Hangers,Hair dryer,Iron,Laptop friendly workspace,Self Check-In,Doorman Entry |  NA |  55 |  95 |       NA |\n",
       "| 8 | 28004 | Universidad | Apartment   | Entire home/apt |  3 | 1 | 1 | NA | Real Bed      | TV,Wireless Internet,Air conditioning,Kitchen,Elevator in building,Buzzer/wireless intercom,Heating,Washer                                                                                                                                                                                                                                                       |  NA |  70 |  84 |       NA |\n",
       "| 9 | 28015 | Universidad | Apartment   | Entire home/apt |  2 | 1 | 1 |  1 | Real Bed      | TV,Internet,Wireless Internet,Kitchen,Elevator in building,Buzzer/wireless intercom,Heating,Family/kid friendly,Washer,Dryer,Essentials,Shampoo,translation missing: en.hosting_amenity_49                                                                                                                                                                       | 700 |  90 |  98 | 65.03210 |\n",
       "| 10 | 28004 | Universidad | Apartment   | Entire home/apt |  4 | 2 | 2 |  2 | Real Bed      | TV,Wireless Internet,Air conditioning,Kitchen,Elevator in building,Hot tub,Heating,Family/kid friendly,Washer,Dryer,Essentials,Hair dryer,Iron                                                                                                                                                                                                                   |  NA | 155 |  NA |       NA |\n",
       "| 11 | 28004 | Universidad | Apartment   | Entire home/apt |  4 | 1 | 1 |  2 | Real Bed      | TV,Wireless Internet,Air conditioning,Wheelchair accessible,Kitchen,Elevator in building,Buzzer/wireless intercom,Heating,Family/kid friendly,Washer,Essentials,Shampoo                                                                                                                                                                                          |  40 |  70 |  90 |  3.71612 |\n",
       "| 15 | 28013 | Sol         | Apartment   | Entire home/apt |  4 | 1 | 1 |  1 | Real Bed      | TV,Wireless Internet,Air conditioning,Kitchen,Doorman,Elevator in building,Buzzer/wireless intercom,Heating,Family/kid friendly,Suitable for events,Washer,Essentials,Hangers,Hair dryer,Iron                                                                                                                                                                    | 646 |  75 |  91 | 60.01534 |\n",
       "| 16 | 28013 | Sol         | Condominium | Entire home/apt |  6 | 1 | 2 |  3 | Real Bed      | TV,Wireless Internet,Air conditioning,Kitchen,Doorman,Elevator in building,Buzzer/wireless intercom,Heating,Family/kid friendly,Washer,Dryer,Essentials,Shampoo,Hangers,Hair dryer,Iron                                                                                                                                                                          |  NA | 130 | 100 |       NA |\n",
       "| 17 | 28013 | Sol         | Apartment   | Entire home/apt |  4 | 1 | 1 |  2 | Real Bed      | TV,Internet,Wireless Internet,Air conditioning,Kitchen,Doorman,Elevator in building,Buzzer/wireless intercom,Heating,Family/kid friendly,Washer,Smoke detector,Carbon monoxide detector,First aid kit,Safety card,Fire extinguisher,Essentials,Shampoo,24-hour check-in,Hangers,Hair dryer,Iron,Laptop friendly workspace                                        |  NA | 100 |  97 |       NA |\n",
       "| 18 | 28012 | Sol         | Apartment   | Entire home/apt |  6 | 1 | 2 |  2 | Real Bed      | TV,Internet,Wireless Internet,Air conditioning,Kitchen,Smoking allowed,Elevator in building,Buzzer/wireless intercom,Heating,Family/kid friendly,Washer,Dryer,Essentials,Shampoo,Hangers,Hair dryer,Iron,Laptop friendly workspace                                                                                                                               |  NA | 160 |  95 |       NA |\n",
       "| 19 | 28013 | Sol         | Apartment   | Entire home/apt |  4 | 1 | 1 |  2 | Real Bed      | TV,Internet,Wireless Internet,Air conditioning,Kitchen,Heating,Washer,Essentials,Hangers,Hair dryer,translation missing: en.hosting_amenity_50                                                                                                                                                                                                                   |  NA |  49 |  95 |       NA |\n",
       "| 21 | 28013 | Sol         | Apartment   | Entire home/apt |  4 | 1 | 1 |  2 | Real Bed      | TV,Wireless Internet,Kitchen,Pets allowed,Elevator in building,Heating,Family/kid friendly,Washer,Essentials,Shampoo,Hangers,Hair dryer,Laptop friendly workspace                                                                                                                                                                                                |  NA |  70 |  88 |       NA |\n",
       "| 22 | 28005 | Sol         | Apartment   | Entire home/apt | 10 | 2 | 4 |  7 | Real Bed      | TV,Internet,Wireless Internet,Air conditioning,Kitchen,Heating,Family/kid friendly,Washer,Essentials                                                                                                                                                                                                                                                             |  NA | 210 |  81 |       NA |\n",
       "| 23 | 28013 | Sol         | Apartment   | Entire home/apt |  6 | 1 | 2 |  4 | Real Bed      | TV,Internet,Wireless Internet,Air conditioning,Kitchen,Smoking allowed,Pets allowed,Doorman,Elevator in building,Buzzer/wireless intercom,Heating,Family/kid friendly,Washer,First aid kit,Safety card,Essentials,Shampoo,Hangers,Hair dryer,Iron                                                                                                                |  NA | 120 |  99 |       NA |\n",
       "| 24 | 28012 | Sol         | Apartment   | Entire home/apt |  4 | 1 | 1 |  2 | Real Bed      | TV,Internet,Wireless Internet,Air conditioning,Kitchen,Elevator in building,Heating,Family/kid friendly,Washer,Smoke detector,Carbon monoxide detector,Essentials,Shampoo,24-hour check-in,Hangers,Hair dryer,Iron,Laptop friendly workspace                                                                                                                     |  NA |  50 |  91 |       NA |\n",
       "| 25 | 28012 | Sol         | Apartment   | Entire home/apt |  4 | 1 | 1 |  1 | Real Bed      | TV,Cable TV,Internet,Wireless Internet,Air conditioning,Kitchen,Elevator in building,Buzzer/wireless intercom,Heating,Family/kid friendly,Washer,Essentials,Hair dryer,Iron                                                                                                                                                                                      | 753 | 100 |  87 | 69.95596 |\n",
       "| 26 | 28013 | Sol         | Apartment   | Entire home/apt |  4 | 1 | 1 |  2 | Real Bed      | TV,Internet,Wireless Internet,Air conditioning,Kitchen,Breakfast,Elevator in building,Heating,Family/kid friendly,Washer,First aid kit,Fire extinguisher,Essentials,Shampoo,Hangers,Hair dryer,Iron,Laptop friendly workspace                                                                                                                                    |  NA |  75 | 100 |       NA |\n",
       "| 27 | 28014 | Sol         | Condominium | Entire home/apt |  8 | 2 | 2 |  5 | Real Bed      | TV,Internet,Wireless Internet,Air conditioning,Wheelchair accessible,Kitchen,Doorman,Elevator in building,Buzzer/wireless intercom,Heating,Family/kid friendly,Washer,Smoke detector,Carbon monoxide detector,Essentials,Shampoo,24-hour check-in,Hangers,Hair dryer,Iron,Laptop friendly workspace                                                              |  NA | 155 |  93 |       NA |\n",
       "| 28 | 28013 | Sol         | Apartment   | Entire home/apt |  6 | 2 | 2 |  3 | Real Bed      | TV,Internet,Wireless Internet,Air conditioning,Wheelchair accessible,Kitchen,Doorman,Elevator in building,Buzzer/wireless intercom,Heating,Family/kid friendly,Washer,Dryer,Essentials,Hangers,Hair dryer,Iron                                                                                                                                                   |  NA | 155 |  80 |       NA |\n",
       "| 30 | 28005 | Sol         | Apartment   | Entire home/apt |  8 | 1 | 3 |  4 | Real Bed      | TV,Internet,Wireless Internet,Kitchen,Breakfast,Elevator in building,Buzzer/wireless intercom,Heating,Family/kid friendly,Washer,Essentials,Shampoo,Hangers,Hair dryer,Iron,Laptop friendly workspace,Self Check-In,Lockbox                                                                                                                                      |  NA | 163 | 100 |       NA |\n",
       "| 31 | 28005 | Imperial    | Apartment   | Entire home/apt |  3 | 1 | 1 |  1 | Real Bed      | TV,Internet,Wireless Internet,Kitchen,Pets allowed,Elevator in building,Heating,Family/kid friendly,Washer,Fire extinguisher,Essentials,Shampoo,Hangers,Hair dryer,Iron,Laptop friendly workspace,translation missing: en.hosting_amenity_50                                                                                                                     |  NA |  70 |  95 |       NA |\n",
       "| 32 | 28005 | Imperial    | Apartment   | Entire home/apt |  3 | 1 | 2 |  2 | Real Bed      | TV,Wireless Internet,Kitchen,Heating,Family/kid friendly,Washer,Essentials,Hair dryer,translation missing: en.hosting_amenity_50                                                                                                                                                                                                                                 |  NA |  49 |  88 |       NA |\n",
       "| 36 | 28005 | Acacias     | House       | Entire home/apt |  4 | 2 | 2 |  4 | Real Bed      | TV,Wireless Internet,Air conditioning,Wheelchair accessible,Kitchen,Doorman,Elevator in building,Buzzer/wireless intercom,Heating,Washer,Essentials,Shampoo,Hangers,Hair dryer,Iron,Laptop friendly workspace                                                                                                                                                    |  NA |  90 |  92 |       NA |\n",
       "| 43 | 28013 | Sol         | Apartment   | Entire home/apt |  4 | 1 | 1 |  1 | Pull-out Sofa | TV,Internet,Wireless Internet,Air conditioning,Kitchen,Elevator in building,Buzzer/wireless intercom,Heating,Family/kid friendly,Washer,Smoke detector,Carbon monoxide detector,First aid kit,Essentials,Shampoo,24-hour check-in,Hangers,Hair dryer,Iron,Laptop friendly workspace,translation missing: en.hosting_amenity_50                                   |  NA |  64 |  97 |       NA |\n",
       "| 44 | 28013 | Sol         | Apartment   | Entire home/apt |  6 | 2 | 2 |  2 | Real Bed      | TV,Wireless Internet,Air conditioning,Kitchen,Elevator in building,Heating,Washer,Essentials,Shampoo                                                                                                                                                                                                                                                             |  NA | 109 |  90 |       NA |\n",
       "| 45 | 28013 | Sol         | Apartment   | Entire home/apt |  3 | 1 | 1 |  2 | Real Bed      | TV,Internet,Wireless Internet,Air conditioning,Kitchen,Smoking allowed,Elevator in building,Buzzer/wireless intercom,Heating,Family/kid friendly,Washer,Fire extinguisher,Essentials,Shampoo,Hangers,Hair dryer,Iron                                                                                                                                             |  NA |  67 |  95 |       NA |\n",
       "| 46 | 28013 | Sol         | Apartment   | Entire home/apt |  2 | 1 | 1 |  1 | Real Bed      | TV,Internet,Wireless Internet,Air conditioning,Kitchen,Elevator in building,Buzzer/wireless intercom,Heating,Family/kid friendly,Washer,First aid kit,Essentials,Shampoo,Hair dryer,Iron                                                                                                                                                                         | 269 |  65 |  93 | 24.99091 |\n",
       "| ⋮ | ⋮ | ⋮ | ⋮ | ⋮ | ⋮ | ⋮ | ⋮ | ⋮ | ⋮ | ⋮ | ⋮ | ⋮ | ⋮ | ⋮ |\n",
       "| 13157 | 28010 | Almagro              | Apartment   | Entire home/apt |  2 | 1.0 | 0 |  1 | Pull-out Sofa | TV,Wireless Internet,Kitchen,Buzzer/wireless intercom,Heating,Essentials,Hangers,Iron,translation missing: en.hosting_amenity_49,translation missing: en.hosting_amenity_50                                                                                                                                           |  NA |  30 |  83 |       NA |\n",
       "| 13158 | 28010 | Almagro              | Apartment   | Entire home/apt |  2 | 1.0 | 1 |  1 | Real Bed      | TV,Internet,Wireless Internet,Air conditioning,Kitchen,Pets allowed,Doorman,Elevator in building,Buzzer/wireless intercom,Heating,Family/kid friendly,Washer,Essentials,Hangers,Iron,Laptop friendly workspace,translation missing: en.hosting_amenity_49                                                             |  NA |  45 | 100 |       NA |\n",
       "| 13159 | 28003 | Rios Rosas           | Apartment   | Entire home/apt |  3 | 1.0 | 1 |  1 | Real Bed      | TV,Internet,Wireless Internet,Air conditioning,Kitchen,Elevator in building,Buzzer/wireless intercom,Heating,Family/kid friendly,Washer,Fire extinguisher,Essentials,24-hour check-in,Hangers,Hair dryer,Iron,Laptop friendly workspace                                                                               |  NA |  39 |  94 |       NA |\n",
       "| 13167 | 28008 | Argüelles            | House       | Entire home/apt |  3 | 1.0 | 1 |  2 | Real Bed      | TV,Internet,Wireless Internet,Air conditioning,Kitchen,Elevator in building,Heating,Washer,Smoke detector,Fire extinguisher,Essentials,Hangers,Hair dryer,Iron,Laptop friendly workspace                                                                                                                              |  NA | 105 |  NA |       NA |\n",
       "| 13168 | 28008 | Argüelles            | House       | Entire home/apt |  5 | 1.0 | 3 |  4 | Real Bed      | TV,Internet,Wireless Internet,Wheelchair accessible,Kitchen,Smoking allowed,Doorman,Elevator in building,Buzzer/wireless intercom,Heating,Family/kid friendly,Washer,Fire extinguisher,Essentials,Shampoo,24-hour check-in,Hangers,Hair dryer,Iron,Laptop friendly workspace                                          |  NA | 139 |  92 |       NA |\n",
       "| 13169 | 28008 | Argüelles            | Apartment   | Entire home/apt |  4 | 1.0 | 1 |  1 | Real Bed      | TV,Wireless Internet,Kitchen,Elevator in building,Heating,Family/kid friendly,Washer,Dryer,Essentials,Shampoo,24-hour check-in,Hangers,Hair dryer,Iron,Laptop friendly workspace                                                                                                                                      |  NA |  61 |  92 |       NA |\n",
       "| 13175 | 28003 | Ciudad Universitaria | Loft        | Entire home/apt |  3 | 1.0 | 1 |  2 | Real Bed      | TV,Wireless Internet,Kitchen,Breakfast,Elevator in building,Buzzer/wireless intercom,Heating,Family/kid friendly,Washer,Essentials,Shampoo,Hangers,Iron,Laptop friendly workspace                                                                                                                                     |  NA |  55 | 100 |       NA |\n",
       "| 13176 | 28038 | Numancia             | Apartment   | Entire home/apt |  6 | 1.0 | 3 |  4 | Real Bed      | TV,Internet,Wireless Internet,Air conditioning,Kitchen,Buzzer/wireless intercom,Heating,Family/kid friendly,Washer,First aid kit,Essentials,Shampoo,Hangers,Hair dryer,Iron,Laptop friendly workspace                                                                                                                 |  NA |  65 |  94 |       NA |\n",
       "| 13179 | 28023 | Aravaca              | Condominium | Entire home/apt |  3 | 1.0 | 1 |  3 | Real Bed      | TV,Internet,Wireless Internet,Pool,Kitchen,Free parking on premises,Doorman,Heating,Family/kid friendly,Washer,Essentials,24-hour check-in,Hangers,Iron,Laptop friendly workspace,Private entrance                                                                                                                    |  NA |  50 | 100 |       NA |\n",
       "| 13183 | 28004 | Universidad          | Other       | Entire home/apt |  3 | 1.0 | 1 |  1 | Real Bed      | TV,Internet,Wireless Internet,Air conditioning,Kitchen,Smoking allowed,Pets allowed,Elevator in building,Buzzer/wireless intercom,Heating,Family/kid friendly,Washer,Dryer,Fire extinguisher,Essentials,24-hour check-in,Hangers,Hair dryer,Iron                                                                      |  NA |  43 |  83 |       NA |\n",
       "| 13184 | 28004 | Universidad          | Apartment   | Entire home/apt |  3 | 1.0 | 1 |  1 | Real Bed      | TV,Internet,Wireless Internet,Kitchen,Buzzer/wireless intercom,Heating,Washer,Dryer,Essentials,Shampoo,24-hour check-in,Hangers,Hair dryer,Iron,Laptop friendly workspace,translation missing: en.hosting_amenity_49,translation missing: en.hosting_amenity_50                                                       |  NA |  80 |  96 |       NA |\n",
       "| 13185 | 28004 | Universidad          | Apartment   | Entire home/apt |  2 | 1.0 | 1 |  1 | Real Bed      | TV,Internet,Wireless Internet,Air conditioning,Kitchen,Elevator in building,Heating,Washer,Dryer,First aid kit,Essentials,Hangers,Hair dryer,Iron,translation missing: en.hosting_amenity_49,translation missing: en.hosting_amenity_50                                                                               |  NA |  80 |  99 |       NA |\n",
       "| 13186 | 28015 | Universidad          | Apartment   | Entire home/apt |  4 | 1.0 | 1 |  2 | Real Bed      | TV,Internet,Wireless Internet,Air conditioning,Kitchen,Elevator in building,Heating,Family/kid friendly,Washer,Smoke detector,Fire extinguisher,Essentials,Shampoo,Lock on bedroom door,Hangers,Hair dryer,Iron                                                                                                       |  NA | 100 | 100 |       NA |\n",
       "| 13187 | 28015 | Universidad          | Apartment   | Entire home/apt |  2 | 1.0 | 1 |  2 | Real Bed      | TV,Wireless Internet,Air conditioning,Kitchen,Elevator in building,Buzzer/wireless intercom,Heating,Family/kid friendly,Washer                                                                                                                                                                                        | 291 |  50 |  87 | 27.03477 |\n",
       "| 13188 | 28015 | Universidad          | Apartment   | Entire home/apt |  5 | 1.0 | 2 |  3 | Real Bed      | TV,Internet,Wireless Internet,Kitchen,Smoking allowed,Elevator in building,Buzzer/wireless intercom,Heating,Family/kid friendly,Washer,First aid kit,Essentials,Shampoo,24-hour check-in,Hangers,Hair dryer,Iron,Laptop friendly workspace                                                                            |  NA |  85 |  90 |       NA |\n",
       "| 13190 | 28015 | Universidad          | Apartment   | Entire home/apt |  4 | 1.0 | 1 |  2 | Real Bed      | TV,Wireless Internet,Air conditioning,Kitchen,Smoking allowed,Heating,Family/kid friendly,Washer,Dryer,Smoke detector,First aid kit,Essentials,Shampoo,Hangers,Hair dryer,Iron                                                                                                                                        |  NA |  60 | 100 |       NA |\n",
       "| 13191 | 28013 | Universidad          | Apartment   | Entire home/apt |  2 | 1.0 | 1 |  1 | Real Bed      | TV,Wireless Internet,Air conditioning,Kitchen,Elevator in building,Heating,Washer,Dryer,Essentials,Shampoo,Hangers,Hair dryer,Iron,Laptop friendly workspace,translation missing: en.hosting_amenity_49,translation missing: en.hosting_amenity_50                                                                    |  NA | 145 |  NA |       NA |\n",
       "| 13192 | 28004 | Universidad          | Apartment   | Entire home/apt |  4 | 1.0 | 1 |  2 | Real Bed      | TV,Internet,Wireless Internet,Air conditioning,Kitchen,Pets allowed,Indoor fireplace,Buzzer/wireless intercom,Heating,Family/kid friendly,Washer,Smoke detector,Carbon monoxide detector,Essentials,Shampoo,24-hour check-in,Hangers,Hair dryer,Iron,Laptop friendly workspace                                        |  NA |  62 |  91 |       NA |\n",
       "| 13193 | 28004 | Universidad          | Apartment   | Entire home/apt | 14 | 5.5 | 5 | 10 | Real Bed      | TV,Internet,Wireless Internet,Air conditioning,Kitchen,Smoking allowed,Elevator in building,Indoor fireplace,Family/kid friendly,Washer,Dryer,First aid kit,Fire extinguisher,Essentials                                                                                                                              |  NA | 300 |  94 |       NA |\n",
       "| 13195 | 28004 | Universidad          | Apartment   | Entire home/apt |  3 | 1.0 | 1 |  2 | Real Bed      | TV,Wireless Internet,Kitchen,Buzzer/wireless intercom,Heating,Family/kid friendly,Washer,Smoke detector,Essentials,Shampoo,24-hour check-in,Hangers,Laptop friendly workspace,translation missing: en.hosting_amenity_50                                                                                              |  NA |  62 |  81 |       NA |\n",
       "| 13198 | 28004 | Universidad          | Apartment   | Entire home/apt |  4 | 1.0 | 2 |  4 | Pull-out Sofa | TV,Internet,Wireless Internet,Air conditioning,Kitchen,Smoking allowed,Pets allowed,Elevator in building,Heating,Family/kid friendly,Washer,Dryer,Essentials,Shampoo,Hangers,Hair dryer,Iron                                                                                                                          |  NA |  90 |  90 |       NA |\n",
       "| 13199 | 28004 | Universidad          | Apartment   | Entire home/apt |  4 | 1.0 | 2 |  2 | Real Bed      | TV,Internet,Wireless Internet,Air conditioning,Kitchen,Smoking allowed,Pets allowed,Buzzer/wireless intercom,Heating,Family/kid friendly,Washer,Dryer,Essentials,Hangers,Hair dryer,Iron                                                                                                                              |  NA |  70 |  87 |       NA |\n",
       "| 13200 | 28004 | Universidad          | Apartment   | Entire home/apt |  2 | 1.0 | 1 |  1 | Real Bed      | TV,Internet,Wireless Internet,Air conditioning,Kitchen,Smoking allowed,Pets allowed,Elevator in building,Heating,Family/kid friendly,Washer,First aid kit,Fire extinguisher,Essentials,Lock on bedroom door,Hangers,Hair dryer,Iron                                                                                   |  NA |  40 |  82 |       NA |\n",
       "| 13201 | 28004 | Universidad          | Loft        | Entire home/apt |  2 | 1.0 | 1 |  2 | Real Bed      | Internet,Wireless Internet,Smoking allowed,Breakfast,Elevator in building,Heating,Shampoo,Hangers,Hair dryer,Iron,Laptop friendly workspace,translation missing: en.hosting_amenity_49,translation missing: en.hosting_amenity_50                                                                                     |  NA |  30 |  NA |       NA |\n",
       "| 13202 | 28004 | Universidad          | Apartment   | Entire home/apt |  4 | 1.0 | 1 |  2 | Real Bed      | TV,Wireless Internet,Air conditioning,Kitchen,Smoking allowed,Pets allowed,Heating,Family/kid friendly,Washer,Fire extinguisher,Essentials,Lock on bedroom door,Hangers,Hair dryer,Iron                                                                                                                               |  NA |  48 |  83 |       NA |\n",
       "| 13203 | 28015 | Universidad          | Apartment   | Entire home/apt |  2 | 1.0 | 1 |  1 | Real Bed      | TV,Internet,Wireless Internet,Air conditioning,Kitchen,Elevator in building,Buzzer/wireless intercom,Heating,Washer,Dryer,Smoke detector,Fire extinguisher,Essentials,Shampoo,Hangers,Hair dryer,Iron,Laptop friendly workspace,translation missing: en.hosting_amenity_49,translation missing: en.hosting_amenity_50 |  NA |  35 |  90 |       NA |\n",
       "| 13204 | 28004 | Universidad          | Apartment   | Entire home/apt |  3 | 1.0 | 1 |  2 | Real Bed      | TV,Wireless Internet,Air conditioning,Kitchen,Elevator in building,Buzzer/wireless intercom,Heating,Family/kid friendly,Washer,Dryer,Smoke detector,Carbon monoxide detector,Fire extinguisher,Essentials,Shampoo,24-hour check-in,Hangers,Hair dryer,Iron,Laptop friendly workspace                                  |  NA |  79 |  97 |       NA |\n",
       "| 13205 | 28013 | Universidad          | Apartment   | Entire home/apt |  4 | 1.0 | 1 |  1 | Real Bed      | TV,Wireless Internet,Air conditioning,Pool,Kitchen,Doorman,Gym,Elevator in building,Buzzer/wireless intercom,Heating,Washer,First aid kit,Safety card,Essentials,Shampoo,Hangers,Hair dryer,Iron,Laptop friendly workspace                                                                                            |  NA | 150 | 100 |       NA |\n",
       "| 13206 | 28004 | Universidad          | Loft        | Entire home/apt |  2 | 1.0 | 0 |  1 | Real Bed      | TV,Internet,Wireless Internet,Kitchen,Smoking allowed,Pets allowed,Elevator in building,Heating,Family/kid friendly,Washer,First aid kit,Essentials,Shampoo                                                                                                                                                           |  NA |  80 |  91 |       NA |\n",
       "| 13207 | 28004 | Universidad          | Apartment   | Entire home/apt |  3 | 1.0 | 0 |  2 | Real Bed      | TV,Internet,Wireless Internet,Air conditioning,Kitchen,Heating,Family/kid friendly,Washer                                                                                                                                                                                                                             |  NA |  69 |  80 |       NA |\n",
       "\n"
      ],
      "text/plain": [
       "      CodigoPostal Barrio               TipoPropiedad TipoAlquiler   \n",
       "2     28004        Universidad          Apartment     Entire home/apt\n",
       "3     28004        Universidad          Apartment     Entire home/apt\n",
       "4     28004        Universidad          Loft          Entire home/apt\n",
       "5     28015        Universidad          Apartment     Entire home/apt\n",
       "6     28004        Universidad          Apartment     Entire home/apt\n",
       "8     28004        Universidad          Apartment     Entire home/apt\n",
       "9     28015        Universidad          Apartment     Entire home/apt\n",
       "10    28004        Universidad          Apartment     Entire home/apt\n",
       "11    28004        Universidad          Apartment     Entire home/apt\n",
       "15    28013        Sol                  Apartment     Entire home/apt\n",
       "16    28013        Sol                  Condominium   Entire home/apt\n",
       "17    28013        Sol                  Apartment     Entire home/apt\n",
       "18    28012        Sol                  Apartment     Entire home/apt\n",
       "19    28013        Sol                  Apartment     Entire home/apt\n",
       "21    28013        Sol                  Apartment     Entire home/apt\n",
       "22    28005        Sol                  Apartment     Entire home/apt\n",
       "23    28013        Sol                  Apartment     Entire home/apt\n",
       "24    28012        Sol                  Apartment     Entire home/apt\n",
       "25    28012        Sol                  Apartment     Entire home/apt\n",
       "26    28013        Sol                  Apartment     Entire home/apt\n",
       "27    28014        Sol                  Condominium   Entire home/apt\n",
       "28    28013        Sol                  Apartment     Entire home/apt\n",
       "30    28005        Sol                  Apartment     Entire home/apt\n",
       "31    28005        Imperial             Apartment     Entire home/apt\n",
       "32    28005        Imperial             Apartment     Entire home/apt\n",
       "36    28005        Acacias              House         Entire home/apt\n",
       "43    28013        Sol                  Apartment     Entire home/apt\n",
       "44    28013        Sol                  Apartment     Entire home/apt\n",
       "45    28013        Sol                  Apartment     Entire home/apt\n",
       "46    28013        Sol                  Apartment     Entire home/apt\n",
       "⋮     ⋮            ⋮                    ⋮             ⋮              \n",
       "13157 28010        Almagro              Apartment     Entire home/apt\n",
       "13158 28010        Almagro              Apartment     Entire home/apt\n",
       "13159 28003        Rios Rosas           Apartment     Entire home/apt\n",
       "13167 28008        Argüelles            House         Entire home/apt\n",
       "13168 28008        Argüelles            House         Entire home/apt\n",
       "13169 28008        Argüelles            Apartment     Entire home/apt\n",
       "13175 28003        Ciudad Universitaria Loft          Entire home/apt\n",
       "13176 28038        Numancia             Apartment     Entire home/apt\n",
       "13179 28023        Aravaca              Condominium   Entire home/apt\n",
       "13183 28004        Universidad          Other         Entire home/apt\n",
       "13184 28004        Universidad          Apartment     Entire home/apt\n",
       "13185 28004        Universidad          Apartment     Entire home/apt\n",
       "13186 28015        Universidad          Apartment     Entire home/apt\n",
       "13187 28015        Universidad          Apartment     Entire home/apt\n",
       "13188 28015        Universidad          Apartment     Entire home/apt\n",
       "13190 28015        Universidad          Apartment     Entire home/apt\n",
       "13191 28013        Universidad          Apartment     Entire home/apt\n",
       "13192 28004        Universidad          Apartment     Entire home/apt\n",
       "13193 28004        Universidad          Apartment     Entire home/apt\n",
       "13195 28004        Universidad          Apartment     Entire home/apt\n",
       "13198 28004        Universidad          Apartment     Entire home/apt\n",
       "13199 28004        Universidad          Apartment     Entire home/apt\n",
       "13200 28004        Universidad          Apartment     Entire home/apt\n",
       "13201 28004        Universidad          Loft          Entire home/apt\n",
       "13202 28004        Universidad          Apartment     Entire home/apt\n",
       "13203 28015        Universidad          Apartment     Entire home/apt\n",
       "13204 28004        Universidad          Apartment     Entire home/apt\n",
       "13205 28013        Universidad          Apartment     Entire home/apt\n",
       "13206 28004        Universidad          Loft          Entire home/apt\n",
       "13207 28004        Universidad          Apartment     Entire home/apt\n",
       "      MaxOcupantes NumBanyos NumDormitorios NumCamas TipoCama     \n",
       "2      6           1         3               5       Real Bed     \n",
       "3      3           1         2               2       Real Bed     \n",
       "4      3           2         1               1       Real Bed     \n",
       "5      5           1         1               1       Real Bed     \n",
       "6      2           1         0               1       Real Bed     \n",
       "8      3           1         1              NA       Real Bed     \n",
       "9      2           1         1               1       Real Bed     \n",
       "10     4           2         2               2       Real Bed     \n",
       "11     4           1         1               2       Real Bed     \n",
       "15     4           1         1               1       Real Bed     \n",
       "16     6           1         2               3       Real Bed     \n",
       "17     4           1         1               2       Real Bed     \n",
       "18     6           1         2               2       Real Bed     \n",
       "19     4           1         1               2       Real Bed     \n",
       "21     4           1         1               2       Real Bed     \n",
       "22    10           2         4               7       Real Bed     \n",
       "23     6           1         2               4       Real Bed     \n",
       "24     4           1         1               2       Real Bed     \n",
       "25     4           1         1               1       Real Bed     \n",
       "26     4           1         1               2       Real Bed     \n",
       "27     8           2         2               5       Real Bed     \n",
       "28     6           2         2               3       Real Bed     \n",
       "30     8           1         3               4       Real Bed     \n",
       "31     3           1         1               1       Real Bed     \n",
       "32     3           1         2               2       Real Bed     \n",
       "36     4           2         2               4       Real Bed     \n",
       "43     4           1         1               1       Pull-out Sofa\n",
       "44     6           2         2               2       Real Bed     \n",
       "45     3           1         1               2       Real Bed     \n",
       "46     2           1         1               1       Real Bed     \n",
       "⋮     ⋮            ⋮         ⋮              ⋮        ⋮            \n",
       "13157  2           1.0       0               1       Pull-out Sofa\n",
       "13158  2           1.0       1               1       Real Bed     \n",
       "13159  3           1.0       1               1       Real Bed     \n",
       "13167  3           1.0       1               2       Real Bed     \n",
       "13168  5           1.0       3               4       Real Bed     \n",
       "13169  4           1.0       1               1       Real Bed     \n",
       "13175  3           1.0       1               2       Real Bed     \n",
       "13176  6           1.0       3               4       Real Bed     \n",
       "13179  3           1.0       1               3       Real Bed     \n",
       "13183  3           1.0       1               1       Real Bed     \n",
       "13184  3           1.0       1               1       Real Bed     \n",
       "13185  2           1.0       1               1       Real Bed     \n",
       "13186  4           1.0       1               2       Real Bed     \n",
       "13187  2           1.0       1               2       Real Bed     \n",
       "13188  5           1.0       2               3       Real Bed     \n",
       "13190  4           1.0       1               2       Real Bed     \n",
       "13191  2           1.0       1               1       Real Bed     \n",
       "13192  4           1.0       1               2       Real Bed     \n",
       "13193 14           5.5       5              10       Real Bed     \n",
       "13195  3           1.0       1               2       Real Bed     \n",
       "13198  4           1.0       2               4       Pull-out Sofa\n",
       "13199  4           1.0       2               2       Real Bed     \n",
       "13200  2           1.0       1               1       Real Bed     \n",
       "13201  2           1.0       1               2       Real Bed     \n",
       "13202  4           1.0       1               2       Real Bed     \n",
       "13203  2           1.0       1               1       Real Bed     \n",
       "13204  3           1.0       1               2       Real Bed     \n",
       "13205  4           1.0       1               1       Real Bed     \n",
       "13206  2           1.0       0               1       Real Bed     \n",
       "13207  3           1.0       0               2       Real Bed     \n",
       "      Comodidades                                                                                                                                                                                                                                                                                                                                                     \n",
       "2     TV,Internet,Wireless Internet,Air conditioning,Kitchen,Indoor fireplace,Heating,Family/kid friendly,Washer,Dryer,Smoke detector,Carbon monoxide detector,Essentials,Shampoo                                                                                                                                                                                     \n",
       "3     TV,Internet,Wireless Internet,Air conditioning,Kitchen,Doorman,Heating,Family/kid friendly,Washer,Essentials,Shampoo,Hangers,Hair dryer,Iron,Laptop friendly workspace                                                                                                                                                                                          \n",
       "4     TV,Internet,Wireless Internet,Air conditioning,Kitchen,Pets allowed,Breakfast,Elevator in building,Indoor fireplace,Buzzer/wireless intercom,Heating,Washer,Essentials,Shampoo,Hangers,Hair dryer,Iron,Laptop friendly workspace,translation missing: en.hosting_amenity_49,translation missing: en.hosting_amenity_50                                          \n",
       "5     TV,Wireless Internet,Air conditioning,Kitchen,Smoking allowed,Pets allowed,Elevator in building,Heating,Family/kid friendly,Washer,Essentials,Iron                                                                                                                                                                                                              \n",
       "6     TV,Cable TV,Internet,Wireless Internet,Air conditioning,Wheelchair accessible,Kitchen,Doorman,Elevator in building,Buzzer/wireless intercom,Heating,Washer,Smoke detector,Carbon monoxide detector,First aid kit,Safety card,Fire extinguisher,Essentials,Shampoo,24-hour check-in,Hangers,Hair dryer,Iron,Laptop friendly workspace,Self Check-In,Doorman Entry\n",
       "8     TV,Wireless Internet,Air conditioning,Kitchen,Elevator in building,Buzzer/wireless intercom,Heating,Washer                                                                                                                                                                                                                                                      \n",
       "9     TV,Internet,Wireless Internet,Kitchen,Elevator in building,Buzzer/wireless intercom,Heating,Family/kid friendly,Washer,Dryer,Essentials,Shampoo,translation missing: en.hosting_amenity_49                                                                                                                                                                      \n",
       "10    TV,Wireless Internet,Air conditioning,Kitchen,Elevator in building,Hot tub,Heating,Family/kid friendly,Washer,Dryer,Essentials,Hair dryer,Iron                                                                                                                                                                                                                  \n",
       "11    TV,Wireless Internet,Air conditioning,Wheelchair accessible,Kitchen,Elevator in building,Buzzer/wireless intercom,Heating,Family/kid friendly,Washer,Essentials,Shampoo                                                                                                                                                                                         \n",
       "15    TV,Wireless Internet,Air conditioning,Kitchen,Doorman,Elevator in building,Buzzer/wireless intercom,Heating,Family/kid friendly,Suitable for events,Washer,Essentials,Hangers,Hair dryer,Iron                                                                                                                                                                   \n",
       "16    TV,Wireless Internet,Air conditioning,Kitchen,Doorman,Elevator in building,Buzzer/wireless intercom,Heating,Family/kid friendly,Washer,Dryer,Essentials,Shampoo,Hangers,Hair dryer,Iron                                                                                                                                                                         \n",
       "17    TV,Internet,Wireless Internet,Air conditioning,Kitchen,Doorman,Elevator in building,Buzzer/wireless intercom,Heating,Family/kid friendly,Washer,Smoke detector,Carbon monoxide detector,First aid kit,Safety card,Fire extinguisher,Essentials,Shampoo,24-hour check-in,Hangers,Hair dryer,Iron,Laptop friendly workspace                                       \n",
       "18    TV,Internet,Wireless Internet,Air conditioning,Kitchen,Smoking allowed,Elevator in building,Buzzer/wireless intercom,Heating,Family/kid friendly,Washer,Dryer,Essentials,Shampoo,Hangers,Hair dryer,Iron,Laptop friendly workspace                                                                                                                              \n",
       "19    TV,Internet,Wireless Internet,Air conditioning,Kitchen,Heating,Washer,Essentials,Hangers,Hair dryer,translation missing: en.hosting_amenity_50                                                                                                                                                                                                                  \n",
       "21    TV,Wireless Internet,Kitchen,Pets allowed,Elevator in building,Heating,Family/kid friendly,Washer,Essentials,Shampoo,Hangers,Hair dryer,Laptop friendly workspace                                                                                                                                                                                               \n",
       "22    TV,Internet,Wireless Internet,Air conditioning,Kitchen,Heating,Family/kid friendly,Washer,Essentials                                                                                                                                                                                                                                                            \n",
       "23    TV,Internet,Wireless Internet,Air conditioning,Kitchen,Smoking allowed,Pets allowed,Doorman,Elevator in building,Buzzer/wireless intercom,Heating,Family/kid friendly,Washer,First aid kit,Safety card,Essentials,Shampoo,Hangers,Hair dryer,Iron                                                                                                               \n",
       "24    TV,Internet,Wireless Internet,Air conditioning,Kitchen,Elevator in building,Heating,Family/kid friendly,Washer,Smoke detector,Carbon monoxide detector,Essentials,Shampoo,24-hour check-in,Hangers,Hair dryer,Iron,Laptop friendly workspace                                                                                                                    \n",
       "25    TV,Cable TV,Internet,Wireless Internet,Air conditioning,Kitchen,Elevator in building,Buzzer/wireless intercom,Heating,Family/kid friendly,Washer,Essentials,Hair dryer,Iron                                                                                                                                                                                     \n",
       "26    TV,Internet,Wireless Internet,Air conditioning,Kitchen,Breakfast,Elevator in building,Heating,Family/kid friendly,Washer,First aid kit,Fire extinguisher,Essentials,Shampoo,Hangers,Hair dryer,Iron,Laptop friendly workspace                                                                                                                                   \n",
       "27    TV,Internet,Wireless Internet,Air conditioning,Wheelchair accessible,Kitchen,Doorman,Elevator in building,Buzzer/wireless intercom,Heating,Family/kid friendly,Washer,Smoke detector,Carbon monoxide detector,Essentials,Shampoo,24-hour check-in,Hangers,Hair dryer,Iron,Laptop friendly workspace                                                             \n",
       "28    TV,Internet,Wireless Internet,Air conditioning,Wheelchair accessible,Kitchen,Doorman,Elevator in building,Buzzer/wireless intercom,Heating,Family/kid friendly,Washer,Dryer,Essentials,Hangers,Hair dryer,Iron                                                                                                                                                  \n",
       "30    TV,Internet,Wireless Internet,Kitchen,Breakfast,Elevator in building,Buzzer/wireless intercom,Heating,Family/kid friendly,Washer,Essentials,Shampoo,Hangers,Hair dryer,Iron,Laptop friendly workspace,Self Check-In,Lockbox                                                                                                                                     \n",
       "31    TV,Internet,Wireless Internet,Kitchen,Pets allowed,Elevator in building,Heating,Family/kid friendly,Washer,Fire extinguisher,Essentials,Shampoo,Hangers,Hair dryer,Iron,Laptop friendly workspace,translation missing: en.hosting_amenity_50                                                                                                                    \n",
       "32    TV,Wireless Internet,Kitchen,Heating,Family/kid friendly,Washer,Essentials,Hair dryer,translation missing: en.hosting_amenity_50                                                                                                                                                                                                                                \n",
       "36    TV,Wireless Internet,Air conditioning,Wheelchair accessible,Kitchen,Doorman,Elevator in building,Buzzer/wireless intercom,Heating,Washer,Essentials,Shampoo,Hangers,Hair dryer,Iron,Laptop friendly workspace                                                                                                                                                   \n",
       "43    TV,Internet,Wireless Internet,Air conditioning,Kitchen,Elevator in building,Buzzer/wireless intercom,Heating,Family/kid friendly,Washer,Smoke detector,Carbon monoxide detector,First aid kit,Essentials,Shampoo,24-hour check-in,Hangers,Hair dryer,Iron,Laptop friendly workspace,translation missing: en.hosting_amenity_50                                  \n",
       "44    TV,Wireless Internet,Air conditioning,Kitchen,Elevator in building,Heating,Washer,Essentials,Shampoo                                                                                                                                                                                                                                                            \n",
       "45    TV,Internet,Wireless Internet,Air conditioning,Kitchen,Smoking allowed,Elevator in building,Buzzer/wireless intercom,Heating,Family/kid friendly,Washer,Fire extinguisher,Essentials,Shampoo,Hangers,Hair dryer,Iron                                                                                                                                            \n",
       "46    TV,Internet,Wireless Internet,Air conditioning,Kitchen,Elevator in building,Buzzer/wireless intercom,Heating,Family/kid friendly,Washer,First aid kit,Essentials,Shampoo,Hair dryer,Iron                                                                                                                                                                        \n",
       "⋮     ⋮                                                                                                                                                                                                                                                                                                                                                               \n",
       "13157 TV,Wireless Internet,Kitchen,Buzzer/wireless intercom,Heating,Essentials,Hangers,Iron,translation missing: en.hosting_amenity_49,translation missing: en.hosting_amenity_50                                                                                                                                                                                     \n",
       "13158 TV,Internet,Wireless Internet,Air conditioning,Kitchen,Pets allowed,Doorman,Elevator in building,Buzzer/wireless intercom,Heating,Family/kid friendly,Washer,Essentials,Hangers,Iron,Laptop friendly workspace,translation missing: en.hosting_amenity_49                                                                                                       \n",
       "13159 TV,Internet,Wireless Internet,Air conditioning,Kitchen,Elevator in building,Buzzer/wireless intercom,Heating,Family/kid friendly,Washer,Fire extinguisher,Essentials,24-hour check-in,Hangers,Hair dryer,Iron,Laptop friendly workspace                                                                                                                         \n",
       "13167 TV,Internet,Wireless Internet,Air conditioning,Kitchen,Elevator in building,Heating,Washer,Smoke detector,Fire extinguisher,Essentials,Hangers,Hair dryer,Iron,Laptop friendly workspace                                                                                                                                                                        \n",
       "13168 TV,Internet,Wireless Internet,Wheelchair accessible,Kitchen,Smoking allowed,Doorman,Elevator in building,Buzzer/wireless intercom,Heating,Family/kid friendly,Washer,Fire extinguisher,Essentials,Shampoo,24-hour check-in,Hangers,Hair dryer,Iron,Laptop friendly workspace                                                                                    \n",
       "13169 TV,Wireless Internet,Kitchen,Elevator in building,Heating,Family/kid friendly,Washer,Dryer,Essentials,Shampoo,24-hour check-in,Hangers,Hair dryer,Iron,Laptop friendly workspace                                                                                                                                                                                \n",
       "13175 TV,Wireless Internet,Kitchen,Breakfast,Elevator in building,Buzzer/wireless intercom,Heating,Family/kid friendly,Washer,Essentials,Shampoo,Hangers,Iron,Laptop friendly workspace                                                                                                                                                                               \n",
       "13176 TV,Internet,Wireless Internet,Air conditioning,Kitchen,Buzzer/wireless intercom,Heating,Family/kid friendly,Washer,First aid kit,Essentials,Shampoo,Hangers,Hair dryer,Iron,Laptop friendly workspace                                                                                                                                                           \n",
       "13179 TV,Internet,Wireless Internet,Pool,Kitchen,Free parking on premises,Doorman,Heating,Family/kid friendly,Washer,Essentials,24-hour check-in,Hangers,Iron,Laptop friendly workspace,Private entrance                                                                                                                                                              \n",
       "13183 TV,Internet,Wireless Internet,Air conditioning,Kitchen,Smoking allowed,Pets allowed,Elevator in building,Buzzer/wireless intercom,Heating,Family/kid friendly,Washer,Dryer,Fire extinguisher,Essentials,24-hour check-in,Hangers,Hair dryer,Iron                                                                                                                \n",
       "13184 TV,Internet,Wireless Internet,Kitchen,Buzzer/wireless intercom,Heating,Washer,Dryer,Essentials,Shampoo,24-hour check-in,Hangers,Hair dryer,Iron,Laptop friendly workspace,translation missing: en.hosting_amenity_49,translation missing: en.hosting_amenity_50                                                                                                 \n",
       "13185 TV,Internet,Wireless Internet,Air conditioning,Kitchen,Elevator in building,Heating,Washer,Dryer,First aid kit,Essentials,Hangers,Hair dryer,Iron,translation missing: en.hosting_amenity_49,translation missing: en.hosting_amenity_50                                                                                                                         \n",
       "13186 TV,Internet,Wireless Internet,Air conditioning,Kitchen,Elevator in building,Heating,Family/kid friendly,Washer,Smoke detector,Fire extinguisher,Essentials,Shampoo,Lock on bedroom door,Hangers,Hair dryer,Iron                                                                                                                                                 \n",
       "13187 TV,Wireless Internet,Air conditioning,Kitchen,Elevator in building,Buzzer/wireless intercom,Heating,Family/kid friendly,Washer                                                                                                                                                                                                                                  \n",
       "13188 TV,Internet,Wireless Internet,Kitchen,Smoking allowed,Elevator in building,Buzzer/wireless intercom,Heating,Family/kid friendly,Washer,First aid kit,Essentials,Shampoo,24-hour check-in,Hangers,Hair dryer,Iron,Laptop friendly workspace                                                                                                                      \n",
       "13190 TV,Wireless Internet,Air conditioning,Kitchen,Smoking allowed,Heating,Family/kid friendly,Washer,Dryer,Smoke detector,First aid kit,Essentials,Shampoo,Hangers,Hair dryer,Iron                                                                                                                                                                                  \n",
       "13191 TV,Wireless Internet,Air conditioning,Kitchen,Elevator in building,Heating,Washer,Dryer,Essentials,Shampoo,Hangers,Hair dryer,Iron,Laptop friendly workspace,translation missing: en.hosting_amenity_49,translation missing: en.hosting_amenity_50                                                                                                              \n",
       "13192 TV,Internet,Wireless Internet,Air conditioning,Kitchen,Pets allowed,Indoor fireplace,Buzzer/wireless intercom,Heating,Family/kid friendly,Washer,Smoke detector,Carbon monoxide detector,Essentials,Shampoo,24-hour check-in,Hangers,Hair dryer,Iron,Laptop friendly workspace                                                                                  \n",
       "13193 TV,Internet,Wireless Internet,Air conditioning,Kitchen,Smoking allowed,Elevator in building,Indoor fireplace,Family/kid friendly,Washer,Dryer,First aid kit,Fire extinguisher,Essentials                                                                                                                                                                        \n",
       "13195 TV,Wireless Internet,Kitchen,Buzzer/wireless intercom,Heating,Family/kid friendly,Washer,Smoke detector,Essentials,Shampoo,24-hour check-in,Hangers,Laptop friendly workspace,translation missing: en.hosting_amenity_50                                                                                                                                        \n",
       "13198 TV,Internet,Wireless Internet,Air conditioning,Kitchen,Smoking allowed,Pets allowed,Elevator in building,Heating,Family/kid friendly,Washer,Dryer,Essentials,Shampoo,Hangers,Hair dryer,Iron                                                                                                                                                                    \n",
       "13199 TV,Internet,Wireless Internet,Air conditioning,Kitchen,Smoking allowed,Pets allowed,Buzzer/wireless intercom,Heating,Family/kid friendly,Washer,Dryer,Essentials,Hangers,Hair dryer,Iron                                                                                                                                                                        \n",
       "13200 TV,Internet,Wireless Internet,Air conditioning,Kitchen,Smoking allowed,Pets allowed,Elevator in building,Heating,Family/kid friendly,Washer,First aid kit,Fire extinguisher,Essentials,Lock on bedroom door,Hangers,Hair dryer,Iron                                                                                                                             \n",
       "13201 Internet,Wireless Internet,Smoking allowed,Breakfast,Elevator in building,Heating,Shampoo,Hangers,Hair dryer,Iron,Laptop friendly workspace,translation missing: en.hosting_amenity_49,translation missing: en.hosting_amenity_50                                                                                                                               \n",
       "13202 TV,Wireless Internet,Air conditioning,Kitchen,Smoking allowed,Pets allowed,Heating,Family/kid friendly,Washer,Fire extinguisher,Essentials,Lock on bedroom door,Hangers,Hair dryer,Iron                                                                                                                                                                         \n",
       "13203 TV,Internet,Wireless Internet,Air conditioning,Kitchen,Elevator in building,Buzzer/wireless intercom,Heating,Washer,Dryer,Smoke detector,Fire extinguisher,Essentials,Shampoo,Hangers,Hair dryer,Iron,Laptop friendly workspace,translation missing: en.hosting_amenity_49,translation missing: en.hosting_amenity_50                                           \n",
       "13204 TV,Wireless Internet,Air conditioning,Kitchen,Elevator in building,Buzzer/wireless intercom,Heating,Family/kid friendly,Washer,Dryer,Smoke detector,Carbon monoxide detector,Fire extinguisher,Essentials,Shampoo,24-hour check-in,Hangers,Hair dryer,Iron,Laptop friendly workspace                                                                            \n",
       "13205 TV,Wireless Internet,Air conditioning,Pool,Kitchen,Doorman,Gym,Elevator in building,Buzzer/wireless intercom,Heating,Washer,First aid kit,Safety card,Essentials,Shampoo,Hangers,Hair dryer,Iron,Laptop friendly workspace                                                                                                                                      \n",
       "13206 TV,Internet,Wireless Internet,Kitchen,Smoking allowed,Pets allowed,Elevator in building,Heating,Family/kid friendly,Washer,First aid kit,Essentials,Shampoo                                                                                                                                                                                                     \n",
       "13207 TV,Internet,Wireless Internet,Air conditioning,Kitchen,Heating,Family/kid friendly,Washer                                                                                                                                                                                                                                                                       \n",
       "      PiesCuadrados Precio Puntuacion MetrosCuadrados\n",
       "2      NA            92     96              NA       \n",
       "3      NA            55     91              NA       \n",
       "4      NA            60    100              NA       \n",
       "5     538            75     90        49.98181       \n",
       "6      NA            55     95              NA       \n",
       "8      NA            70     84              NA       \n",
       "9     700            90     98        65.03210       \n",
       "10     NA           155     NA              NA       \n",
       "11     40            70     90         3.71612       \n",
       "15    646            75     91        60.01534       \n",
       "16     NA           130    100              NA       \n",
       "17     NA           100     97              NA       \n",
       "18     NA           160     95              NA       \n",
       "19     NA            49     95              NA       \n",
       "21     NA            70     88              NA       \n",
       "22     NA           210     81              NA       \n",
       "23     NA           120     99              NA       \n",
       "24     NA            50     91              NA       \n",
       "25    753           100     87        69.95596       \n",
       "26     NA            75    100              NA       \n",
       "27     NA           155     93              NA       \n",
       "28     NA           155     80              NA       \n",
       "30     NA           163    100              NA       \n",
       "31     NA            70     95              NA       \n",
       "32     NA            49     88              NA       \n",
       "36     NA            90     92              NA       \n",
       "43     NA            64     97              NA       \n",
       "44     NA           109     90              NA       \n",
       "45     NA            67     95              NA       \n",
       "46    269            65     93        24.99091       \n",
       "⋮     ⋮             ⋮      ⋮          ⋮              \n",
       "13157  NA            30     83              NA       \n",
       "13158  NA            45    100              NA       \n",
       "13159  NA            39     94              NA       \n",
       "13167  NA           105     NA              NA       \n",
       "13168  NA           139     92              NA       \n",
       "13169  NA            61     92              NA       \n",
       "13175  NA            55    100              NA       \n",
       "13176  NA            65     94              NA       \n",
       "13179  NA            50    100              NA       \n",
       "13183  NA            43     83              NA       \n",
       "13184  NA            80     96              NA       \n",
       "13185  NA            80     99              NA       \n",
       "13186  NA           100    100              NA       \n",
       "13187 291            50     87        27.03477       \n",
       "13188  NA            85     90              NA       \n",
       "13190  NA            60    100              NA       \n",
       "13191  NA           145     NA              NA       \n",
       "13192  NA            62     91              NA       \n",
       "13193  NA           300     94              NA       \n",
       "13195  NA            62     81              NA       \n",
       "13198  NA            90     90              NA       \n",
       "13199  NA            70     87              NA       \n",
       "13200  NA            40     82              NA       \n",
       "13201  NA            30     NA              NA       \n",
       "13202  NA            48     83              NA       \n",
       "13203  NA            35     90              NA       \n",
       "13204  NA            79     97              NA       \n",
       "13205  NA           150    100              NA       \n",
       "13206  NA            80     91              NA       \n",
       "13207  NA            69     80              NA       "
      ]
     },
     "metadata": {},
     "output_type": "display_data"
    }
   ],
   "source": [
    "airbnb_entire<-rbind(data.frame(airbnb[airbnb$TipoAlquiler %in% 'Entire home/apt',]))\n",
    "airbnb_entire"
   ]
  },
  {
   "cell_type": "markdown",
   "metadata": {},
   "source": [
    "¿Cuales son los 5 barrios que tienen un mayor número de apartamentos enteros en alquiler?\n",
    "Nota: Mirar solo en airbnb_entire"
   ]
  },
  {
   "cell_type": "code",
   "execution_count": 22,
   "metadata": {},
   "outputs": [
    {
     "name": "stderr",
     "output_type": "stream",
     "text": [
      "Selecting by n\n",
      "\n"
     ]
    },
    {
     "data": {
      "text/html": [
       "<table>\n",
       "<caption>A tibble: 5 × 2</caption>\n",
       "<thead>\n",
       "\t<tr><th scope=col>Barrio</th><th scope=col>n</th></tr>\n",
       "\t<tr><th scope=col>&lt;fct&gt;</th><th scope=col>&lt;int&gt;</th></tr>\n",
       "</thead>\n",
       "<tbody>\n",
       "\t<tr><td>Embajadores</td><td>1228</td></tr>\n",
       "\t<tr><td>Universidad</td><td> 984</td></tr>\n",
       "\t<tr><td>Palacio    </td><td> 769</td></tr>\n",
       "\t<tr><td>Sol        </td><td> 701</td></tr>\n",
       "\t<tr><td>Cortes     </td><td> 574</td></tr>\n",
       "</tbody>\n",
       "</table>\n"
      ],
      "text/latex": [
       "A tibble: 5 × 2\n",
       "\\begin{tabular}{ll}\n",
       " Barrio & n\\\\\n",
       " <fct> & <int>\\\\\n",
       "\\hline\n",
       "\t Embajadores & 1228\\\\\n",
       "\t Universidad &  984\\\\\n",
       "\t Palacio     &  769\\\\\n",
       "\t Sol         &  701\\\\\n",
       "\t Cortes      &  574\\\\\n",
       "\\end{tabular}\n"
      ],
      "text/markdown": [
       "\n",
       "A tibble: 5 × 2\n",
       "\n",
       "| Barrio &lt;fct&gt; | n &lt;int&gt; |\n",
       "|---|---|\n",
       "| Embajadores | 1228 |\n",
       "| Universidad |  984 |\n",
       "| Palacio     |  769 |\n",
       "| Sol         |  701 |\n",
       "| Cortes      |  574 |\n",
       "\n"
      ],
      "text/plain": [
       "  Barrio      n   \n",
       "1 Embajadores 1228\n",
       "2 Universidad  984\n",
       "3 Palacio      769\n",
       "4 Sol          701\n",
       "5 Cortes       574"
      ]
     },
     "metadata": {},
     "output_type": "display_data"
    }
   ],
   "source": [
    "library(dplyr)\n",
    "top5<-airbnb_entire %>%\n",
    "            count(Barrio, sort = TRUE)\n",
    "top_n(top5, 5)"
   ]
  },
  {
   "cell_type": "markdown",
   "metadata": {},
   "source": [
    "¿Cuales son los 5 barrios que tienen un mayor precio medio de alquiler para apartamentos enteros?\n",
    "\n",
    "¿Cual es su precio medio?\n",
    "\n",
    "Ayuda: Usa la función aggregate `aggregate(.~colname,df,mean,na.rm=TRUE)`"
   ]
  },
  {
   "cell_type": "code",
   "execution_count": 30,
   "metadata": {},
   "outputs": [
    {
     "data": {
      "text/html": [
       "<table>\n",
       "<caption>A data.frame: 5 × 2</caption>\n",
       "<thead>\n",
       "\t<tr><th scope=col>Barrio</th><th scope=col>Precio</th></tr>\n",
       "\t<tr><th scope=col>&lt;fct&gt;</th><th scope=col>&lt;dbl&gt;</th></tr>\n",
       "</thead>\n",
       "<tbody>\n",
       "\t<tr><td>Castellana   </td><td>141.3889</td></tr>\n",
       "\t<tr><td>El Plantío   </td><td>150.0000</td></tr>\n",
       "\t<tr><td>Fuentelareina</td><td>180.0000</td></tr>\n",
       "\t<tr><td>Palomas      </td><td>309.7500</td></tr>\n",
       "\t<tr><td>Recoletos    </td><td>161.9254</td></tr>\n",
       "</tbody>\n",
       "</table>\n"
      ],
      "text/latex": [
       "A data.frame: 5 × 2\n",
       "\\begin{tabular}{ll}\n",
       " Barrio & Precio\\\\\n",
       " <fct> & <dbl>\\\\\n",
       "\\hline\n",
       "\t Castellana    & 141.3889\\\\\n",
       "\t El Plantío    & 150.0000\\\\\n",
       "\t Fuentelareina & 180.0000\\\\\n",
       "\t Palomas       & 309.7500\\\\\n",
       "\t Recoletos     & 161.9254\\\\\n",
       "\\end{tabular}\n"
      ],
      "text/markdown": [
       "\n",
       "A data.frame: 5 × 2\n",
       "\n",
       "| Barrio &lt;fct&gt; | Precio &lt;dbl&gt; |\n",
       "|---|---|\n",
       "| Castellana    | 141.3889 |\n",
       "| El Plantío    | 150.0000 |\n",
       "| Fuentelareina | 180.0000 |\n",
       "| Palomas       | 309.7500 |\n",
       "| Recoletos     | 161.9254 |\n",
       "\n"
      ],
      "text/plain": [
       "  Barrio        Precio  \n",
       "1 Castellana    141.3889\n",
       "2 El Plantío    150.0000\n",
       "3 Fuentelareina 180.0000\n",
       "4 Palomas       309.7500\n",
       "5 Recoletos     161.9254"
      ]
     },
     "metadata": {},
     "output_type": "display_data"
    }
   ],
   "source": [
    "tB<-aggregate(Precio~Barrio,airbnb_entire,mean,na.rm=TRUE)\n",
    "topB<-top_n(tB, 5, Precio)\n",
    "topBarrios<-data.frame(tB)\n",
    "top_n(topBarrios, 5, Precio)"
   ]
  },
  {
   "cell_type": "markdown",
   "metadata": {},
   "source": [
    "¿Cuantos apartamentos hay en cada uno de esos barrios?\n",
    "\n",
    "Mostrar una dataframe con el nombre del barrio, el precio y el número de entradas.\n",
    "\n",
    "Ayuda: Podeis crear un nuevo dataframe con las columnas \"Barrio\" y \"Freq\" que contenga el número de entradas en cada barrio y hacer un merge con el dataframe del punto anterior."
   ]
  },
  {
   "cell_type": "code",
   "execution_count": 52,
   "metadata": {},
   "outputs": [
    {
     "data": {
      "text/html": [
       "<table>\n",
       "<caption>A data.frame: 5 × 3</caption>\n",
       "<thead>\n",
       "\t<tr><th scope=col>Barrio</th><th scope=col>Precio</th><th scope=col>n</th></tr>\n",
       "\t<tr><th scope=col>&lt;fct&gt;</th><th scope=col>&lt;dbl&gt;</th><th scope=col>&lt;int&gt;</th></tr>\n",
       "</thead>\n",
       "<tbody>\n",
       "\t<tr><td>Castellana   </td><td>141.3889</td><td> 73</td></tr>\n",
       "\t<tr><td>El Plantío   </td><td>150.0000</td><td>  1</td></tr>\n",
       "\t<tr><td>Fuentelareina</td><td>180.0000</td><td>  2</td></tr>\n",
       "\t<tr><td>Palomas      </td><td>309.7500</td><td>  4</td></tr>\n",
       "\t<tr><td>Recoletos    </td><td>161.9254</td><td>135</td></tr>\n",
       "</tbody>\n",
       "</table>\n"
      ],
      "text/latex": [
       "A data.frame: 5 × 3\n",
       "\\begin{tabular}{lll}\n",
       " Barrio & Precio & n\\\\\n",
       " <fct> & <dbl> & <int>\\\\\n",
       "\\hline\n",
       "\t Castellana    & 141.3889 &  73\\\\\n",
       "\t El Plantío    & 150.0000 &   1\\\\\n",
       "\t Fuentelareina & 180.0000 &   2\\\\\n",
       "\t Palomas       & 309.7500 &   4\\\\\n",
       "\t Recoletos     & 161.9254 & 135\\\\\n",
       "\\end{tabular}\n"
      ],
      "text/markdown": [
       "\n",
       "A data.frame: 5 × 3\n",
       "\n",
       "| Barrio &lt;fct&gt; | Precio &lt;dbl&gt; | n &lt;int&gt; |\n",
       "|---|---|---|\n",
       "| Castellana    | 141.3889 |  73 |\n",
       "| El Plantío    | 150.0000 |   1 |\n",
       "| Fuentelareina | 180.0000 |   2 |\n",
       "| Palomas       | 309.7500 |   4 |\n",
       "| Recoletos     | 161.9254 | 135 |\n",
       "\n"
      ],
      "text/plain": [
       "  Barrio        Precio   n  \n",
       "1 Castellana    141.3889  73\n",
       "2 El Plantío    150.0000   1\n",
       "3 Fuentelareina 180.0000   2\n",
       "4 Palomas       309.7500   4\n",
       "5 Recoletos     161.9254 135"
      ]
     },
     "metadata": {},
     "output_type": "display_data"
    }
   ],
   "source": [
    "library(dplyr)\n",
    "F<-airbnb_entire %>%\n",
    "            count(Barrio, sort = TRUE)\n",
    "Freq<-data.frame(F)\n",
    "NumeroEntradas<-merge(topBarrios, Freq)\n",
    "NE<-top_n(NumeroEntradas, 5, Precio)\n",
    "NE"
   ]
  },
  {
   "cell_type": "markdown",
   "metadata": {},
   "source": [
    "Partiendo del dataframe anterior, muestra los 5 barrios con mayor precio, pero que tengan más de 100 entradas de alquiler."
   ]
  },
  {
   "cell_type": "code",
   "execution_count": 35,
   "metadata": {},
   "outputs": [
    {
     "data": {
      "text/html": [
       "<table>\n",
       "<caption>A data.frame: 5 × 3</caption>\n",
       "<thead>\n",
       "\t<tr><th scope=col>Barrio</th><th scope=col>Precio</th><th scope=col>n</th></tr>\n",
       "\t<tr><th scope=col>&lt;fct&gt;</th><th scope=col>&lt;dbl&gt;</th><th scope=col>&lt;int&gt;</th></tr>\n",
       "</thead>\n",
       "<tbody>\n",
       "\t<tr><td>Goya     </td><td>111.33803</td><td>142</td></tr>\n",
       "\t<tr><td>Justicia </td><td> 98.25468</td><td>534</td></tr>\n",
       "\t<tr><td>Recoletos</td><td>161.92537</td><td>135</td></tr>\n",
       "\t<tr><td>Sol      </td><td>100.75036</td><td>701</td></tr>\n",
       "\t<tr><td>Trafalgar</td><td> 98.57848</td><td>223</td></tr>\n",
       "</tbody>\n",
       "</table>\n"
      ],
      "text/latex": [
       "A data.frame: 5 × 3\n",
       "\\begin{tabular}{lll}\n",
       " Barrio & Precio & n\\\\\n",
       " <fct> & <dbl> & <int>\\\\\n",
       "\\hline\n",
       "\t Goya      & 111.33803 & 142\\\\\n",
       "\t Justicia  &  98.25468 & 534\\\\\n",
       "\t Recoletos & 161.92537 & 135\\\\\n",
       "\t Sol       & 100.75036 & 701\\\\\n",
       "\t Trafalgar &  98.57848 & 223\\\\\n",
       "\\end{tabular}\n"
      ],
      "text/markdown": [
       "\n",
       "A data.frame: 5 × 3\n",
       "\n",
       "| Barrio &lt;fct&gt; | Precio &lt;dbl&gt; | n &lt;int&gt; |\n",
       "|---|---|---|\n",
       "| Goya      | 111.33803 | 142 |\n",
       "| Justicia  |  98.25468 | 534 |\n",
       "| Recoletos | 161.92537 | 135 |\n",
       "| Sol       | 100.75036 | 701 |\n",
       "| Trafalgar |  98.57848 | 223 |\n",
       "\n"
      ],
      "text/plain": [
       "  Barrio    Precio    n  \n",
       "1 Goya      111.33803 142\n",
       "2 Justicia   98.25468 534\n",
       "3 Recoletos 161.92537 135\n",
       "4 Sol       100.75036 701\n",
       "5 Trafalgar  98.57848 223"
      ]
     },
     "metadata": {},
     "output_type": "display_data"
    }
   ],
   "source": [
    "CienEntradas<-NumeroEntradas[NumeroEntradas$n > 100,]\n",
    "top_n(CienEntradas, 5, Precio)"
   ]
  },
  {
   "cell_type": "markdown",
   "metadata": {},
   "source": [
    "Dibuja el diagrama de densidad de distribución de los diferentes precios"
   ]
  },
  {
   "cell_type": "code",
   "execution_count": 60,
   "metadata": {},
   "outputs": [
    {
     "name": "stderr",
     "output_type": "stream",
     "text": [
      "Using Barrio as id variables\n",
      "\n"
     ]
    },
    {
     "data": {
      "image/png": "[encoded data removed]",
      "text/plain": [
       "plot without title"
      ]
     },
     "metadata": {
      "image/png": {
       "height": 360,
       "width": 960
      },
      "text/plain": {
       "height": 360,
       "width": 960
      }
     },
     "output_type": "display_data"
    }
   ],
   "source": [
    "library(ggplot2)\n",
    "library(reshape2)\n",
    "options(repr.plot.height=6,repr.plot.width=16)\n",
    "\n",
    "ggplot(data=melt(topBarrios),aes(x=value,color=variable))+geom_density()"
   ]
  },
  {
   "cell_type": "markdown",
   "metadata": {},
   "source": [
    "Calcula el tamaño medio, en metros cuadrados, para los 5 barrios anteriores y muestralo en el mismo dataframe junto con el precio y número de entradas"
   ]
  },
  {
   "cell_type": "code",
   "execution_count": 57,
   "metadata": {},
   "outputs": [
    {
     "data": {
      "text/html": [
       "<table>\n",
       "<caption>A data.frame: 5 × 4</caption>\n",
       "<thead>\n",
       "\t<tr><th scope=col>Barrio</th><th scope=col>Precio</th><th scope=col>n</th><th scope=col>MetrosCuadrados</th></tr>\n",
       "\t<tr><th scope=col>&lt;fct&gt;</th><th scope=col>&lt;dbl&gt;</th><th scope=col>&lt;int&gt;</th><th scope=col>&lt;dbl&gt;</th></tr>\n",
       "</thead>\n",
       "<tbody>\n",
       "\t<tr><td>Goya     </td><td>111.33803</td><td>142</td><td>51.68504</td></tr>\n",
       "\t<tr><td>Justicia </td><td> 98.25468</td><td>534</td><td>28.52669</td></tr>\n",
       "\t<tr><td>Recoletos</td><td>161.92537</td><td>135</td><td>26.66316</td></tr>\n",
       "\t<tr><td>Sol      </td><td>100.75036</td><td>701</td><td>45.61692</td></tr>\n",
       "\t<tr><td>Trafalgar</td><td> 98.57848</td><td>223</td><td>29.30426</td></tr>\n",
       "</tbody>\n",
       "</table>\n"
      ],
      "text/latex": [
       "A data.frame: 5 × 4\n",
       "\\begin{tabular}{llll}\n",
       " Barrio & Precio & n & MetrosCuadrados\\\\\n",
       " <fct> & <dbl> & <int> & <dbl>\\\\\n",
       "\\hline\n",
       "\t Goya      & 111.33803 & 142 & 51.68504\\\\\n",
       "\t Justicia  &  98.25468 & 534 & 28.52669\\\\\n",
       "\t Recoletos & 161.92537 & 135 & 26.66316\\\\\n",
       "\t Sol       & 100.75036 & 701 & 45.61692\\\\\n",
       "\t Trafalgar &  98.57848 & 223 & 29.30426\\\\\n",
       "\\end{tabular}\n"
      ],
      "text/markdown": [
       "\n",
       "A data.frame: 5 × 4\n",
       "\n",
       "| Barrio &lt;fct&gt; | Precio &lt;dbl&gt; | n &lt;int&gt; | MetrosCuadrados &lt;dbl&gt; |\n",
       "|---|---|---|---|\n",
       "| Goya      | 111.33803 | 142 | 51.68504 |\n",
       "| Justicia  |  98.25468 | 534 | 28.52669 |\n",
       "| Recoletos | 161.92537 | 135 | 26.66316 |\n",
       "| Sol       | 100.75036 | 701 | 45.61692 |\n",
       "| Trafalgar |  98.57848 | 223 | 29.30426 |\n",
       "\n"
      ],
      "text/plain": [
       "  Barrio    Precio    n   MetrosCuadrados\n",
       "1 Goya      111.33803 142 51.68504       \n",
       "2 Justicia   98.25468 534 28.52669       \n",
       "3 Recoletos 161.92537 135 26.66316       \n",
       "4 Sol       100.75036 701 45.61692       \n",
       "5 Trafalgar  98.57848 223 29.30426       "
      ]
     },
     "metadata": {},
     "output_type": "display_data"
    }
   ],
   "source": [
    "M<-aggregate(MetrosCuadrados~Barrio,airbnb_entire,mean,na.rm=TRUE)\n",
    "M2<-merge(CienEntradas, M)\n",
    "AvgM<-top_n(M2, 5, Precio)\n",
    "AvgM"
   ]
  },
  {
   "cell_type": "markdown",
   "metadata": {},
   "source": [
    "Dibuja el diagrama de densidad de distribución de los diferentes tamaños de apartamentos"
   ]
  },
  {
   "cell_type": "code",
   "execution_count": 64,
   "metadata": {},
   "outputs": [
    {
     "name": "stderr",
     "output_type": "stream",
     "text": [
      "Using Barrio as id variables\n",
      "\n"
     ]
    },
    {
     "data": {
      "image/png": "[encoded data removed]",
      "text/plain": [
       "plot without title"
      ]
     },
     "metadata": {
      "image/png": {
       "height": 360,
       "width": 960
      },
      "text/plain": {
       "height": 360,
       "width": 960
      }
     },
     "output_type": "display_data"
    }
   ],
   "source": [
    "library(ggplot2)\n",
    "library(reshape2)\n",
    "options(repr.plot.height=6,repr.plot.width=16)\n",
    "\n",
    "ggplot(data=melt(M),aes(x=value,color=variable))+geom_density()"
   ]
  },
  {
   "cell_type": "markdown",
   "metadata": {},
   "source": [
    "Esta claro que las medias de cada uno de estos 5 barrios parecen ser diferentes, pero ¿son estadísticamente diferentes?\n",
    "¿Que test habría que usar para comprobarlo?"
   ]
  },
  {
   "cell_type": "code",
   "execution_count": null,
   "metadata": {},
   "outputs": [],
   "source": [
    "Para comprobar si las medias de varios grupos significativamente diferentes entre sí, se empleará el análisis de varianza o ANOVA:"
   ]
  },
  {
   "cell_type": "code",
   "execution_count": 76,
   "metadata": {},
   "outputs": [
    {
     "data": {
      "text/plain": [
       "               Df   Sum Sq Mean Sq F value Pr(>F)    \n",
       "cl              2  8981217 4490608    1828 <2e-16 ***\n",
       "Residuals   13195 32417217    2457                   \n",
       "---\n",
       "Signif. codes:  0 ‘***’ 0.001 ‘**’ 0.01 ‘*’ 0.05 ‘.’ 0.1 ‘ ’ 1\n",
       "9 observations deleted due to missingness"
      ]
     },
     "metadata": {},
     "output_type": "display_data"
    }
   ],
   "source": [
    "G<-\"51.68504\"\n",
    "J<-\"28.52669\"\n",
    "R<-\"26.66316\"\n",
    "S<-\"45.61692\"\n",
    "T<-\"29.30426\"\n",
    "\n",
    "dataf <- rbind(data.frame(value=G,cl=\"1\"),data.frame(value=J,cl=\"2\"),data.frame(value=R,cl=\"3\"),data.frame(value=S,cl=\"4\"),data.frame(value=T,cl=\"5\"))\n",
    "summary(aov( value ~ cl, data=df))"
   ]
  },
  {
   "cell_type": "code",
   "execution_count": null,
   "metadata": {},
   "outputs": [],
   "source": [
    "El p valor es menor a 0.05, lo que indica que hay diferencias significativas entre las cinco medias."
   ]
  },
  {
   "cell_type": "markdown",
   "metadata": {},
   "source": [
    "Para únicamente los pisos de alquiler en el barrio de Sol:\n",
    "\n",
    "``barrio_sol<-subset(airbnb_entire,Barrio==\"Sol\")``\n",
    "\n",
    "Calcular un modelo lineal que combine alguna de estas variables:\n",
    "* NumBanyos\n",
    "* NumDormitorios\n",
    "* MaxOcupantes\n",
    "* MetrosCuadrados"
   ]
  },
  {
   "cell_type": "code",
   "execution_count": 199,
   "metadata": {},
   "outputs": [],
   "source": [
    "barrio_sol<-subset(airbnb_entire,Barrio==\"Sol\")\n",
    "Modelo<-lm(MetrosCuadrados~NumBanyos, data=barrio_sol)"
   ]
  },
  {
   "cell_type": "markdown",
   "metadata": {},
   "source": [
    "Primero calculamos la correlación para ver como se relacionan estas variables entre sí."
   ]
  },
  {
   "cell_type": "code",
   "execution_count": 106,
   "metadata": {},
   "outputs": [
    {
     "data": {
      "text/plain": [
       "\n",
       "Call:\n",
       "lm(formula = MetrosCuadrados ~ NumBanyos, data = barrio_sol)\n",
       "\n",
       "Residuals:\n",
       "    Min      1Q  Median      3Q     Max \n",
       "-72.863 -32.498  -4.999  27.517 127.157 \n",
       "\n",
       "Coefficients:\n",
       "            Estimate Std. Error t value Pr(>|t|)    \n",
       "(Intercept)   -7.867     14.084  -0.559    0.579    \n",
       "NumBanyos     40.365      9.633   4.190 9.62e-05 ***\n",
       "---\n",
       "Signif. codes:  0 ‘***’ 0.001 ‘**’ 0.01 ‘*’ 0.05 ‘.’ 0.1 ‘ ’ 1\n",
       "\n",
       "Residual standard error: 46.11 on 58 degrees of freedom\n",
       "  (641 observations deleted due to missingness)\n",
       "Multiple R-squared:  0.2324,\tAdjusted R-squared:  0.2191 \n",
       "F-statistic: 17.56 on 1 and 58 DF,  p-value: 9.621e-05\n"
      ]
     },
     "metadata": {},
     "output_type": "display_data"
    }
   ],
   "source": [
    "summary(Modelo)"
   ]
  },
  {
   "cell_type": "markdown",
   "metadata": {},
   "source": [
    "Se observa que la correlación entre el número de dormitorios y los metros cuadrados es sorprendentemente baja.\n",
    "¿Son de fiar esos números?\n",
    "\n",
    "Mediante un histograma o curvas de densidad podemos descartar números que notienen sentido en el dataframe barrio_sol,\n",
    "para tener una matriz de correlación que tenga mayor sentido.\n"
   ]
  },
  {
   "cell_type": "code",
   "execution_count": 207,
   "metadata": {
    "scrolled": true
   },
   "outputs": [
    {
     "data": {
      "text/html": [
       "<style>\n",
       ".list-inline {list-style: none; margin:0; padding: 0}\n",
       ".list-inline>li {display: inline-block}\n",
       ".list-inline>li:not(:last-child)::after {content: \"\\00b7\"; padding: 0 .5ex}\n",
       "</style>\n",
       "<ol class=list-inline><li>60.015338</li><li>&lt;NA&gt;</li><li>69.955959</li><li>24.990907</li><li>0</li><li>200.020159</li><li>49.981814</li><li>134.988059</li><li>85.006245</li><li>40.041193</li><li>4.180635</li><li>82.033349</li><li>19.045115</li><li>65.0321</li><li>4.64515</li><li>44.965052</li><li>120.030676</li><li>150.038345</li><li>19.974145</li><li>37.997327</li><li>36.975394</li><li>54.998576</li><li>115.013914</li><li>30.007669</li><li>57.971472</li><li>56.020509</li><li>164.995728</li><li>74.972721</li><li>6.596113</li><li>99.963628</li><li>87.979141</li><li>9.2903</li></ol>\n"
      ],
      "text/latex": [
       "\\begin{enumerate*}\n",
       "\\item 60.015338\n",
       "\\item <NA>\n",
       "\\item 69.955959\n",
       "\\item 24.990907\n",
       "\\item 0\n",
       "\\item 200.020159\n",
       "\\item 49.981814\n",
       "\\item 134.988059\n",
       "\\item 85.006245\n",
       "\\item 40.041193\n",
       "\\item 4.180635\n",
       "\\item 82.033349\n",
       "\\item 19.045115\n",
       "\\item 65.0321\n",
       "\\item 4.64515\n",
       "\\item 44.965052\n",
       "\\item 120.030676\n",
       "\\item 150.038345\n",
       "\\item 19.974145\n",
       "\\item 37.997327\n",
       "\\item 36.975394\n",
       "\\item 54.998576\n",
       "\\item 115.013914\n",
       "\\item 30.007669\n",
       "\\item 57.971472\n",
       "\\item 56.020509\n",
       "\\item 164.995728\n",
       "\\item 74.972721\n",
       "\\item 6.596113\n",
       "\\item 99.963628\n",
       "\\item 87.979141\n",
       "\\item 9.2903\n",
       "\\end{enumerate*}\n"
      ],
      "text/markdown": [
       "1. 60.015338\n",
       "2. &lt;NA&gt;\n",
       "3. 69.955959\n",
       "4. 24.990907\n",
       "5. 0\n",
       "6. 200.020159\n",
       "7. 49.981814\n",
       "8. 134.988059\n",
       "9. 85.006245\n",
       "10. 40.041193\n",
       "11. 4.180635\n",
       "12. 82.033349\n",
       "13. 19.045115\n",
       "14. 65.0321\n",
       "15. 4.64515\n",
       "16. 44.965052\n",
       "17. 120.030676\n",
       "18. 150.038345\n",
       "19. 19.974145\n",
       "20. 37.997327\n",
       "21. 36.975394\n",
       "22. 54.998576\n",
       "23. 115.013914\n",
       "24. 30.007669\n",
       "25. 57.971472\n",
       "26. 56.020509\n",
       "27. 164.995728\n",
       "28. 74.972721\n",
       "29. 6.596113\n",
       "30. 99.963628\n",
       "31. 87.979141\n",
       "32. 9.2903\n",
       "\n",
       "\n"
      ],
      "text/plain": [
       " [1]  60.015338         NA  69.955959  24.990907   0.000000 200.020159\n",
       " [7]  49.981814 134.988059  85.006245  40.041193   4.180635  82.033349\n",
       "[13]  19.045115  65.032100   4.645150  44.965052 120.030676 150.038345\n",
       "[19]  19.974145  37.997327  36.975394  54.998576 115.013914  30.007669\n",
       "[25]  57.971472  56.020509 164.995728  74.972721   6.596113  99.963628\n",
       "[31]  87.979141   9.290300"
      ]
     },
     "metadata": {},
     "output_type": "display_data"
    },
    {
     "data": {
      "text/html": [
       "<style>\n",
       ".list-inline {list-style: none; margin:0; padding: 0}\n",
       ".list-inline>li {display: inline-block}\n",
       ".list-inline>li:not(:last-child)::after {content: \"\\00b7\"; padding: 0 .5ex}\n",
       "</style>\n",
       "<ol class=list-inline><li>1</li><li>2</li><li>4</li><li>2.5</li><li>3</li><li>1.5</li><li>6</li></ol>\n"
      ],
      "text/latex": [
       "\\begin{enumerate*}\n",
       "\\item 1\n",
       "\\item 2\n",
       "\\item 4\n",
       "\\item 2.5\n",
       "\\item 3\n",
       "\\item 1.5\n",
       "\\item 6\n",
       "\\end{enumerate*}\n"
      ],
      "text/markdown": [
       "1. 1\n",
       "2. 2\n",
       "3. 4\n",
       "4. 2.5\n",
       "5. 3\n",
       "6. 1.5\n",
       "7. 6\n",
       "\n",
       "\n"
      ],
      "text/plain": [
       "[1] 1.0 2.0 4.0 2.5 3.0 1.5 6.0"
      ]
     },
     "metadata": {},
     "output_type": "display_data"
    },
    {
     "data": {
      "image/png": "[encoded data removed]",
      "text/plain": [
       "plot without title"
      ]
     },
     "metadata": {
      "image/png": {
       "height": 360,
       "width": 960
      },
      "text/plain": {
       "height": 360,
       "width": 960
      }
     },
     "output_type": "display_data"
    }
   ],
   "source": [
    "unique(barrio_sol$MetrosCuadrados)\n",
    "unique(barrio_sol$NumBanyos)\n",
    "\n",
    "Banyos<-barrio_sol$NumBanyos\n",
    "Metros<-barrio_sol$MetrosCuadrados\n",
    "plot(Banyos, Metros)"
   ]
  },
  {
   "cell_type": "code",
   "execution_count": 198,
   "metadata": {},
   "outputs": [
    {
     "data": {
      "text/html": [
       "<style>\n",
       ".list-inline {list-style: none; margin:0; padding: 0}\n",
       ".list-inline>li {display: inline-block}\n",
       ".list-inline>li:not(:last-child)::after {content: \"\\00b7\"; padding: 0 .5ex}\n",
       "</style>\n",
       "<ol class=list-inline><li>60.015338</li><li>69.955959</li><li>24.990907</li><li>200.020159</li><li>49.981814</li><li>134.988059</li><li>85.006245</li><li>40.041193</li><li>4.180635</li><li>82.033349</li><li>19.045115</li><li>65.0321</li><li>4.64515</li><li>44.965052</li><li>150.038345</li><li>19.974145</li><li>37.997327</li><li>36.975394</li><li>54.998576</li><li>30.007669</li><li>120.030676</li><li>57.971472</li><li>56.020509</li><li>164.995728</li><li>74.972721</li><li>6.596113</li><li>99.963628</li><li>87.979141</li></ol>\n"
      ],
      "text/latex": [
       "\\begin{enumerate*}\n",
       "\\item 60.015338\n",
       "\\item 69.955959\n",
       "\\item 24.990907\n",
       "\\item 200.020159\n",
       "\\item 49.981814\n",
       "\\item 134.988059\n",
       "\\item 85.006245\n",
       "\\item 40.041193\n",
       "\\item 4.180635\n",
       "\\item 82.033349\n",
       "\\item 19.045115\n",
       "\\item 65.0321\n",
       "\\item 4.64515\n",
       "\\item 44.965052\n",
       "\\item 150.038345\n",
       "\\item 19.974145\n",
       "\\item 37.997327\n",
       "\\item 36.975394\n",
       "\\item 54.998576\n",
       "\\item 30.007669\n",
       "\\item 120.030676\n",
       "\\item 57.971472\n",
       "\\item 56.020509\n",
       "\\item 164.995728\n",
       "\\item 74.972721\n",
       "\\item 6.596113\n",
       "\\item 99.963628\n",
       "\\item 87.979141\n",
       "\\end{enumerate*}\n"
      ],
      "text/markdown": [
       "1. 60.015338\n",
       "2. 69.955959\n",
       "3. 24.990907\n",
       "4. 200.020159\n",
       "5. 49.981814\n",
       "6. 134.988059\n",
       "7. 85.006245\n",
       "8. 40.041193\n",
       "9. 4.180635\n",
       "10. 82.033349\n",
       "11. 19.045115\n",
       "12. 65.0321\n",
       "13. 4.64515\n",
       "14. 44.965052\n",
       "15. 150.038345\n",
       "16. 19.974145\n",
       "17. 37.997327\n",
       "18. 36.975394\n",
       "19. 54.998576\n",
       "20. 30.007669\n",
       "21. 120.030676\n",
       "22. 57.971472\n",
       "23. 56.020509\n",
       "24. 164.995728\n",
       "25. 74.972721\n",
       "26. 6.596113\n",
       "27. 99.963628\n",
       "28. 87.979141\n",
       "\n",
       "\n"
      ],
      "text/plain": [
       " [1]  60.015338  69.955959  24.990907 200.020159  49.981814 134.988059\n",
       " [7]  85.006245  40.041193   4.180635  82.033349  19.045115  65.032100\n",
       "[13]   4.645150  44.965052 150.038345  19.974145  37.997327  36.975394\n",
       "[19]  54.998576  30.007669 120.030676  57.971472  56.020509 164.995728\n",
       "[25]  74.972721   6.596113  99.963628  87.979141"
      ]
     },
     "metadata": {},
     "output_type": "display_data"
    },
    {
     "data": {
      "text/html": [
       "<style>\n",
       ".list-inline {list-style: none; margin:0; padding: 0}\n",
       ".list-inline>li {display: inline-block}\n",
       ".list-inline>li:not(:last-child)::after {content: \"\\00b7\"; padding: 0 .5ex}\n",
       "</style>\n",
       "<ol class=list-inline><li>1</li><li>2</li></ol>\n"
      ],
      "text/latex": [
       "\\begin{enumerate*}\n",
       "\\item 1\n",
       "\\item 2\n",
       "\\end{enumerate*}\n"
      ],
      "text/markdown": [
       "1. 1\n",
       "2. 2\n",
       "\n",
       "\n"
      ],
      "text/plain": [
       "[1] 1 2"
      ]
     },
     "metadata": {},
     "output_type": "display_data"
    },
    {
     "data": {
      "image/png": "[encoded data removed]",
      "text/plain": [
       "plot without title"
      ]
     },
     "metadata": {
      "image/png": {
       "height": 360,
       "width": 960
      },
      "text/plain": {
       "height": 360,
       "width": 960
      }
     },
     "output_type": "display_data"
    }
   ],
   "source": [
    "barrio_sol$NumBanyos[barrio_sol$NumBanyos=='1.5'] <-1\n",
    "barrio_sol$NumBanyos[barrio_sol$NumBanyos=='2.5'] <-2\n",
    "barrio_sol$NumBanyos[barrio_sol$NumBanyos=='3'] <-NA\n",
    "barrio_sol$NumBanyos[barrio_sol$NumBanyos=='4'] <-NA\n",
    "barrio_sol$MetrosCuadrados[barrio_sol$MetrosCuadrados=='0'] <-NA\n",
    "barrio_sol$MetrosCuadrados[barrio_sol$MetrosCuadrados=='9.2903'] <-NA\n",
    "barrio_sol2<-barrio_sol[complete.cases(barrio_sol),]\n",
    "unique(barrio_sol2$MetrosCuadrados)\n",
    "unique(barrio_sol2$NumBanyos)\n",
    "Banyos2<-barrio_sol2$NumBanyos\n",
    "Metros2<-barrio_sol2$MetrosCuadrados\n",
    "plot(Banyos, Metros)"
   ]
  },
  {
   "cell_type": "markdown",
   "metadata": {},
   "source": [
    "Una vez que hayamos filtrado los datos correspondientes calcular el valor o la combinación de valores que mejor nos permite obtener el precio de un inmueble."
   ]
  },
  {
   "cell_type": "code",
   "execution_count": 202,
   "metadata": {},
   "outputs": [
    {
     "data": {
      "text/plain": [
       "\n",
       "Call:\n",
       "lm(formula = NumBanyos ~ Precio, data = barrio_sol2)\n",
       "\n",
       "Residuals:\n",
       "     Min       1Q   Median       3Q      Max \n",
       "-0.45019 -0.13185 -0.06265  0.02454  0.81002 \n",
       "\n",
       "Coefficients:\n",
       "             Estimate Std. Error t value Pr(>|t|)    \n",
       "(Intercept) 0.6474359  0.0973063   6.654 1.24e-07 ***\n",
       "Precio      0.0055362  0.0008688   6.372 2.84e-07 ***\n",
       "---\n",
       "Signif. codes:  0 ‘***’ 0.001 ‘**’ 0.01 ‘*’ 0.05 ‘.’ 0.1 ‘ ’ 1\n",
       "\n",
       "Residual standard error: 0.2749 on 34 degrees of freedom\n",
       "Multiple R-squared:  0.5443,\tAdjusted R-squared:  0.5309 \n",
       "F-statistic: 40.61 on 1 and 34 DF,  p-value: 2.842e-07\n"
      ]
     },
     "metadata": {},
     "output_type": "display_data"
    }
   ],
   "source": [
    "MBanyos<-lm(NumBanyos~Precio, data=barrio_sol2)\n",
    "summary(MBanyos)"
   ]
  },
  {
   "cell_type": "code",
   "execution_count": 204,
   "metadata": {},
   "outputs": [
    {
     "data": {
      "text/plain": [
       "\n",
       "Call:\n",
       "lm(formula = NumDormitorios ~ Precio, data = barrio_sol2)\n",
       "\n",
       "Residuals:\n",
       "     Min       1Q   Median       3Q      Max \n",
       "-0.87559 -0.33674 -0.07599  0.23604  2.59756 \n",
       "\n",
       "Coefficients:\n",
       "            Estimate Std. Error t value Pr(>|t|)    \n",
       "(Intercept) -0.44132    0.21387  -2.064   0.0468 *  \n",
       "Precio       0.01909    0.00191   9.995 1.18e-11 ***\n",
       "---\n",
       "Signif. codes:  0 ‘***’ 0.001 ‘**’ 0.01 ‘*’ 0.05 ‘.’ 0.1 ‘ ’ 1\n",
       "\n",
       "Residual standard error: 0.6043 on 34 degrees of freedom\n",
       "Multiple R-squared:  0.7461,\tAdjusted R-squared:  0.7386 \n",
       "F-statistic:  99.9 on 1 and 34 DF,  p-value: 1.182e-11\n"
      ]
     },
     "metadata": {},
     "output_type": "display_data"
    }
   ],
   "source": [
    "MDormitorios<-lm(NumDormitorios~Precio, data=barrio_sol2)\n",
    "summary(MDormitorios)"
   ]
  },
  {
   "cell_type": "code",
   "execution_count": 205,
   "metadata": {},
   "outputs": [
    {
     "data": {
      "text/plain": [
       "\n",
       "Call:\n",
       "lm(formula = MaxOcupantes ~ Precio, data = barrio_sol2)\n",
       "\n",
       "Residuals:\n",
       "    Min      1Q  Median      3Q     Max \n",
       "-1.9115 -1.2202  0.0434  0.4642  5.6075 \n",
       "\n",
       "Coefficients:\n",
       "            Estimate Std. Error t value Pr(>|t|)    \n",
       "(Intercept) 1.446671   0.543850    2.66   0.0118 *  \n",
       "Precio      0.030059   0.004856    6.19 4.88e-07 ***\n",
       "---\n",
       "Signif. codes:  0 ‘***’ 0.001 ‘**’ 0.01 ‘*’ 0.05 ‘.’ 0.1 ‘ ’ 1\n",
       "\n",
       "Residual standard error: 1.537 on 34 degrees of freedom\n",
       "Multiple R-squared:  0.5299,\tAdjusted R-squared:  0.516 \n",
       "F-statistic: 38.32 on 1 and 34 DF,  p-value: 4.881e-07\n"
      ]
     },
     "metadata": {},
     "output_type": "display_data"
    }
   ],
   "source": [
    "MOcupantes<-lm(MaxOcupantes~Precio, data=barrio_sol2)\n",
    "summary(MOcupantes)"
   ]
  },
  {
   "cell_type": "code",
   "execution_count": 203,
   "metadata": {},
   "outputs": [
    {
     "data": {
      "text/plain": [
       "\n",
       "Call:\n",
       "lm(formula = MetrosCuadrados ~ Precio, data = barrio_sol2)\n",
       "\n",
       "Residuals:\n",
       "    Min      1Q  Median      3Q     Max \n",
       "-65.864 -17.183  -0.334  13.113  68.425 \n",
       "\n",
       "Coefficients:\n",
       "            Estimate Std. Error t value Pr(>|t|)    \n",
       "(Intercept)  -5.8887    11.3666  -0.518    0.608    \n",
       "Precio        0.7393     0.1015   7.285 1.95e-08 ***\n",
       "---\n",
       "Signif. codes:  0 ‘***’ 0.001 ‘**’ 0.01 ‘*’ 0.05 ‘.’ 0.1 ‘ ’ 1\n",
       "\n",
       "Residual standard error: 32.11 on 34 degrees of freedom\n",
       "Multiple R-squared:  0.6095,\tAdjusted R-squared:  0.598 \n",
       "F-statistic: 53.07 on 1 and 34 DF,  p-value: 1.953e-08\n"
      ]
     },
     "metadata": {},
     "output_type": "display_data"
    }
   ],
   "source": [
    "MMetros<-lm(MetrosCuadrados~Precio, data=barrio_sol2)\n",
    "summary(MMetros)"
   ]
  },
  {
   "cell_type": "code",
   "execution_count": null,
   "metadata": {},
   "outputs": [],
   "source": [
    "De las cuatro variables posibles, la que mejor predice el precio de un inmueble es \"NumDormitorios\", \n",
    "pues su relación lineal con Precio presenta el R2 más alto."
   ]
  },
  {
   "cell_type": "markdown",
   "metadata": {},
   "source": [
    "¿Que variable es más fiable para conocer el precio de un inmueble, el número de habitaciones o los metros cuadrados?"
   ]
  },
  {
   "cell_type": "code",
   "execution_count": null,
   "metadata": {},
   "outputs": [],
   "source": [
    "Por lo expuesto en el apartado anterior, el número de habitaciones es un mejor predictor del precio de un inmueble que\n",
    "los metros cuadrados."
   ]
  },
  {
   "cell_type": "markdown",
   "metadata": {},
   "source": [
    "Responde con su correspondiente margen de error del 95%, ¿cuantos euros incrementa el precio del alquiler por cada metro cuadrado extra del piso?"
   ]
  },
  {
   "cell_type": "code",
   "execution_count": 210,
   "metadata": {},
   "outputs": [
    {
     "data": {
      "text/html": [
       "<table>\n",
       "<caption>A matrix: 2 × 2 of type dbl</caption>\n",
       "<thead>\n",
       "\t<tr><th></th><th scope=col>5 %</th><th scope=col>95 %</th></tr>\n",
       "</thead>\n",
       "<tbody>\n",
       "\t<tr><th scope=row>(Intercept)</th><td>-25.1088062</td><td>13.331360</td></tr>\n",
       "\t<tr><th scope=row>Precio</th><td>  0.5676956</td><td> 0.910911</td></tr>\n",
       "</tbody>\n",
       "</table>\n"
      ],
      "text/latex": [
       "A matrix: 2 × 2 of type dbl\n",
       "\\begin{tabular}{r|ll}\n",
       "  & 5 \\% & 95 \\%\\\\\n",
       "\\hline\n",
       "\t(Intercept) & -25.1088062 & 13.331360\\\\\n",
       "\tPrecio &   0.5676956 &  0.910911\\\\\n",
       "\\end{tabular}\n"
      ],
      "text/markdown": [
       "\n",
       "A matrix: 2 × 2 of type dbl\n",
       "\n",
       "| <!--/--> | 5 % | 95 % |\n",
       "|---|---|---|\n",
       "| (Intercept) | -25.1088062 | 13.331360 |\n",
       "| Precio |   0.5676956 |  0.910911 |\n",
       "\n"
      ],
      "text/plain": [
       "            5 %         95 %     \n",
       "(Intercept) -25.1088062 13.331360\n",
       "Precio        0.5676956  0.910911"
      ]
     },
     "metadata": {},
     "output_type": "display_data"
    }
   ],
   "source": [
    "confint(MMetros, level=0.9)"
   ]
  },
  {
   "cell_type": "code",
   "execution_count": null,
   "metadata": {},
   "outputs": [],
   "source": [
    "El coeficiente de la regresión lineal se ha calculado con anterioridad: '0.598'."
   ]
  },
  {
   "cell_type": "markdown",
   "metadata": {},
   "source": [
    "Responde con su correspondiente margen de error del 95%, ¿cuantos euros incrementa el precio del alquiler por cada habitación?"
   ]
  },
  {
   "cell_type": "code",
   "execution_count": 211,
   "metadata": {},
   "outputs": [
    {
     "data": {
      "text/html": [
       "<table>\n",
       "<caption>A matrix: 2 × 2 of type dbl</caption>\n",
       "<thead>\n",
       "\t<tr><th></th><th scope=col>5 %</th><th scope=col>95 %</th></tr>\n",
       "</thead>\n",
       "<tbody>\n",
       "\t<tr><th scope=row>(Intercept)</th><td>-0.80295581</td><td>-0.07968298</td></tr>\n",
       "\t<tr><th scope=row>Precio</th><td> 0.01585671</td><td> 0.02231450</td></tr>\n",
       "</tbody>\n",
       "</table>\n"
      ],
      "text/latex": [
       "A matrix: 2 × 2 of type dbl\n",
       "\\begin{tabular}{r|ll}\n",
       "  & 5 \\% & 95 \\%\\\\\n",
       "\\hline\n",
       "\t(Intercept) & -0.80295581 & -0.07968298\\\\\n",
       "\tPrecio &  0.01585671 &  0.02231450\\\\\n",
       "\\end{tabular}\n"
      ],
      "text/markdown": [
       "\n",
       "A matrix: 2 × 2 of type dbl\n",
       "\n",
       "| <!--/--> | 5 % | 95 % |\n",
       "|---|---|---|\n",
       "| (Intercept) | -0.80295581 | -0.07968298 |\n",
       "| Precio |  0.01585671 |  0.02231450 |\n",
       "\n"
      ],
      "text/plain": [
       "            5 %         95 %       \n",
       "(Intercept) -0.80295581 -0.07968298\n",
       "Precio       0.01585671  0.02231450"
      ]
     },
     "metadata": {},
     "output_type": "display_data"
    }
   ],
   "source": [
    "confint(MDormitorios, level=0.9)"
   ]
  },
  {
   "cell_type": "code",
   "execution_count": null,
   "metadata": {},
   "outputs": [],
   "source": [
    "El coeficiente de la regresión lineal se ha calculado con anterioridad: '0.7386'."
   ]
  },
  {
   "cell_type": "markdown",
   "metadata": {},
   "source": [
    "¿Cual es la probabilidad de encontrar, en el barrio de Sol, un apartamento en alquiler con 3 dormitorios?\n",
    "¿Cual es el margen de error de esa probabilidad?"
   ]
  },
  {
   "cell_type": "code",
   "execution_count": null,
   "metadata": {},
   "outputs": [],
   "source": [
    "Para calcular la probabilidad, primero es necesario saber cuántos apartamentos completos hay en alquiler en el barrio de Sol:"
   ]
  },
  {
   "cell_type": "code",
   "execution_count": 227,
   "metadata": {},
   "outputs": [
    {
     "data": {
      "text/html": [
       "<table>\n",
       "<caption>A tibble: 1 × 1</caption>\n",
       "<thead>\n",
       "\t<tr><th scope=col>n</th></tr>\n",
       "\t<tr><th scope=col>&lt;int&gt;</th></tr>\n",
       "</thead>\n",
       "<tbody>\n",
       "\t<tr><td>701</td></tr>\n",
       "</tbody>\n",
       "</table>\n"
      ],
      "text/latex": [
       "A tibble: 1 × 1\n",
       "\\begin{tabular}{l}\n",
       " n\\\\\n",
       " <int>\\\\\n",
       "\\hline\n",
       "\t 701\\\\\n",
       "\\end{tabular}\n"
      ],
      "text/markdown": [
       "\n",
       "A tibble: 1 × 1\n",
       "\n",
       "| n &lt;int&gt; |\n",
       "|---|\n",
       "| 701 |\n",
       "\n"
      ],
      "text/plain": [
       "  n  \n",
       "1 701"
      ]
     },
     "metadata": {},
     "output_type": "display_data"
    }
   ],
   "source": [
    "barrio_solC<-rbind(data.frame(barrio_sol[barrio_sol$TipoAlquiler %in% 'Entire home/apt',]))\n",
    "Totales<-count(barrio_solC)\n",
    "Totales"
   ]
  },
  {
   "cell_type": "code",
   "execution_count": null,
   "metadata": {},
   "outputs": [],
   "source": [
    "A continuación, se calcula el número total de apartamentos completos con tres dormitorios:"
   ]
  },
  {
   "cell_type": "code",
   "execution_count": 225,
   "metadata": {},
   "outputs": [
    {
     "data": {
      "text/html": [
       "<table>\n",
       "<caption>A tibble: 1 × 1</caption>\n",
       "<thead>\n",
       "\t<tr><th scope=col>n</th></tr>\n",
       "\t<tr><th scope=col>&lt;int&gt;</th></tr>\n",
       "</thead>\n",
       "<tbody>\n",
       "\t<tr><td>55</td></tr>\n",
       "</tbody>\n",
       "</table>\n"
      ],
      "text/latex": [
       "A tibble: 1 × 1\n",
       "\\begin{tabular}{l}\n",
       " n\\\\\n",
       " <int>\\\\\n",
       "\\hline\n",
       "\t 55\\\\\n",
       "\\end{tabular}\n"
      ],
      "text/markdown": [
       "\n",
       "A tibble: 1 × 1\n",
       "\n",
       "| n &lt;int&gt; |\n",
       "|---|\n",
       "| 55 |\n",
       "\n"
      ],
      "text/plain": [
       "  n \n",
       "1 55"
      ]
     },
     "metadata": {},
     "output_type": "display_data"
    }
   ],
   "source": [
    "barrio_solC3<-rbind(data.frame(barrio_solC[barrio_solC$NumDormitorios %in% '3',]))\n",
    "Favorables<-count(barrio_solC3)\n",
    "Favorables"
   ]
  },
  {
   "cell_type": "code",
   "execution_count": null,
   "metadata": {},
   "outputs": [],
   "source": [
    "La probabilidad se define como el número de casos favorables dividido entre el número de casos posibles. De modo que:"
   ]
  },
  {
   "cell_type": "code",
   "execution_count": 228,
   "metadata": {},
   "outputs": [
    {
     "data": {
      "text/html": [
       "<table>\n",
       "<caption>A data.frame: 1 × 1</caption>\n",
       "<thead>\n",
       "\t<tr><th scope=col>n</th></tr>\n",
       "\t<tr><th scope=col>&lt;dbl&gt;</th></tr>\n",
       "</thead>\n",
       "<tbody>\n",
       "\t<tr><td>0.07845934</td></tr>\n",
       "</tbody>\n",
       "</table>\n"
      ],
      "text/latex": [
       "A data.frame: 1 × 1\n",
       "\\begin{tabular}{l}\n",
       " n\\\\\n",
       " <dbl>\\\\\n",
       "\\hline\n",
       "\t 0.07845934\\\\\n",
       "\\end{tabular}\n"
      ],
      "text/markdown": [
       "\n",
       "A data.frame: 1 × 1\n",
       "\n",
       "| n &lt;dbl&gt; |\n",
       "|---|\n",
       "| 0.07845934 |\n",
       "\n"
      ],
      "text/plain": [
       "  n         \n",
       "1 0.07845934"
      ]
     },
     "metadata": {},
     "output_type": "display_data"
    }
   ],
   "source": [
    "Favorables/Totales"
   ]
  },
  {
   "cell_type": "code",
   "execution_count": null,
   "metadata": {},
   "outputs": [],
   "source": [
    "La probabilidad es de 0.0785, o 78,5%."
   ]
  },
  {
   "cell_type": "code",
   "execution_count": null,
   "metadata": {},
   "outputs": [],
   "source": [
    "El margen de error se obtiene mediante la siguente fórmula:"
   ]
  },
  {
   "cell_type": "code",
   "execution_count": null,
   "metadata": {},
   "outputs": [],
   "source": [
    "E=z* √((ρ (1-ρ))/n)\n",
    "\n",
    "ρ: probabilidad --> 0.07845934\n",
    "n: tamaño de la muestra --> 701\n",
    "z: valor estimado según el intervalo de confianza deseado --> Para 95%: '1.96'"
   ]
  },
  {
   "cell_type": "code",
   "execution_count": 233,
   "metadata": {},
   "outputs": [
    {
     "data": {
      "text/html": [
       "0.0199056626008044"
      ],
      "text/latex": [
       "0.0199056626008044"
      ],
      "text/markdown": [
       "0.0199056626008044"
      ],
      "text/plain": [
       "[1] 0.01990566"
      ]
     },
     "metadata": {},
     "output_type": "display_data"
    }
   ],
   "source": [
    "E = 1.96*(sqrt((0.07845934*(1-0.07845934)/701)))\n",
    "E"
   ]
  },
  {
   "cell_type": "code",
   "execution_count": null,
   "metadata": {},
   "outputs": [],
   "source": [
    "El error de la probabilidad de encontrar un piso completo con 3 dormitorios en alquiler en el barrio de Sol es de 0.02."
   ]
  }
 ],
 "metadata": {
  "kernelspec": {
   "display_name": "R",
   "language": "R",
   "name": "ir"
  },
  "language_info": {
   "codemirror_mode": "r",
   "file_extension": ".r",
   "mimetype": "text/x-r-source",
   "name": "R",
   "pygments_lexer": "r",
   "version": "3.6.0"
  }
 },
 "nbformat": 4,
 "nbformat_minor": 2
}
